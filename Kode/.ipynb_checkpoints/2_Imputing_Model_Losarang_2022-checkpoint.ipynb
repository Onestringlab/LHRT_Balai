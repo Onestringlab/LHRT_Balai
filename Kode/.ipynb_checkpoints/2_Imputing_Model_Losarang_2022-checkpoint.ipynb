{
 "cells": [
  {
   "cell_type": "code",
   "execution_count": 1,
   "id": "ab85c1b5-a8e1-4652-a3b5-86c9b1a4eb44",
   "metadata": {},
   "outputs": [
    {
     "ename": "KeyboardInterrupt",
     "evalue": "",
     "output_type": "error",
     "traceback": [
      "\u001b[0;31m---------------------------------------------------------------------------\u001b[0m",
      "\u001b[0;31mKeyboardInterrupt\u001b[0m                         Traceback (most recent call last)",
      "Cell \u001b[0;32mIn[1], line 2\u001b[0m\n\u001b[1;32m      1\u001b[0m \u001b[38;5;28;01mimport\u001b[39;00m \u001b[38;5;21;01mos\u001b[39;00m\n\u001b[0;32m----> 2\u001b[0m \u001b[38;5;28;01mimport\u001b[39;00m \u001b[38;5;21;01mnumpy\u001b[39;00m \u001b[38;5;28;01mas\u001b[39;00m \u001b[38;5;21;01mnp\u001b[39;00m\n\u001b[1;32m      3\u001b[0m \u001b[38;5;28;01mimport\u001b[39;00m \u001b[38;5;21;01mpandas\u001b[39;00m \u001b[38;5;28;01mas\u001b[39;00m \u001b[38;5;21;01mpd\u001b[39;00m\n\u001b[1;32m      4\u001b[0m \u001b[38;5;28;01mimport\u001b[39;00m \u001b[38;5;21;01mpickle\u001b[39;00m\n",
      "File \u001b[0;32m~/miniconda3/envs/py31012/lib/python3.10/site-packages/numpy/__init__.py:144\u001b[0m\n\u001b[1;32m    142\u001b[0m \u001b[38;5;28;01mfrom\u001b[39;00m \u001b[38;5;21;01m.\u001b[39;00m \u001b[38;5;28;01mimport\u001b[39;00m exceptions\n\u001b[1;32m    143\u001b[0m \u001b[38;5;28;01mfrom\u001b[39;00m \u001b[38;5;21;01m.\u001b[39;00m \u001b[38;5;28;01mimport\u001b[39;00m dtypes\n\u001b[0;32m--> 144\u001b[0m \u001b[38;5;28;01mfrom\u001b[39;00m \u001b[38;5;21;01m.\u001b[39;00m \u001b[38;5;28;01mimport\u001b[39;00m lib\n\u001b[1;32m    145\u001b[0m \u001b[38;5;66;03m# NOTE: to be revisited following future namespace cleanup.\u001b[39;00m\n\u001b[1;32m    146\u001b[0m \u001b[38;5;66;03m# See gh-14454 and gh-15672 for discussion.\u001b[39;00m\n\u001b[1;32m    147\u001b[0m \u001b[38;5;28;01mfrom\u001b[39;00m \u001b[38;5;21;01m.\u001b[39;00m\u001b[38;5;21;01mlib\u001b[39;00m \u001b[38;5;28;01mimport\u001b[39;00m \u001b[38;5;241m*\u001b[39m\n",
      "File \u001b[0;32m~/miniconda3/envs/py31012/lib/python3.10/site-packages/numpy/lib/__init__.py:25\u001b[0m\n\u001b[1;32m     22\u001b[0m \u001b[38;5;66;03m# Private submodules\u001b[39;00m\n\u001b[1;32m     23\u001b[0m \u001b[38;5;66;03m# load module names. See https://github.com/networkx/networkx/issues/5838\u001b[39;00m\n\u001b[1;32m     24\u001b[0m \u001b[38;5;28;01mfrom\u001b[39;00m \u001b[38;5;21;01m.\u001b[39;00m \u001b[38;5;28;01mimport\u001b[39;00m type_check\n\u001b[0;32m---> 25\u001b[0m \u001b[38;5;28;01mfrom\u001b[39;00m \u001b[38;5;21;01m.\u001b[39;00m \u001b[38;5;28;01mimport\u001b[39;00m index_tricks\n\u001b[1;32m     26\u001b[0m \u001b[38;5;28;01mfrom\u001b[39;00m \u001b[38;5;21;01m.\u001b[39;00m \u001b[38;5;28;01mimport\u001b[39;00m function_base\n\u001b[1;32m     27\u001b[0m \u001b[38;5;28;01mfrom\u001b[39;00m \u001b[38;5;21;01m.\u001b[39;00m \u001b[38;5;28;01mimport\u001b[39;00m nanfunctions\n",
      "File \u001b[0;32m~/miniconda3/envs/py31012/lib/python3.10/site-packages/numpy/lib/index_tricks.py:12\u001b[0m\n\u001b[1;32m      9\u001b[0m \u001b[38;5;28;01mfrom\u001b[39;00m \u001b[38;5;21;01mnumpy\u001b[39;00m\u001b[38;5;21;01m.\u001b[39;00m\u001b[38;5;21;01mcore\u001b[39;00m\u001b[38;5;21;01m.\u001b[39;00m\u001b[38;5;21;01mnumeric\u001b[39;00m \u001b[38;5;28;01mimport\u001b[39;00m ScalarType, array\n\u001b[1;32m     10\u001b[0m \u001b[38;5;28;01mfrom\u001b[39;00m \u001b[38;5;21;01mnumpy\u001b[39;00m\u001b[38;5;21;01m.\u001b[39;00m\u001b[38;5;21;01mcore\u001b[39;00m\u001b[38;5;21;01m.\u001b[39;00m\u001b[38;5;21;01mnumerictypes\u001b[39;00m \u001b[38;5;28;01mimport\u001b[39;00m issubdtype\n\u001b[0;32m---> 12\u001b[0m \u001b[38;5;28;01mimport\u001b[39;00m \u001b[38;5;21;01mnumpy\u001b[39;00m\u001b[38;5;21;01m.\u001b[39;00m\u001b[38;5;21;01mmatrixlib\u001b[39;00m \u001b[38;5;28;01mas\u001b[39;00m \u001b[38;5;21;01mmatrixlib\u001b[39;00m\n\u001b[1;32m     13\u001b[0m \u001b[38;5;28;01mfrom\u001b[39;00m \u001b[38;5;21;01m.\u001b[39;00m\u001b[38;5;21;01mfunction_base\u001b[39;00m \u001b[38;5;28;01mimport\u001b[39;00m diff\n\u001b[1;32m     14\u001b[0m \u001b[38;5;28;01mfrom\u001b[39;00m \u001b[38;5;21;01mnumpy\u001b[39;00m\u001b[38;5;21;01m.\u001b[39;00m\u001b[38;5;21;01mcore\u001b[39;00m\u001b[38;5;21;01m.\u001b[39;00m\u001b[38;5;21;01mmultiarray\u001b[39;00m \u001b[38;5;28;01mimport\u001b[39;00m ravel_multi_index, unravel_index\n",
      "File \u001b[0;32m~/miniconda3/envs/py31012/lib/python3.10/site-packages/numpy/matrixlib/__init__.py:4\u001b[0m\n\u001b[1;32m      1\u001b[0m \u001b[38;5;124;03m\"\"\"Sub-package containing the matrix class and related functions.\u001b[39;00m\n\u001b[1;32m      2\u001b[0m \n\u001b[1;32m      3\u001b[0m \u001b[38;5;124;03m\"\"\"\u001b[39;00m\n\u001b[0;32m----> 4\u001b[0m \u001b[38;5;28;01mfrom\u001b[39;00m \u001b[38;5;21;01m.\u001b[39;00m \u001b[38;5;28;01mimport\u001b[39;00m defmatrix\n\u001b[1;32m      5\u001b[0m \u001b[38;5;28;01mfrom\u001b[39;00m \u001b[38;5;21;01m.\u001b[39;00m\u001b[38;5;21;01mdefmatrix\u001b[39;00m \u001b[38;5;28;01mimport\u001b[39;00m \u001b[38;5;241m*\u001b[39m\n\u001b[1;32m      7\u001b[0m __all__ \u001b[38;5;241m=\u001b[39m defmatrix\u001b[38;5;241m.\u001b[39m__all__\n",
      "File \u001b[0;32m~/miniconda3/envs/py31012/lib/python3.10/site-packages/numpy/matrixlib/defmatrix.py:12\u001b[0m\n\u001b[1;32m      9\u001b[0m \u001b[38;5;28;01mfrom\u001b[39;00m \u001b[38;5;21;01mnumpy\u001b[39;00m\u001b[38;5;21;01m.\u001b[39;00m\u001b[38;5;21;01mcore\u001b[39;00m\u001b[38;5;21;01m.\u001b[39;00m\u001b[38;5;21;01mnumeric\u001b[39;00m \u001b[38;5;28;01mimport\u001b[39;00m concatenate, isscalar\n\u001b[1;32m     10\u001b[0m \u001b[38;5;66;03m# While not in __all__, matrix_power used to be defined here, so we import\u001b[39;00m\n\u001b[1;32m     11\u001b[0m \u001b[38;5;66;03m# it for backward compatibility.\u001b[39;00m\n\u001b[0;32m---> 12\u001b[0m \u001b[38;5;28;01mfrom\u001b[39;00m \u001b[38;5;21;01mnumpy\u001b[39;00m\u001b[38;5;21;01m.\u001b[39;00m\u001b[38;5;21;01mlinalg\u001b[39;00m \u001b[38;5;28;01mimport\u001b[39;00m matrix_power\n\u001b[1;32m     15\u001b[0m \u001b[38;5;28;01mdef\u001b[39;00m \u001b[38;5;21m_convert_from_string\u001b[39m(data):\n\u001b[1;32m     16\u001b[0m     \u001b[38;5;28;01mfor\u001b[39;00m char \u001b[38;5;129;01min\u001b[39;00m \u001b[38;5;124m'\u001b[39m\u001b[38;5;124m[]\u001b[39m\u001b[38;5;124m'\u001b[39m:\n",
      "File \u001b[0;32m~/miniconda3/envs/py31012/lib/python3.10/site-packages/numpy/linalg/__init__.py:73\u001b[0m\n\u001b[1;32m      1\u001b[0m \u001b[38;5;124;03m\"\"\"\u001b[39;00m\n\u001b[1;32m      2\u001b[0m \u001b[38;5;124;03m``numpy.linalg``\u001b[39;00m\n\u001b[1;32m      3\u001b[0m \u001b[38;5;124;03m================\u001b[39;00m\n\u001b[0;32m   (...)\u001b[0m\n\u001b[1;32m     70\u001b[0m \n\u001b[1;32m     71\u001b[0m \u001b[38;5;124;03m\"\"\"\u001b[39;00m\n\u001b[1;32m     72\u001b[0m \u001b[38;5;66;03m# To get sub-modules\u001b[39;00m\n\u001b[0;32m---> 73\u001b[0m \u001b[38;5;28;01mfrom\u001b[39;00m \u001b[38;5;21;01m.\u001b[39;00m \u001b[38;5;28;01mimport\u001b[39;00m linalg\n\u001b[1;32m     74\u001b[0m \u001b[38;5;28;01mfrom\u001b[39;00m \u001b[38;5;21;01m.\u001b[39;00m\u001b[38;5;21;01mlinalg\u001b[39;00m \u001b[38;5;28;01mimport\u001b[39;00m \u001b[38;5;241m*\u001b[39m\n\u001b[1;32m     76\u001b[0m __all__ \u001b[38;5;241m=\u001b[39m linalg\u001b[38;5;241m.\u001b[39m__all__\u001b[38;5;241m.\u001b[39mcopy()\n",
      "File \u001b[0;32m~/miniconda3/envs/py31012/lib/python3.10/site-packages/numpy/linalg/linalg.py:37\u001b[0m\n\u001b[1;32m     34\u001b[0m \u001b[38;5;28;01mfrom\u001b[39;00m \u001b[38;5;21;01mnumpy\u001b[39;00m\u001b[38;5;21;01m.\u001b[39;00m\u001b[38;5;21;01mlib\u001b[39;00m\u001b[38;5;21;01m.\u001b[39;00m\u001b[38;5;21;01mtwodim_base\u001b[39;00m \u001b[38;5;28;01mimport\u001b[39;00m triu, eye\n\u001b[1;32m     35\u001b[0m \u001b[38;5;28;01mfrom\u001b[39;00m \u001b[38;5;21;01mnumpy\u001b[39;00m\u001b[38;5;21;01m.\u001b[39;00m\u001b[38;5;21;01mlinalg\u001b[39;00m \u001b[38;5;28;01mimport\u001b[39;00m _umath_linalg\n\u001b[0;32m---> 37\u001b[0m \u001b[38;5;28;01mfrom\u001b[39;00m \u001b[38;5;21;01mnumpy\u001b[39;00m\u001b[38;5;21;01m.\u001b[39;00m\u001b[38;5;21;01m_typing\u001b[39;00m \u001b[38;5;28;01mimport\u001b[39;00m NDArray\n\u001b[1;32m     39\u001b[0m \u001b[38;5;28;01mclass\u001b[39;00m \u001b[38;5;21;01mEigResult\u001b[39;00m(NamedTuple):\n\u001b[1;32m     40\u001b[0m     eigenvalues: NDArray[Any]\n",
      "File \u001b[0;32m~/miniconda3/envs/py31012/lib/python3.10/site-packages/numpy/_typing/__init__.py:182\u001b[0m\n\u001b[1;32m    160\u001b[0m \u001b[38;5;28;01mfrom\u001b[39;00m \u001b[38;5;21;01m.\u001b[39;00m\u001b[38;5;21;01m_shape\u001b[39;00m \u001b[38;5;28;01mimport\u001b[39;00m (\n\u001b[1;32m    161\u001b[0m     _Shape \u001b[38;5;28;01mas\u001b[39;00m _Shape,\n\u001b[1;32m    162\u001b[0m     _ShapeLike \u001b[38;5;28;01mas\u001b[39;00m _ShapeLike,\n\u001b[1;32m    163\u001b[0m )\n\u001b[1;32m    164\u001b[0m \u001b[38;5;28;01mfrom\u001b[39;00m \u001b[38;5;21;01m.\u001b[39;00m\u001b[38;5;21;01m_dtype_like\u001b[39;00m \u001b[38;5;28;01mimport\u001b[39;00m (\n\u001b[1;32m    165\u001b[0m     DTypeLike \u001b[38;5;28;01mas\u001b[39;00m DTypeLike,\n\u001b[1;32m    166\u001b[0m     _DTypeLike \u001b[38;5;28;01mas\u001b[39;00m _DTypeLike,\n\u001b[0;32m   (...)\u001b[0m\n\u001b[1;32m    180\u001b[0m     _DTypeLikeComplex_co \u001b[38;5;28;01mas\u001b[39;00m _DTypeLikeComplex_co,\n\u001b[1;32m    181\u001b[0m )\n\u001b[0;32m--> 182\u001b[0m \u001b[38;5;28;01mfrom\u001b[39;00m \u001b[38;5;21;01m.\u001b[39;00m\u001b[38;5;21;01m_array_like\u001b[39;00m \u001b[38;5;28;01mimport\u001b[39;00m (\n\u001b[1;32m    183\u001b[0m     NDArray \u001b[38;5;28;01mas\u001b[39;00m NDArray,\n\u001b[1;32m    184\u001b[0m     ArrayLike \u001b[38;5;28;01mas\u001b[39;00m ArrayLike,\n\u001b[1;32m    185\u001b[0m     _ArrayLike \u001b[38;5;28;01mas\u001b[39;00m _ArrayLike,\n\u001b[1;32m    186\u001b[0m     _FiniteNestedSequence \u001b[38;5;28;01mas\u001b[39;00m _FiniteNestedSequence,\n\u001b[1;32m    187\u001b[0m     _SupportsArray \u001b[38;5;28;01mas\u001b[39;00m _SupportsArray,\n\u001b[1;32m    188\u001b[0m     _SupportsArrayFunc \u001b[38;5;28;01mas\u001b[39;00m _SupportsArrayFunc,\n\u001b[1;32m    189\u001b[0m     _ArrayLikeInt \u001b[38;5;28;01mas\u001b[39;00m _ArrayLikeInt,\n\u001b[1;32m    190\u001b[0m     _ArrayLikeBool_co \u001b[38;5;28;01mas\u001b[39;00m _ArrayLikeBool_co,\n\u001b[1;32m    191\u001b[0m     _ArrayLikeUInt_co \u001b[38;5;28;01mas\u001b[39;00m _ArrayLikeUInt_co,\n\u001b[1;32m    192\u001b[0m     _ArrayLikeInt_co \u001b[38;5;28;01mas\u001b[39;00m _ArrayLikeInt_co,\n\u001b[1;32m    193\u001b[0m     _ArrayLikeFloat_co \u001b[38;5;28;01mas\u001b[39;00m _ArrayLikeFloat_co,\n\u001b[1;32m    194\u001b[0m     _ArrayLikeComplex_co \u001b[38;5;28;01mas\u001b[39;00m _ArrayLikeComplex_co,\n\u001b[1;32m    195\u001b[0m     _ArrayLikeNumber_co \u001b[38;5;28;01mas\u001b[39;00m _ArrayLikeNumber_co,\n\u001b[1;32m    196\u001b[0m     _ArrayLikeTD64_co \u001b[38;5;28;01mas\u001b[39;00m _ArrayLikeTD64_co,\n\u001b[1;32m    197\u001b[0m     _ArrayLikeDT64_co \u001b[38;5;28;01mas\u001b[39;00m _ArrayLikeDT64_co,\n\u001b[1;32m    198\u001b[0m     _ArrayLikeObject_co \u001b[38;5;28;01mas\u001b[39;00m _ArrayLikeObject_co,\n\u001b[1;32m    199\u001b[0m     _ArrayLikeVoid_co \u001b[38;5;28;01mas\u001b[39;00m _ArrayLikeVoid_co,\n\u001b[1;32m    200\u001b[0m     _ArrayLikeStr_co \u001b[38;5;28;01mas\u001b[39;00m _ArrayLikeStr_co,\n\u001b[1;32m    201\u001b[0m     _ArrayLikeBytes_co \u001b[38;5;28;01mas\u001b[39;00m _ArrayLikeBytes_co,\n\u001b[1;32m    202\u001b[0m     _ArrayLikeUnknown \u001b[38;5;28;01mas\u001b[39;00m _ArrayLikeUnknown,\n\u001b[1;32m    203\u001b[0m     _UnknownType \u001b[38;5;28;01mas\u001b[39;00m _UnknownType,\n\u001b[1;32m    204\u001b[0m )\n\u001b[1;32m    206\u001b[0m \u001b[38;5;28;01mif\u001b[39;00m TYPE_CHECKING:\n\u001b[1;32m    207\u001b[0m     \u001b[38;5;28;01mfrom\u001b[39;00m \u001b[38;5;21;01m.\u001b[39;00m\u001b[38;5;21;01m_ufunc\u001b[39;00m \u001b[38;5;28;01mimport\u001b[39;00m (\n\u001b[1;32m    208\u001b[0m         _UFunc_Nin1_Nout1 \u001b[38;5;28;01mas\u001b[39;00m _UFunc_Nin1_Nout1,\n\u001b[1;32m    209\u001b[0m         _UFunc_Nin2_Nout1 \u001b[38;5;28;01mas\u001b[39;00m _UFunc_Nin2_Nout1,\n\u001b[0;32m   (...)\u001b[0m\n\u001b[1;32m    212\u001b[0m         _GUFunc_Nin2_Nout1 \u001b[38;5;28;01mas\u001b[39;00m _GUFunc_Nin2_Nout1,\n\u001b[1;32m    213\u001b[0m     )\n",
      "File \u001b[0;32m~/miniconda3/envs/py31012/lib/python3.10/site-packages/numpy/_typing/_array_like.py:38\u001b[0m\n\u001b[1;32m     30\u001b[0m NDArray \u001b[38;5;241m=\u001b[39m ndarray[Any, dtype[_ScalarType_co]]\n\u001b[1;32m     32\u001b[0m \u001b[38;5;66;03m# The `_SupportsArray` protocol only cares about the default dtype\u001b[39;00m\n\u001b[1;32m     33\u001b[0m \u001b[38;5;66;03m# (i.e. `dtype=None` or no `dtype` parameter at all) of the to-be returned\u001b[39;00m\n\u001b[1;32m     34\u001b[0m \u001b[38;5;66;03m# array.\u001b[39;00m\n\u001b[1;32m     35\u001b[0m \u001b[38;5;66;03m# Concrete implementations of the protocol are responsible for adding\u001b[39;00m\n\u001b[1;32m     36\u001b[0m \u001b[38;5;66;03m# any and all remaining overloads\u001b[39;00m\n\u001b[1;32m     37\u001b[0m \u001b[38;5;129m@runtime_checkable\u001b[39m\n\u001b[0;32m---> 38\u001b[0m \u001b[38;5;28;01mclass\u001b[39;00m \u001b[38;5;21;01m_SupportsArray\u001b[39;00m(\u001b[43mProtocol\u001b[49m\u001b[43m[\u001b[49m\u001b[43m_DType_co\u001b[49m\u001b[43m]\u001b[49m):\n\u001b[1;32m     39\u001b[0m     \u001b[38;5;28;01mdef\u001b[39;00m \u001b[38;5;21m__array__\u001b[39m(\u001b[38;5;28mself\u001b[39m) \u001b[38;5;241m-\u001b[39m\u001b[38;5;241m>\u001b[39m ndarray[Any, _DType_co]: \u001b[38;5;241m.\u001b[39m\u001b[38;5;241m.\u001b[39m\u001b[38;5;241m.\u001b[39m\n\u001b[1;32m     42\u001b[0m \u001b[38;5;129m@runtime_checkable\u001b[39m\n\u001b[1;32m     43\u001b[0m \u001b[38;5;28;01mclass\u001b[39;00m \u001b[38;5;21;01m_SupportsArrayFunc\u001b[39;00m(Protocol):\n",
      "File \u001b[0;32m~/miniconda3/envs/py31012/lib/python3.10/typing.py:309\u001b[0m, in \u001b[0;36m_tp_cache.<locals>.decorator.<locals>.inner\u001b[0;34m(*args, **kwds)\u001b[0m\n\u001b[1;32m    306\u001b[0m \u001b[38;5;129m@functools\u001b[39m\u001b[38;5;241m.\u001b[39mwraps(func)\n\u001b[1;32m    307\u001b[0m \u001b[38;5;28;01mdef\u001b[39;00m \u001b[38;5;21minner\u001b[39m(\u001b[38;5;241m*\u001b[39margs, \u001b[38;5;241m*\u001b[39m\u001b[38;5;241m*\u001b[39mkwds):\n\u001b[1;32m    308\u001b[0m     \u001b[38;5;28;01mtry\u001b[39;00m:\n\u001b[0;32m--> 309\u001b[0m         \u001b[38;5;28;01mreturn\u001b[39;00m \u001b[43mcached\u001b[49m\u001b[43m(\u001b[49m\u001b[38;5;241;43m*\u001b[39;49m\u001b[43margs\u001b[49m\u001b[43m,\u001b[49m\u001b[43m \u001b[49m\u001b[38;5;241;43m*\u001b[39;49m\u001b[38;5;241;43m*\u001b[39;49m\u001b[43mkwds\u001b[49m\u001b[43m)\u001b[49m\n\u001b[1;32m    310\u001b[0m     \u001b[38;5;28;01mexcept\u001b[39;00m \u001b[38;5;167;01mTypeError\u001b[39;00m:\n\u001b[1;32m    311\u001b[0m         \u001b[38;5;28;01mpass\u001b[39;00m  \u001b[38;5;66;03m# All real errors (not unhashable args) are raised below.\u001b[39;00m\n",
      "\u001b[0;31mKeyboardInterrupt\u001b[0m: "
     ]
    }
   ],
   "source": [
    "import os\n",
    "import numpy as np\n",
    "import pandas as pd\n",
    "import pickle\n",
    "from sklearn.preprocessing import OneHotEncoder, StandardScaler"
   ]
  },
  {
   "cell_type": "code",
   "execution_count": null,
   "id": "f0419471-4b7c-4d4e-8cd5-b71138d594e4",
   "metadata": {},
   "outputs": [],
   "source": [
    "def read_excel(path):\n",
    "    return pd.read_excel(path)\n",
    "\n",
    "def perhitungan_jumlah_smp(df):\n",
    "    df['SMP_MTR'] = df['MOTOR'] * 0.8\n",
    "    df['SMP_MBL'] = df['MOBIL']\n",
    "    df['SMP_TRK'] = df['TRUK/BUS'] * 2.5\n",
    "    df['SMP'] = round(df['SMP_MTR'] + df['SMP_MBL'] + df['SMP_TRK'])\n",
    "    df['JUMLAH'] = df['MOTOR'] + df['MOBIL'] + df['TRUK/BUS']\n",
    "    return df\n",
    "\n",
    "def preprocessing(df):\n",
    "    encoder = OneHotEncoder(sparse_output=False)\n",
    "    scaled_features = StandardScaler()\n",
    "    \n",
    "    # Encode HARI (pastikan encoder sudah fit pada data sebelumnya atau gunakan yang sudah disimpan)\n",
    "    encoded_days = encoder.fit_transform(df[['HARI']])\n",
    "    \n",
    "    # Konversi 'JAM' ke total menit sejak tengah malam\n",
    "    df['JAM'] = df['JAM'].apply(lambda x: int(x.split(':')[0]) * 60 + int(x.split(':')[1]))\n",
    "\n",
    "    # Gabungkan encoded 'HARI' dengan fitur 'JAM'\n",
    "    X_missing = pd.DataFrame(encoded_days, columns=encoder.get_feature_names_out(['HARI']))\n",
    "    X_missing['JAM'] = scaled_features.fit_transform(df[['JAM']])\n",
    "\n",
    "    with open('models/model_rf_mtr_losarang_2022.pkl', 'rb') as file:\n",
    "        model_rf_mtr = pickle.load(file)\n",
    "\n",
    "    # Memuat model dari file\n",
    "    with open('models/model_rf_mbl_losarang_2022.pkl', 'rb') as file:\n",
    "        model_rf_mbl = pickle.load(file)\n",
    "\n",
    "    # Memuat model dari file\n",
    "    with open('models/model_rf_bus_losarang_2022.pkl', 'rb') as file:\n",
    "        model_rf_bus = pickle.load(file)\n",
    "\n",
    "    # Melakukan prediksi untuk kolom MOTOR\n",
    "    motor_predictions = model_rf_mtr.predict(X_missing)\n",
    "    mobil_predictions = model_rf_mbl.predict(X_missing)\n",
    "    bus_predictions = model_rf_bus.predict(X_missing)\n",
    "\n",
    "    return motor_predictions, mobil_predictions, bus_predictions\n",
    "    \n",
    "\n",
    "def minutes_to_time(minutes):\n",
    "    hours = minutes // 60\n",
    "    minutes = minutes % 60\n",
    "    return f'{int(hours):02d}:{int(minutes):02d}'\n",
    "\n",
    "def menggabungkan_data(df, missing_times):\n",
    "    # Menggabungkan data hilang dengan DataFrame utama\n",
    "    df = pd.concat([df, missing_times], ignore_index=True)\n",
    "    \n",
    "    # Mengurutkan DataFrame berdasarkan kolom 'Waktu'\n",
    "    df = df.sort_values(by=['TAHUN','BULAN','TANGGAL','HARI','JAM']).reset_index(drop=True)\n",
    "\n",
    "    return df\n"
   ]
  },
  {
   "cell_type": "code",
   "execution_count": null,
   "id": "60d06687-c7b7-4f32-b20b-0e4db67ae949",
   "metadata": {},
   "outputs": [],
   "source": [
    "path_1 = '../Data/Preprocessing/Data Losarang/2022/1_input_losarang_2022.xlsx'\n",
    "path_2 = '../Data/Preprocessing/Data Losarang/2022/1_missing_times_losarang_2022.xlsx'\n",
    "\n",
    "df = read_excel(path_1)\n",
    "df_missing = read_excel(path_2)\n",
    "\n",
    "print(len(df),len(df_missing))"
   ]
  },
  {
   "cell_type": "code",
   "execution_count": null,
   "id": "171f945d-ea1a-44aa-95a4-e81c7150ab5e",
   "metadata": {},
   "outputs": [],
   "source": [
    "df_missing.head()"
   ]
  },
  {
   "cell_type": "code",
   "execution_count": null,
   "id": "a64e3512-f9b0-40a2-bc50-96205a7f0f34",
   "metadata": {},
   "outputs": [],
   "source": [
    "motor_predictions, mobil_predictions, bus_predictions = preprocessing(df_missing)"
   ]
  },
  {
   "cell_type": "code",
   "execution_count": null,
   "id": "34ad4701-9ce7-462d-96bd-0ec782e012af",
   "metadata": {},
   "outputs": [],
   "source": [
    "# Menambahkan prediksi ke dalam dataframe\n",
    "df_missing['MOTOR'] = motor_predictions.round()\n",
    "df_missing['MOBIL'] = mobil_predictions.round()\n",
    "df_missing['TRUK/BUS'] = bus_predictions.round()"
   ]
  },
  {
   "cell_type": "code",
   "execution_count": null,
   "id": "aaaa138d-82c2-4313-b2f4-5b85f3a4541f",
   "metadata": {},
   "outputs": [],
   "source": [
    "df_missing = perhitungan_jumlah_smp(df_missing)\n",
    "df_missing['JAM'] = df_missing['JAM'].apply(minutes_to_time)"
   ]
  },
  {
   "cell_type": "code",
   "execution_count": null,
   "id": "931dcfeb-b125-4ce4-b13c-92191330bd96",
   "metadata": {},
   "outputs": [],
   "source": [
    "df_missing.head()"
   ]
  },
  {
   "cell_type": "code",
   "execution_count": null,
   "id": "136df09e-e087-48ea-96ff-089c24efd713",
   "metadata": {},
   "outputs": [],
   "source": [
    "df_compiled = menggabungkan_data(df, df_missing)\n",
    "df_compiled.head()"
   ]
  },
  {
   "cell_type": "code",
   "execution_count": null,
   "id": "0015853f-08fd-405f-9792-e53a3c72fef1",
   "metadata": {},
   "outputs": [],
   "source": [
    "df_missing.to_excel('../Data/Preprocessing/Data Losarang/2022/2_missing_times_losarang_2022.xlsx', index=False)\n",
    "df_compiled.to_excel('../Data/Preprocessing/Data Losarang/2022/2_input_losarang_2022.xlsx', index=False)"
   ]
  }
 ],
 "metadata": {
  "kernelspec": {
   "display_name": "Python 3 (ipykernel)",
   "language": "python",
   "name": "python3"
  },
  "language_info": {
   "codemirror_mode": {
    "name": "ipython",
    "version": 3
   },
   "file_extension": ".py",
   "mimetype": "text/x-python",
   "name": "python",
   "nbconvert_exporter": "python",
   "pygments_lexer": "ipython3",
   "version": "3.10.12"
  }
 },
 "nbformat": 4,
 "nbformat_minor": 5
}

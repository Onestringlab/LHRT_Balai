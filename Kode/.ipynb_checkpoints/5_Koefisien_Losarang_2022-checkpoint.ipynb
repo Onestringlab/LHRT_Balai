{
 "cells": [
  {
   "cell_type": "code",
   "execution_count": 1,
   "id": "bdbad84a-dbff-4d55-83c7-40c76b99f89a",
   "metadata": {},
   "outputs": [],
   "source": [
    "import os\n",
    "import numpy as np\n",
    "import pandas as pd"
   ]
  },
  {
   "cell_type": "code",
   "execution_count": 2,
   "id": "255daa22-e092-4bb5-b0d2-254e868faa25",
   "metadata": {},
   "outputs": [],
   "source": [
    "def read_excel(path):\n",
    "    return pd.read_excel(path)\n",
    "\n",
    "def koefisien(df):\n",
    "    data.loc[:, 'KOEFISIEN'] = data['SMP'] / data['SMP'].max()\n",
    "    return data\n",
    "    "
   ]
  },
  {
   "cell_type": "code",
   "execution_count": 3,
   "id": "e8397821-7068-412f-99fb-3ff76432f966",
   "metadata": {},
   "outputs": [],
   "source": [
    "path_1 = '../Data/Preprocessing/Data Losarang/2022/4_lhrt_normalisasi_losarang_2022.xlsx'\n",
    "df = read_excel(path_1)"
   ]
  },
  {
   "cell_type": "code",
   "execution_count": 4,
   "id": "564c39b1-cc30-4b55-8ee2-c896bc6b4800",
   "metadata": {},
   "outputs": [],
   "source": [
    "df['KOEFISIEN'] = df['SMP'] / df['SMP'].max()"
   ]
  },
  {
   "cell_type": "code",
   "execution_count": 5,
   "id": "94f05fb7-4bfb-4283-ae64-8a5d93f7bc94",
   "metadata": {},
   "outputs": [
    {
     "data": {
      "text/html": [
       "<div>\n",
       "<style scoped>\n",
       "    .dataframe tbody tr th:only-of-type {\n",
       "        vertical-align: middle;\n",
       "    }\n",
       "\n",
       "    .dataframe tbody tr th {\n",
       "        vertical-align: top;\n",
       "    }\n",
       "\n",
       "    .dataframe thead th {\n",
       "        text-align: right;\n",
       "    }\n",
       "</style>\n",
       "<table border=\"1\" class=\"dataframe\">\n",
       "  <thead>\n",
       "    <tr style=\"text-align: right;\">\n",
       "      <th></th>\n",
       "      <th>HARI</th>\n",
       "      <th>JAM</th>\n",
       "      <th>MOTOR</th>\n",
       "      <th>MOBIL</th>\n",
       "      <th>TRUK/BUS</th>\n",
       "      <th>SMP</th>\n",
       "      <th>SMP_zscore</th>\n",
       "      <th>KOEFISIEN</th>\n",
       "    </tr>\n",
       "  </thead>\n",
       "  <tbody>\n",
       "    <tr>\n",
       "      <th>0</th>\n",
       "      <td>Monday</td>\n",
       "      <td>00:00</td>\n",
       "      <td>33</td>\n",
       "      <td>40</td>\n",
       "      <td>20</td>\n",
       "      <td>78</td>\n",
       "      <td>0.091633</td>\n",
       "      <td>0.238532</td>\n",
       "    </tr>\n",
       "    <tr>\n",
       "      <th>1</th>\n",
       "      <td>Monday</td>\n",
       "      <td>01:00</td>\n",
       "      <td>26</td>\n",
       "      <td>37</td>\n",
       "      <td>18</td>\n",
       "      <td>71</td>\n",
       "      <td>0.063745</td>\n",
       "      <td>0.217125</td>\n",
       "    </tr>\n",
       "    <tr>\n",
       "      <th>2</th>\n",
       "      <td>Monday</td>\n",
       "      <td>02:00</td>\n",
       "      <td>22</td>\n",
       "      <td>33</td>\n",
       "      <td>16</td>\n",
       "      <td>63</td>\n",
       "      <td>0.031873</td>\n",
       "      <td>0.192661</td>\n",
       "    </tr>\n",
       "    <tr>\n",
       "      <th>3</th>\n",
       "      <td>Monday</td>\n",
       "      <td>03:00</td>\n",
       "      <td>18</td>\n",
       "      <td>30</td>\n",
       "      <td>16</td>\n",
       "      <td>57</td>\n",
       "      <td>0.007968</td>\n",
       "      <td>0.174312</td>\n",
       "    </tr>\n",
       "    <tr>\n",
       "      <th>4</th>\n",
       "      <td>Monday</td>\n",
       "      <td>04:00</td>\n",
       "      <td>22</td>\n",
       "      <td>28</td>\n",
       "      <td>14</td>\n",
       "      <td>55</td>\n",
       "      <td>0.000000</td>\n",
       "      <td>0.168196</td>\n",
       "    </tr>\n",
       "  </tbody>\n",
       "</table>\n",
       "</div>"
      ],
      "text/plain": [
       "     HARI    JAM  MOTOR  MOBIL  TRUK/BUS  SMP  SMP_zscore  KOEFISIEN\n",
       "0  Monday  00:00     33     40        20   78    0.091633   0.238532\n",
       "1  Monday  01:00     26     37        18   71    0.063745   0.217125\n",
       "2  Monday  02:00     22     33        16   63    0.031873   0.192661\n",
       "3  Monday  03:00     18     30        16   57    0.007968   0.174312\n",
       "4  Monday  04:00     22     28        14   55    0.000000   0.168196"
      ]
     },
     "execution_count": 5,
     "metadata": {},
     "output_type": "execute_result"
    }
   ],
   "source": [
    "df.head()"
   ]
  },
  {
   "cell_type": "code",
   "execution_count": 6,
   "id": "fa440d11-bcec-426f-b66d-f306c5c20368",
   "metadata": {},
   "outputs": [],
   "source": [
    "# Daftar kolom yang diinginkan dalam urutan baru\n",
    "new_column_order = [\n",
    "    'HARI', 'JAM', 'KOEFISIEN',\n",
    "    'MOTOR', 'MOBIL', 'TRUK/BUS',\n",
    "    'SMP_MTR','SMP_MBL','SMP_TRK',\n",
    "    'SMP'\n",
    "]\n",
    "# Menyusun ulang kolom berdasarkan urutan yang diinginkan\n",
    "df = df.reindex(columns=new_column_order)"
   ]
  },
  {
   "cell_type": "code",
   "execution_count": 7,
   "id": "2b4ae849-dba5-4cb3-a192-6f4fc50e20b4",
   "metadata": {},
   "outputs": [],
   "source": [
    "df['SMP'] = np.nan\n",
    "df['MOTOR'] = np.nan\n",
    "df['MOBIL'] = np.nan\n",
    "df['TRUK/BUS'] = np.nan\n",
    "df['SMP_MTR'] = np.nan\n",
    "df['SMP_MBL'] = np.nan\n",
    "df['SMP_TRK'] = np.nan"
   ]
  },
  {
   "cell_type": "code",
   "execution_count": 8,
   "id": "b6675e2a-52ce-4771-9a44-6d0888ed40dd",
   "metadata": {},
   "outputs": [
    {
     "data": {
      "text/html": [
       "<div>\n",
       "<style scoped>\n",
       "    .dataframe tbody tr th:only-of-type {\n",
       "        vertical-align: middle;\n",
       "    }\n",
       "\n",
       "    .dataframe tbody tr th {\n",
       "        vertical-align: top;\n",
       "    }\n",
       "\n",
       "    .dataframe thead th {\n",
       "        text-align: right;\n",
       "    }\n",
       "</style>\n",
       "<table border=\"1\" class=\"dataframe\">\n",
       "  <thead>\n",
       "    <tr style=\"text-align: right;\">\n",
       "      <th></th>\n",
       "      <th>HARI</th>\n",
       "      <th>JAM</th>\n",
       "      <th>KOEFISIEN</th>\n",
       "      <th>MOTOR</th>\n",
       "      <th>MOBIL</th>\n",
       "      <th>TRUK/BUS</th>\n",
       "      <th>SMP</th>\n",
       "    </tr>\n",
       "  </thead>\n",
       "  <tbody>\n",
       "    <tr>\n",
       "      <th>0</th>\n",
       "      <td>Monday</td>\n",
       "      <td>00:00</td>\n",
       "      <td>0.238532</td>\n",
       "      <td>NaN</td>\n",
       "      <td>NaN</td>\n",
       "      <td>NaN</td>\n",
       "      <td>NaN</td>\n",
       "    </tr>\n",
       "    <tr>\n",
       "      <th>1</th>\n",
       "      <td>Monday</td>\n",
       "      <td>01:00</td>\n",
       "      <td>0.217125</td>\n",
       "      <td>NaN</td>\n",
       "      <td>NaN</td>\n",
       "      <td>NaN</td>\n",
       "      <td>NaN</td>\n",
       "    </tr>\n",
       "    <tr>\n",
       "      <th>2</th>\n",
       "      <td>Monday</td>\n",
       "      <td>02:00</td>\n",
       "      <td>0.192661</td>\n",
       "      <td>NaN</td>\n",
       "      <td>NaN</td>\n",
       "      <td>NaN</td>\n",
       "      <td>NaN</td>\n",
       "    </tr>\n",
       "    <tr>\n",
       "      <th>3</th>\n",
       "      <td>Monday</td>\n",
       "      <td>03:00</td>\n",
       "      <td>0.174312</td>\n",
       "      <td>NaN</td>\n",
       "      <td>NaN</td>\n",
       "      <td>NaN</td>\n",
       "      <td>NaN</td>\n",
       "    </tr>\n",
       "    <tr>\n",
       "      <th>4</th>\n",
       "      <td>Monday</td>\n",
       "      <td>04:00</td>\n",
       "      <td>0.168196</td>\n",
       "      <td>NaN</td>\n",
       "      <td>NaN</td>\n",
       "      <td>NaN</td>\n",
       "      <td>NaN</td>\n",
       "    </tr>\n",
       "  </tbody>\n",
       "</table>\n",
       "</div>"
      ],
      "text/plain": [
       "     HARI    JAM  KOEFISIEN  MOTOR  MOBIL  TRUK/BUS  SMP\n",
       "0  Monday  00:00   0.238532    NaN    NaN       NaN  NaN\n",
       "1  Monday  01:00   0.217125    NaN    NaN       NaN  NaN\n",
       "2  Monday  02:00   0.192661    NaN    NaN       NaN  NaN\n",
       "3  Monday  03:00   0.174312    NaN    NaN       NaN  NaN\n",
       "4  Monday  04:00   0.168196    NaN    NaN       NaN  NaN"
      ]
     },
     "execution_count": 8,
     "metadata": {},
     "output_type": "execute_result"
    }
   ],
   "source": [
    "df.head()"
   ]
  },
  {
   "cell_type": "code",
   "execution_count": 9,
   "id": "2beb15ef-244e-412c-8c9b-c7818c10249a",
   "metadata": {},
   "outputs": [],
   "source": [
    "df.to_excel('../Data/Preprocessing/Data Losarang/2022/5_lhrt_koefisien_losarang_2022.xlsx', index=False)"
   ]
  },
  {
   "cell_type": "code",
   "execution_count": null,
   "id": "88a31d4f-02f7-4de1-bb0c-60be8ee4a2ba",
   "metadata": {},
   "outputs": [],
   "source": []
  }
 ],
 "metadata": {
  "kernelspec": {
   "display_name": "Python 3 (ipykernel)",
   "language": "python",
   "name": "python3"
  },
  "language_info": {
   "codemirror_mode": {
    "name": "ipython",
    "version": 3
   },
   "file_extension": ".py",
   "mimetype": "text/x-python",
   "name": "python",
   "nbconvert_exporter": "python",
   "pygments_lexer": "ipython3",
   "version": "3.10.12"
  }
 },
 "nbformat": 4,
 "nbformat_minor": 5
}

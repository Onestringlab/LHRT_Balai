{
 "cells": [
  {
   "cell_type": "code",
   "execution_count": 1,
   "id": "de8b0482-d7f4-4a5d-ad2b-a065e7a95cb8",
   "metadata": {},
   "outputs": [],
   "source": [
    "import os\n",
    "import numpy as np\n",
    "import pandas as pd"
   ]
  },
  {
   "cell_type": "code",
   "execution_count": 2,
   "id": "ffa7b032-0111-426f-946d-0a959ba85153",
   "metadata": {},
   "outputs": [],
   "source": [
    "def read_excel(path):\n",
    "    return pd.read_excel(path)\n",
    "\n",
    "def menggabungkan_data(df, missing_times):\n",
    "    # Menggabungkan data hilang dengan DataFrame utama\n",
    "    df = pd.concat([df, missing_times], ignore_index=True)\n",
    "    \n",
    "    # Mengurutkan DataFrame berdasarkan kolom 'Waktu'\n",
    "    df = df.sort_values(by=['TAHUN','BULAN','TANGGAL','HARI','JAM']).reset_index(drop=True)\n",
    "\n",
    "    return df"
   ]
  },
  {
   "cell_type": "code",
   "execution_count": 3,
   "id": "eff0ddb9-7a48-4e7f-b9b4-afece7693010",
   "metadata": {},
   "outputs": [
    {
     "data": {
      "text/html": [
       "<div>\n",
       "<style scoped>\n",
       "    .dataframe tbody tr th:only-of-type {\n",
       "        vertical-align: middle;\n",
       "    }\n",
       "\n",
       "    .dataframe tbody tr th {\n",
       "        vertical-align: top;\n",
       "    }\n",
       "\n",
       "    .dataframe thead th {\n",
       "        text-align: right;\n",
       "    }\n",
       "</style>\n",
       "<table border=\"1\" class=\"dataframe\">\n",
       "  <thead>\n",
       "    <tr style=\"text-align: right;\">\n",
       "      <th></th>\n",
       "      <th>WAKTU</th>\n",
       "      <th>TAHUN</th>\n",
       "      <th>BULAN</th>\n",
       "      <th>TANGGAL</th>\n",
       "      <th>HARI</th>\n",
       "      <th>JAM</th>\n",
       "      <th>MOTOR</th>\n",
       "      <th>MOBIL</th>\n",
       "      <th>TRUK/BUS</th>\n",
       "      <th>JUMLAH</th>\n",
       "      <th>SMP_MTR</th>\n",
       "      <th>SMP_MBL</th>\n",
       "      <th>SMP_TRK</th>\n",
       "      <th>SMP</th>\n",
       "    </tr>\n",
       "  </thead>\n",
       "  <tbody>\n",
       "    <tr>\n",
       "      <th>0</th>\n",
       "      <td>2023-01-01 00:00:00</td>\n",
       "      <td>2023</td>\n",
       "      <td>1</td>\n",
       "      <td>1</td>\n",
       "      <td>Sunday</td>\n",
       "      <td>00:00</td>\n",
       "      <td>85</td>\n",
       "      <td>24</td>\n",
       "      <td>4</td>\n",
       "      <td>113</td>\n",
       "      <td>68.0</td>\n",
       "      <td>24</td>\n",
       "      <td>10.0</td>\n",
       "      <td>102</td>\n",
       "    </tr>\n",
       "    <tr>\n",
       "      <th>1</th>\n",
       "      <td>2023-01-01 00:15:00</td>\n",
       "      <td>2023</td>\n",
       "      <td>1</td>\n",
       "      <td>1</td>\n",
       "      <td>Sunday</td>\n",
       "      <td>00:15</td>\n",
       "      <td>92</td>\n",
       "      <td>19</td>\n",
       "      <td>6</td>\n",
       "      <td>117</td>\n",
       "      <td>73.6</td>\n",
       "      <td>19</td>\n",
       "      <td>15.0</td>\n",
       "      <td>108</td>\n",
       "    </tr>\n",
       "    <tr>\n",
       "      <th>2</th>\n",
       "      <td>2023-01-01 00:30:00</td>\n",
       "      <td>2023</td>\n",
       "      <td>1</td>\n",
       "      <td>1</td>\n",
       "      <td>Sunday</td>\n",
       "      <td>00:30</td>\n",
       "      <td>78</td>\n",
       "      <td>16</td>\n",
       "      <td>6</td>\n",
       "      <td>100</td>\n",
       "      <td>62.4</td>\n",
       "      <td>16</td>\n",
       "      <td>15.0</td>\n",
       "      <td>93</td>\n",
       "    </tr>\n",
       "    <tr>\n",
       "      <th>3</th>\n",
       "      <td>2023-01-01 00:45:00</td>\n",
       "      <td>2023</td>\n",
       "      <td>1</td>\n",
       "      <td>1</td>\n",
       "      <td>Sunday</td>\n",
       "      <td>00:45</td>\n",
       "      <td>78</td>\n",
       "      <td>23</td>\n",
       "      <td>4</td>\n",
       "      <td>105</td>\n",
       "      <td>62.4</td>\n",
       "      <td>23</td>\n",
       "      <td>10.0</td>\n",
       "      <td>95</td>\n",
       "    </tr>\n",
       "    <tr>\n",
       "      <th>4</th>\n",
       "      <td>2023-01-01 01:00:00</td>\n",
       "      <td>2023</td>\n",
       "      <td>1</td>\n",
       "      <td>1</td>\n",
       "      <td>Sunday</td>\n",
       "      <td>01:00</td>\n",
       "      <td>76</td>\n",
       "      <td>14</td>\n",
       "      <td>6</td>\n",
       "      <td>96</td>\n",
       "      <td>60.8</td>\n",
       "      <td>14</td>\n",
       "      <td>15.0</td>\n",
       "      <td>90</td>\n",
       "    </tr>\n",
       "  </tbody>\n",
       "</table>\n",
       "</div>"
      ],
      "text/plain": [
       "                WAKTU  TAHUN  BULAN  TANGGAL    HARI    JAM  MOTOR  MOBIL  \\\n",
       "0 2023-01-01 00:00:00   2023      1        1  Sunday  00:00     85     24   \n",
       "1 2023-01-01 00:15:00   2023      1        1  Sunday  00:15     92     19   \n",
       "2 2023-01-01 00:30:00   2023      1        1  Sunday  00:30     78     16   \n",
       "3 2023-01-01 00:45:00   2023      1        1  Sunday  00:45     78     23   \n",
       "4 2023-01-01 01:00:00   2023      1        1  Sunday  01:00     76     14   \n",
       "\n",
       "   TRUK/BUS  JUMLAH  SMP_MTR  SMP_MBL  SMP_TRK  SMP  \n",
       "0         4     113     68.0       24     10.0  102  \n",
       "1         6     117     73.6       19     15.0  108  \n",
       "2         6     100     62.4       16     15.0   93  \n",
       "3         4     105     62.4       23     10.0   95  \n",
       "4         6      96     60.8       14     15.0   90  "
      ]
     },
     "execution_count": 3,
     "metadata": {},
     "output_type": "execute_result"
    }
   ],
   "source": [
    "path_1 = '../Data/Preprocessing/Data Losarang/2023/3_clean_losarang_2023.xlsx'\n",
    "path_2 = '../Data/Preprocessing/Data Losarang/2023/3_outliers_losarang_2023.xlsx'\n",
    "\n",
    "df_clean = read_excel(path_1)\n",
    "df_outlier = read_excel(path_2)\n",
    "\n",
    "df_compiled = menggabungkan_data(df_clean, df_outlier)\n",
    "df_compiled.head()"
   ]
  },
  {
   "cell_type": "code",
   "execution_count": 4,
   "id": "b636c52e-b1eb-431c-8ef4-11ff4803444b",
   "metadata": {},
   "outputs": [
    {
     "data": {
      "text/plain": [
       "35040"
      ]
     },
     "execution_count": 4,
     "metadata": {},
     "output_type": "execute_result"
    }
   ],
   "source": [
    "len(df_compiled)"
   ]
  },
  {
   "cell_type": "code",
   "execution_count": 5,
   "id": "e48e7aec-ae3f-429b-aee3-eb2fade5cc05",
   "metadata": {},
   "outputs": [],
   "source": [
    "# Buat daftar waktu yang lengkap dari 2022-01-01 00:00:00 hingga 2022-12-31 23:45:00 dengan interval 15 menit\n",
    "time_range = pd.date_range(start='2023-01-01 00:00:00', end='2023-12-31 23:45:00', freq='15T')"
   ]
  },
  {
   "cell_type": "code",
   "execution_count": 6,
   "id": "ad3c06d6-c36b-45b4-bb4a-87086be4773d",
   "metadata": {},
   "outputs": [
    {
     "data": {
      "text/plain": [
       "DatetimeIndex(['2023-01-01 00:00:00', '2023-01-01 00:15:00',\n",
       "               '2023-01-01 00:30:00', '2023-01-01 00:45:00',\n",
       "               '2023-01-01 01:00:00', '2023-01-01 01:15:00',\n",
       "               '2023-01-01 01:30:00', '2023-01-01 01:45:00',\n",
       "               '2023-01-01 02:00:00', '2023-01-01 02:15:00',\n",
       "               ...\n",
       "               '2023-12-31 21:30:00', '2023-12-31 21:45:00',\n",
       "               '2023-12-31 22:00:00', '2023-12-31 22:15:00',\n",
       "               '2023-12-31 22:30:00', '2023-12-31 22:45:00',\n",
       "               '2023-12-31 23:00:00', '2023-12-31 23:15:00',\n",
       "               '2023-12-31 23:30:00', '2023-12-31 23:45:00'],\n",
       "              dtype='datetime64[ns]', length=35040, freq='15T')"
      ]
     },
     "execution_count": 6,
     "metadata": {},
     "output_type": "execute_result"
    }
   ],
   "source": [
    "time_range"
   ]
  },
  {
   "cell_type": "code",
   "execution_count": 7,
   "id": "651faeed-0437-49bb-a4f5-67827ffecea7",
   "metadata": {},
   "outputs": [
    {
     "name": "stdout",
     "output_type": "stream",
     "text": [
      "Waktu yang hilang: set()\n"
     ]
    }
   ],
   "source": [
    "missing_time = set(time_range) - set(df_compiled['WAKTU'])\n",
    "print(\"Waktu yang hilang:\", missing_time)"
   ]
  },
  {
   "cell_type": "markdown",
   "id": "7f26ee51-fe5f-4594-ac08-bcdd1aabe69e",
   "metadata": {},
   "source": [
    "Waktu yang hilang: {Timestamp('2023-11-01 00:00:00'), Timestamp('2023-09-27 00:00:00'), Timestamp('2023-09-25 00:00:00'), Timestamp('2023-10-08 00:00:00'), Timestamp('2023-10-19 00:00:00'), Timestamp('2023-10-07 00:00:00'), Timestamp('2023-09-24 00:00:00'), Timestamp('2023-02-01 00:00:00'), Timestamp('2023-12-01 00:00:00'), Timestamp('2023-09-26 00:00:00')}"
   ]
  },
  {
   "cell_type": "code",
   "execution_count": null,
   "id": "bc6fd08e-4361-4a27-8660-e73e3ad4f41d",
   "metadata": {},
   "outputs": [],
   "source": []
  }
 ],
 "metadata": {
  "kernelspec": {
   "display_name": "Python 3 (ipykernel)",
   "language": "python",
   "name": "python3"
  },
  "language_info": {
   "codemirror_mode": {
    "name": "ipython",
    "version": 3
   },
   "file_extension": ".py",
   "mimetype": "text/x-python",
   "name": "python",
   "nbconvert_exporter": "python",
   "pygments_lexer": "ipython3",
   "version": "3.10.12"
  }
 },
 "nbformat": 4,
 "nbformat_minor": 5
}

{
 "cells": [
  {
   "cell_type": "code",
   "execution_count": 1,
   "id": "de8b0482-d7f4-4a5d-ad2b-a065e7a95cb8",
   "metadata": {},
   "outputs": [],
   "source": [
    "import os\n",
    "import numpy as np\n",
    "import pandas as pd"
   ]
  },
  {
   "cell_type": "code",
   "execution_count": 2,
   "id": "ffa7b032-0111-426f-946d-0a959ba85153",
   "metadata": {},
   "outputs": [],
   "source": [
    "def menggabungkan_data(df, missing_times):\n",
    "    # Menggabungkan data hilang dengan DataFrame utama\n",
    "    df = pd.concat([df, missing_times], ignore_index=True)\n",
    "    \n",
    "    # Mengurutkan DataFrame berdasarkan kolom 'Waktu'\n",
    "    df = df.sort_values(by=['TAHUN','BULAN','TANGGAL','HARI','JAM']).reset_index(drop=True)\n",
    "\n",
    "    return df"
   ]
  },
  {
   "cell_type": "code",
   "execution_count": null,
   "id": "eff0ddb9-7a48-4e7f-b9b4-afece7693010",
   "metadata": {},
   "outputs": [],
   "source": [
    "path_1 = '../Data/Preprocessing/Data Losarang/2022/3_clean_losarang_2022.xlsx'\n",
    "path_2 = '../Data/Preprocessing/Data Losarang/2022/3_outliers_losarang_2022.xlsx'\n",
    "\n",
    "df_clean = read_excel(path_1)\n",
    "df_outlier = read_excel(path_2)\n",
    "\n",
    "df_missing.head()"
   ]
  }
 ],
 "metadata": {
  "kernelspec": {
   "display_name": "Python 3 (ipykernel)",
   "language": "python",
   "name": "python3"
  },
  "language_info": {
   "codemirror_mode": {
    "name": "ipython",
    "version": 3
   },
   "file_extension": ".py",
   "mimetype": "text/x-python",
   "name": "python",
   "nbconvert_exporter": "python",
   "pygments_lexer": "ipython3",
   "version": "3.10.12"
  }
 },
 "nbformat": 4,
 "nbformat_minor": 5
}

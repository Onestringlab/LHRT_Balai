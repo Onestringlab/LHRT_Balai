{
 "cells": [
  {
   "cell_type": "code",
   "execution_count": 22,
   "id": "de8b0482-d7f4-4a5d-ad2b-a065e7a95cb8",
   "metadata": {},
   "outputs": [],
   "source": [
    "import os\n",
    "import numpy as np\n",
    "import pandas as pd"
   ]
  },
  {
   "cell_type": "code",
   "execution_count": 23,
   "id": "ffa7b032-0111-426f-946d-0a959ba85153",
   "metadata": {},
   "outputs": [],
   "source": [
    "def read_excel(path):\n",
    "    return pd.read_excel(path)\n",
    "\n",
    "def menggabungkan_data(df, missing_times):\n",
    "    # Menggabungkan data hilang dengan DataFrame utama\n",
    "    df = pd.concat([df, missing_times], ignore_index=True)\n",
    "    \n",
    "    # Mengurutkan DataFrame berdasarkan kolom 'Waktu'\n",
    "    df = df.sort_values(by=['TAHUN','BULAN','TANGGAL','HARI','JAM']).reset_index(drop=True)\n",
    "\n",
    "    return df"
   ]
  },
  {
   "cell_type": "code",
   "execution_count": 24,
   "id": "eff0ddb9-7a48-4e7f-b9b4-afece7693010",
   "metadata": {},
   "outputs": [
    {
     "data": {
      "text/html": [
       "<div>\n",
       "<style scoped>\n",
       "    .dataframe tbody tr th:only-of-type {\n",
       "        vertical-align: middle;\n",
       "    }\n",
       "\n",
       "    .dataframe tbody tr th {\n",
       "        vertical-align: top;\n",
       "    }\n",
       "\n",
       "    .dataframe thead th {\n",
       "        text-align: right;\n",
       "    }\n",
       "</style>\n",
       "<table border=\"1\" class=\"dataframe\">\n",
       "  <thead>\n",
       "    <tr style=\"text-align: right;\">\n",
       "      <th></th>\n",
       "      <th>WAKTU</th>\n",
       "      <th>TAHUN</th>\n",
       "      <th>BULAN</th>\n",
       "      <th>PEKAN</th>\n",
       "      <th>TANGGAL</th>\n",
       "      <th>HARI</th>\n",
       "      <th>JAM</th>\n",
       "      <th>MOTOR</th>\n",
       "      <th>MOBIL</th>\n",
       "      <th>TRUK/BUS</th>\n",
       "      <th>JUMLAH</th>\n",
       "      <th>SMP_MTR</th>\n",
       "      <th>SMP_MBL</th>\n",
       "      <th>SMP_TRK</th>\n",
       "      <th>SMP</th>\n",
       "    </tr>\n",
       "  </thead>\n",
       "  <tbody>\n",
       "    <tr>\n",
       "      <th>0</th>\n",
       "      <td>2023-01-01 00:00:00</td>\n",
       "      <td>2023</td>\n",
       "      <td>1</td>\n",
       "      <td>1</td>\n",
       "      <td>1</td>\n",
       "      <td>Sunday</td>\n",
       "      <td>00:00</td>\n",
       "      <td>103</td>\n",
       "      <td>25</td>\n",
       "      <td>14</td>\n",
       "      <td>142</td>\n",
       "      <td>82.4</td>\n",
       "      <td>25</td>\n",
       "      <td>35.0</td>\n",
       "      <td>142</td>\n",
       "    </tr>\n",
       "    <tr>\n",
       "      <th>1</th>\n",
       "      <td>2023-01-01 00:15:00</td>\n",
       "      <td>2023</td>\n",
       "      <td>1</td>\n",
       "      <td>1</td>\n",
       "      <td>1</td>\n",
       "      <td>Sunday</td>\n",
       "      <td>00:15</td>\n",
       "      <td>111</td>\n",
       "      <td>16</td>\n",
       "      <td>12</td>\n",
       "      <td>139</td>\n",
       "      <td>88.8</td>\n",
       "      <td>16</td>\n",
       "      <td>30.0</td>\n",
       "      <td>135</td>\n",
       "    </tr>\n",
       "    <tr>\n",
       "      <th>2</th>\n",
       "      <td>2023-01-01 00:30:00</td>\n",
       "      <td>2023</td>\n",
       "      <td>1</td>\n",
       "      <td>1</td>\n",
       "      <td>1</td>\n",
       "      <td>Sunday</td>\n",
       "      <td>00:30</td>\n",
       "      <td>114</td>\n",
       "      <td>26</td>\n",
       "      <td>6</td>\n",
       "      <td>146</td>\n",
       "      <td>91.2</td>\n",
       "      <td>26</td>\n",
       "      <td>15.0</td>\n",
       "      <td>132</td>\n",
       "    </tr>\n",
       "    <tr>\n",
       "      <th>3</th>\n",
       "      <td>2023-01-01 00:45:00</td>\n",
       "      <td>2023</td>\n",
       "      <td>1</td>\n",
       "      <td>1</td>\n",
       "      <td>1</td>\n",
       "      <td>Sunday</td>\n",
       "      <td>00:45</td>\n",
       "      <td>76</td>\n",
       "      <td>24</td>\n",
       "      <td>11</td>\n",
       "      <td>111</td>\n",
       "      <td>60.8</td>\n",
       "      <td>24</td>\n",
       "      <td>27.5</td>\n",
       "      <td>112</td>\n",
       "    </tr>\n",
       "    <tr>\n",
       "      <th>4</th>\n",
       "      <td>2023-01-01 01:00:00</td>\n",
       "      <td>2023</td>\n",
       "      <td>1</td>\n",
       "      <td>1</td>\n",
       "      <td>1</td>\n",
       "      <td>Sunday</td>\n",
       "      <td>01:00</td>\n",
       "      <td>73</td>\n",
       "      <td>24</td>\n",
       "      <td>7</td>\n",
       "      <td>104</td>\n",
       "      <td>58.4</td>\n",
       "      <td>24</td>\n",
       "      <td>17.5</td>\n",
       "      <td>100</td>\n",
       "    </tr>\n",
       "  </tbody>\n",
       "</table>\n",
       "</div>"
      ],
      "text/plain": [
       "                WAKTU  TAHUN  BULAN  PEKAN  TANGGAL    HARI    JAM  MOTOR  \\\n",
       "0 2023-01-01 00:00:00   2023      1      1        1  Sunday  00:00    103   \n",
       "1 2023-01-01 00:15:00   2023      1      1        1  Sunday  00:15    111   \n",
       "2 2023-01-01 00:30:00   2023      1      1        1  Sunday  00:30    114   \n",
       "3 2023-01-01 00:45:00   2023      1      1        1  Sunday  00:45     76   \n",
       "4 2023-01-01 01:00:00   2023      1      1        1  Sunday  01:00     73   \n",
       "\n",
       "   MOBIL  TRUK/BUS  JUMLAH  SMP_MTR  SMP_MBL  SMP_TRK  SMP  \n",
       "0     25        14     142     82.4       25     35.0  142  \n",
       "1     16        12     139     88.8       16     30.0  135  \n",
       "2     26         6     146     91.2       26     15.0  132  \n",
       "3     24        11     111     60.8       24     27.5  112  \n",
       "4     24         7     104     58.4       24     17.5  100  "
      ]
     },
     "execution_count": 24,
     "metadata": {},
     "output_type": "execute_result"
    }
   ],
   "source": [
    "path_1 = '../Data/Preprocessing/Data Balonggandu/2023/2_input_balonggandu_2023.xlsx'\n",
    "\n",
    "df_input = read_excel(path_1)\n",
    "\n",
    "\n",
    "df_input.head()"
   ]
  },
  {
   "cell_type": "code",
   "execution_count": 25,
   "id": "b636c52e-b1eb-431c-8ef4-11ff4803444b",
   "metadata": {},
   "outputs": [
    {
     "data": {
      "text/plain": [
       "35040"
      ]
     },
     "execution_count": 25,
     "metadata": {},
     "output_type": "execute_result"
    }
   ],
   "source": [
    "len(df_input)"
   ]
  },
  {
   "cell_type": "code",
   "execution_count": 26,
   "id": "e48e7aec-ae3f-429b-aee3-eb2fade5cc05",
   "metadata": {},
   "outputs": [],
   "source": [
    "# Buat daftar waktu yang lengkap dari 2022-01-01 00:00:00 hingga 2022-12-31 23:45:00 dengan interval 15 menit\n",
    "df_0 = df_input[df_input['SMP']==1869]"
   ]
  },
  {
   "cell_type": "code",
   "execution_count": 27,
   "id": "ad3c06d6-c36b-45b4-bb4a-87086be4773d",
   "metadata": {},
   "outputs": [
    {
     "data": {
      "text/plain": [
       "1"
      ]
     },
     "execution_count": 27,
     "metadata": {},
     "output_type": "execute_result"
    }
   ],
   "source": [
    "len(df_0)"
   ]
  },
  {
   "cell_type": "code",
   "execution_count": 28,
   "id": "651faeed-0437-49bb-a4f5-67827ffecea7",
   "metadata": {},
   "outputs": [
    {
     "data": {
      "text/html": [
       "<div>\n",
       "<style scoped>\n",
       "    .dataframe tbody tr th:only-of-type {\n",
       "        vertical-align: middle;\n",
       "    }\n",
       "\n",
       "    .dataframe tbody tr th {\n",
       "        vertical-align: top;\n",
       "    }\n",
       "\n",
       "    .dataframe thead th {\n",
       "        text-align: right;\n",
       "    }\n",
       "</style>\n",
       "<table border=\"1\" class=\"dataframe\">\n",
       "  <thead>\n",
       "    <tr style=\"text-align: right;\">\n",
       "      <th></th>\n",
       "      <th>WAKTU</th>\n",
       "      <th>TAHUN</th>\n",
       "      <th>BULAN</th>\n",
       "      <th>PEKAN</th>\n",
       "      <th>TANGGAL</th>\n",
       "      <th>HARI</th>\n",
       "      <th>JAM</th>\n",
       "      <th>MOTOR</th>\n",
       "      <th>MOBIL</th>\n",
       "      <th>TRUK/BUS</th>\n",
       "      <th>JUMLAH</th>\n",
       "      <th>SMP_MTR</th>\n",
       "      <th>SMP_MBL</th>\n",
       "      <th>SMP_TRK</th>\n",
       "      <th>SMP</th>\n",
       "    </tr>\n",
       "  </thead>\n",
       "  <tbody>\n",
       "    <tr>\n",
       "      <th>30112</th>\n",
       "      <td>2023-11-10 16:00:00</td>\n",
       "      <td>2023</td>\n",
       "      <td>11</td>\n",
       "      <td>2</td>\n",
       "      <td>10</td>\n",
       "      <td>Friday</td>\n",
       "      <td>16:00</td>\n",
       "      <td>678</td>\n",
       "      <td>254</td>\n",
       "      <td>429</td>\n",
       "      <td>1361</td>\n",
       "      <td>542.4</td>\n",
       "      <td>254</td>\n",
       "      <td>1072.5</td>\n",
       "      <td>1869</td>\n",
       "    </tr>\n",
       "  </tbody>\n",
       "</table>\n",
       "</div>"
      ],
      "text/plain": [
       "                    WAKTU  TAHUN  BULAN  PEKAN  TANGGAL    HARI    JAM  MOTOR  \\\n",
       "30112 2023-11-10 16:00:00   2023     11      2       10  Friday  16:00    678   \n",
       "\n",
       "       MOBIL  TRUK/BUS  JUMLAH  SMP_MTR  SMP_MBL  SMP_TRK   SMP  \n",
       "30112    254       429    1361    542.4      254   1072.5  1869  "
      ]
     },
     "execution_count": 28,
     "metadata": {},
     "output_type": "execute_result"
    }
   ],
   "source": [
    "df_0.head(13)"
   ]
  },
  {
   "cell_type": "code",
   "execution_count": null,
   "id": "c02d1944-94de-492a-b033-8ac0c22ec92c",
   "metadata": {},
   "outputs": [],
   "source": []
  }
 ],
 "metadata": {
  "kernelspec": {
   "display_name": "Python 3 (ipykernel)",
   "language": "python",
   "name": "python3"
  },
  "language_info": {
   "codemirror_mode": {
    "name": "ipython",
    "version": 3
   },
   "file_extension": ".py",
   "mimetype": "text/x-python",
   "name": "python",
   "nbconvert_exporter": "python",
   "pygments_lexer": "ipython3",
   "version": "3.10.12"
  }
 },
 "nbformat": 4,
 "nbformat_minor": 5
}

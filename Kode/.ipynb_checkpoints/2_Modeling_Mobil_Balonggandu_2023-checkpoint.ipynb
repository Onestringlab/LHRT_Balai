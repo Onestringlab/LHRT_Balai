{
 "cells": [
  {
   "cell_type": "code",
   "execution_count": null,
   "id": "6c4a9e1a-c97f-44d6-b65a-65c134283761",
   "metadata": {},
   "outputs": [],
   "source": [
    "from sklearn.preprocessing import OneHotEncoder, StandardScaler\n",
    "from sklearn.model_selection import train_test_split\n",
    "from sklearn.metrics import mean_absolute_error, mean_squared_error, r2_score\n",
    "import pandas as pd\n",
    "import numpy as np\n",
    "import pickle"
   ]
  },
  {
   "cell_type": "code",
   "execution_count": null,
   "id": "db8671e0-5c5a-4393-b5fe-5c20e8348730",
   "metadata": {},
   "outputs": [],
   "source": [
    "def read_excel(path):\n",
    "    return pd.read_excel(path)"
   ]
  },
  {
   "cell_type": "code",
   "execution_count": null,
   "id": "eabeddf9-20c1-4059-b4aa-7cdea315eb69",
   "metadata": {},
   "outputs": [],
   "source": [
    "path_1 = '../Data/Preprocessing/Data Balonggandu/2023/1_input_balonggandu_2023.xlsx'\n",
    "path_2 = '../Data/Preprocessing/Data Balonggandu/2023/1_missing_times_balonggandu_2023.xlsx'\n",
    "\n",
    "data_terisi = read_excel(path_1)\n",
    "data_kosong = read_excel(path_2)"
   ]
  },
  {
   "cell_type": "code",
   "execution_count": null,
   "id": "376a1ed5-313b-4afc-8a4a-4ace78303001",
   "metadata": {},
   "outputs": [],
   "source": [
    "data_terisi.head()"
   ]
  },
  {
   "cell_type": "code",
   "execution_count": null,
   "id": "640a5988-664e-4d8d-abeb-282c9433fafa",
   "metadata": {},
   "outputs": [],
   "source": [
    "# Menghitung IQR dan menghilangkan outlier untuk setiap kombinasi hari dan jam\n",
    "def remove_outliers(df, column):\n",
    "    # Mengelompokkan data berdasarkan 'HARI' dan 'JAM'\n",
    "    grouped = df.groupby(['HARI', 'JAM'])\n",
    "\n",
    "    # Fungsi untuk menghitung batas dan memfilter outlier\n",
    "    def filter_outliers(sub_df):\n",
    "        Q1 = sub_df[column].quantile(0.25)\n",
    "        Q3 = sub_df[column].quantile(0.75)\n",
    "        IQR = Q3 - Q1\n",
    "        lower_bound = Q1 - 1.5 * IQR\n",
    "        upper_bound = Q3 + 1.5 * IQR\n",
    "        return sub_df[(sub_df[column] >= lower_bound) & (sub_df[column] <= upper_bound)]\n",
    "    \n",
    "    # Menerapkan filter outlier ke setiap grup\n",
    "    return grouped.apply(filter_outliers).reset_index(drop=True)"
   ]
  },
  {
   "cell_type": "code",
   "execution_count": null,
   "id": "1b64c851-318f-4e69-940c-bac3b8824b08",
   "metadata": {},
   "outputs": [],
   "source": [
    "a = len(data_terisi)\n",
    "# Kolom untuk dibersihkan dari outlier, misal 'MOTOR'\n",
    "data_terisi = remove_outliers(data_terisi, 'SMP')\n",
    "b = len(data_terisi)"
   ]
  },
  {
   "cell_type": "code",
   "execution_count": null,
   "id": "864e5e89-44b2-4f28-878c-7368760e62cf",
   "metadata": {},
   "outputs": [],
   "source": [
    "print(a, b, a-b)"
   ]
  },
  {
   "cell_type": "code",
   "execution_count": null,
   "id": "5a0a5599-f6da-456c-964b-2a5695b4951d",
   "metadata": {},
   "outputs": [],
   "source": [
    "data_kosong.head()"
   ]
  },
  {
   "cell_type": "code",
   "execution_count": null,
   "id": "133077cb-3fc6-494c-83ca-617e76a0de3a",
   "metadata": {},
   "outputs": [],
   "source": [
    "# Menggabungkan data\n",
    "data = data_terisi.copy()"
   ]
  },
  {
   "cell_type": "code",
   "execution_count": null,
   "id": "1514586f-9907-44db-9a90-13a4183efb5a",
   "metadata": {},
   "outputs": [],
   "source": [
    "# Preprocessing\n",
    "encoder = OneHotEncoder(sparse_output=False)\n",
    "scaled_features = StandardScaler()"
   ]
  },
  {
   "cell_type": "code",
   "execution_count": null,
   "id": "abcd514f-b2b9-42bc-a429-ad9223646aa9",
   "metadata": {},
   "outputs": [],
   "source": [
    "# Misal meng-encode fitur 'HARI'\n",
    "encoded_days = encoder.fit_transform(data[['HARI']])"
   ]
  },
  {
   "cell_type": "code",
   "execution_count": null,
   "id": "9f47f9e2-2804-428a-a65c-12249bf9d97b",
   "metadata": {},
   "outputs": [],
   "source": [
    "# Konversi 'JAM' ke total menit sejak tengah malam\n",
    "data['JAM'] = data['JAM'].apply(lambda x: int(x.split(':')[0]) * 60 + int(x.split(':')[1]))"
   ]
  },
  {
   "cell_type": "code",
   "execution_count": null,
   "id": "733266be-0a60-4034-9e8e-5c3f7142f764",
   "metadata": {},
   "outputs": [],
   "source": [
    "# Skala fitur 'JAM', 'MOTOR', 'TRUK/BUS'\n",
    "scaled_features = scaled_features.fit_transform(data[['JAM', 'MOTOR', 'TRUK/BUS']])"
   ]
  },
  {
   "cell_type": "code",
   "execution_count": null,
   "id": "deafaa12-641b-475e-84e3-2c6658335085",
   "metadata": {},
   "outputs": [],
   "source": [
    "data.head()"
   ]
  },
  {
   "cell_type": "code",
   "execution_count": null,
   "id": "4ed39fb9-ea12-4128-bfd3-b6c590752da4",
   "metadata": {},
   "outputs": [],
   "source": [
    "# Gabungkan kembali ke DataFrame\n",
    "encoded_days = pd.DataFrame(encoded_days, columns=encoder.get_feature_names_out(['HARI']))\n",
    "scaled_features = pd.DataFrame(scaled_features, columns=['JAM', 'MOTOR', 'TRUK/BUS'])\n",
    "data_preprocessed = pd.concat([data.drop(['HARI', 'JAM', 'MOTOR', 'TRUK/BUS'], axis=1), encoded_days, scaled_features], axis=1)"
   ]
  },
  {
   "cell_type": "code",
   "execution_count": null,
   "id": "3243cc86-f02f-4bac-839a-e4f7158081a7",
   "metadata": {},
   "outputs": [],
   "source": [
    "data_preprocessed.head()"
   ]
  },
  {
   "cell_type": "markdown",
   "id": "25612674-cf14-4901-b9b6-65e10f9d4d91",
   "metadata": {},
   "source": [
    "# Prediksi Mobil"
   ]
  },
  {
   "cell_type": "code",
   "execution_count": null,
   "id": "f2b9892c-b5d0-4364-909c-9970ffc611f3",
   "metadata": {},
   "outputs": [],
   "source": [
    "# Bagi data menjadi fitur dan target\n",
    "X = data_preprocessed.drop(['TAHUN','MOTOR', 'WAKTU','TANGGAL','JUMLAH','SMP_MTR','SMP_MBL','SMP_TRK', 'SMP','MOBIL','TRUK/BUS','BULAN','PEKAN'], axis=1)\n",
    "y = data_preprocessed['MOBIL']"
   ]
  },
  {
   "cell_type": "code",
   "execution_count": null,
   "id": "332b811a-ffc4-4eb9-bd6b-de95024b7ec5",
   "metadata": {},
   "outputs": [],
   "source": [
    "# Bagi data menjadi train dan test\n",
    "X_train, X_test, y_train, y_test = train_test_split(X, y, test_size=0.2, random_state=42)"
   ]
  },
  {
   "cell_type": "code",
   "execution_count": null,
   "id": "05ce10d7-01ef-4b0c-8830-fb55869a6f94",
   "metadata": {},
   "outputs": [],
   "source": [
    "X_train"
   ]
  },
  {
   "cell_type": "code",
   "execution_count": null,
   "id": "d4c4dd16-5311-458a-9d7c-c6d19b29b9f5",
   "metadata": {},
   "outputs": [],
   "source": [
    "y_train"
   ]
  },
  {
   "cell_type": "code",
   "execution_count": null,
   "id": "18c6d1c6-bf37-421b-a6af-666434260116",
   "metadata": {},
   "outputs": [],
   "source": [
    "mses = {}\n",
    "maes = {}\n",
    "rmses = {}\n",
    "r2s  = {}"
   ]
  },
  {
   "cell_type": "markdown",
   "id": "960898dc-d322-4459-b9a9-b7238d448fa4",
   "metadata": {},
   "source": [
    "## Rata-rata hari dan jam"
   ]
  },
  {
   "cell_type": "code",
   "execution_count": null,
   "id": "d67cea0e-452a-41e1-859d-be1067260a63",
   "metadata": {},
   "outputs": [],
   "source": [
    "data_terisi_train = data_terisi.loc[X_train.index]\n",
    "data_terisi_test = data_terisi.loc[X_test.index]\n",
    "len(data_terisi_train), len(data_terisi_test), len(data_terisi_train) + len(data_terisi_test)"
   ]
  },
  {
   "cell_type": "code",
   "execution_count": null,
   "id": "953793dc-9a3a-41ff-8206-b89204ac413a",
   "metadata": {},
   "outputs": [],
   "source": [
    "def precompute_means(df):\n",
    "    # Calculate the mean values for each combination of 'PEKAN', 'HARI', and 'JAM'\n",
    "    grouped = df.groupby(['HARI', 'JAM'])[['MOTOR', 'MOBIL', 'TRUK/BUS']].mean().reset_index()\n",
    "    return grouped\n",
    "\n",
    "def find_imputation(precomputed_means, HARI, JAM):\n",
    "    # Filter the precomputed means DataFrame for the given day and hour\n",
    "    result = precomputed_means[(precomputed_means['HARI'] == HARI) & (precomputed_means['JAM'] == JAM)]\n",
    "    return result if not result.empty else pd.DataFrame()\n",
    "\n",
    "# Assuming data_terisi is the DataFrame from which you want to impute data\n",
    "precomputed_means = precompute_means(data_terisi_train)"
   ]
  },
  {
   "cell_type": "code",
   "execution_count": null,
   "id": "9078f5be-a2af-4d1b-940c-406cca645e5e",
   "metadata": {},
   "outputs": [],
   "source": [
    "# Iterate over each row in df_missing and fill in values from precomputed means\n",
    "df_missing = data_terisi_test.copy()\n",
    "df_missing['MOTOR_ORI'] = df_missing['MOTOR'] \n",
    "df_missing['MOBIL_ORI'] = df_missing['MOBIL'] \n",
    "df_missing['TRUK/BUS_ORI'] = df_missing['TRUK/BUS'] \n",
    "df_missing['MOTOR'] = np.nan\n",
    "for i, row in df_missing.iterrows():\n",
    "    if pd.isna(row['MOTOR']):  # Check if MOTOR is NaN\n",
    "        imputation = find_imputation(precomputed_means, row['HARI'], row['JAM'])\n",
    "        if not imputation.empty:\n",
    "            df_missing.at[i, 'MOTOR'] = imputation['MOTOR'].iloc[0]\n",
    "            df_missing.at[i, 'MOBIL'] = imputation['MOBIL'].iloc[0]\n",
    "            df_missing.at[i, 'TRUK/BUS'] = imputation['TRUK/BUS'].iloc[0]"
   ]
  },
  {
   "cell_type": "code",
   "execution_count": null,
   "id": "74c2d7fa-1185-471d-88d1-fc5ee5d73aee",
   "metadata": {},
   "outputs": [],
   "source": [
    "y_pred = df_missing['MOTOR']\n",
    "y_ori = df_missing['MOTOR_ORI']\n",
    "\n",
    "# Menghitung MAE\n",
    "mae = mean_absolute_error(y_ori, y_pred)\n",
    "print(\"Mean Absolute Error (MAE):\", mae)\n",
    "\n",
    "# Menghitung MSE\n",
    "mse = mean_squared_error(y_ori, y_pred)\n",
    "print(\"Mean Squared Error (MSE):\", mse)\n",
    "\n",
    "# Menghitung RMSE\n",
    "rmse = np.sqrt(mse)\n",
    "print(\"Root Mean Squared Error (RMSE):\", rmse)\n",
    "\n",
    "# Menghitung R-squared\n",
    "r2 = r2_score(y_ori, y_pred)\n",
    "print(\"R-squared:\", r2)\n",
    "\n",
    "mses[\"avg\"] = mse\n",
    "maes[\"avg\"] = mae\n",
    "rmses[\"avg\"] = rmse\n",
    "r2s[\"avg\"] = r2"
   ]
  },
  {
   "cell_type": "code",
   "execution_count": null,
   "id": "8a29bc5f-b832-4fbe-9462-0f71693eff5e",
   "metadata": {},
   "outputs": [],
   "source": [
    "df_missing[['MOTOR_ORI','MOTOR','MOBIL_ORI','MOBIL','TRUK/BUS_ORI','TRUK/BUS']].head()"
   ]
  },
  {
   "cell_type": "code",
   "execution_count": null,
   "id": "0bbf37e8-dbf2-4b48-9b74-e2b2983233bc",
   "metadata": {},
   "outputs": [],
   "source": [
    "data_avg = df_missing.rename(columns={'MOBIL': 'Predicted_avg', 'MOBIL_ORI': 'Actual'})\n",
    "data_avg = data_avg[['Actual','Predicted_avg']].reset_index(drop=True)\n",
    "data_avg['Residual_avg'] = data_avg['Actual'] - data_avg['Predicted_avg']\n",
    "data_avg.head()"
   ]
  },
  {
   "cell_type": "markdown",
   "id": "eed0d271-bb6b-42f2-bf6a-1e09c36a6852",
   "metadata": {},
   "source": [
    "## Random Forest Regressor"
   ]
  },
  {
   "cell_type": "code",
   "execution_count": null,
   "id": "82617872-5635-473c-a43e-e6e722f89e10",
   "metadata": {},
   "outputs": [],
   "source": [
    "from sklearn.ensemble import RandomForestRegressor"
   ]
  },
  {
   "cell_type": "code",
   "execution_count": null,
   "id": "edb1bd8d-4313-4536-8fdd-9c7d1074bddb",
   "metadata": {},
   "outputs": [],
   "source": [
    "# Latih model RandomForestRegressor\n",
    "model_rf_mbl = RandomForestRegressor(n_estimators=100, random_state=42)\n",
    "model_rf_mbl.fit(X_train, y_train)\n",
    "\n",
    "# Menyimpan model ke dalam file\n",
    "with open('models/model_rf_mbl_bolanggandu_2023.pkl', 'wb') as file:\n",
    "    pickle.dump(model_rf_mbl, file)\n",
    "\n",
    "# Memuat model dari file\n",
    "with open('models/model_rf_mbl_bolanggandu_2023.pkl', 'rb') as file:\n",
    "    model_rf_mbl = pickle.load(file)"
   ]
  },
  {
   "cell_type": "code",
   "execution_count": null,
   "id": "75141f6a-6926-44b1-bf70-f7f40cd99409",
   "metadata": {},
   "outputs": [],
   "source": [
    "# Membuat prediksi pada data pengujian\n",
    "y_pred = model_rf_mbl.predict(X_test)\n",
    "\n",
    "# Menghitung MAE\n",
    "mae = mean_absolute_error(y_test, y_pred)\n",
    "print(\"Mean Absolute Error (MAE):\", mae)\n",
    "\n",
    "# Menghitung MSE\n",
    "mse = mean_squared_error(y_test, y_pred)\n",
    "print(\"Mean Squared Error (MSE):\", mse)\n",
    "\n",
    "# Menghitung RMSE\n",
    "rmse = np.sqrt(mse)\n",
    "print(\"Root Mean Squared Error (RMSE):\", rmse)\n",
    "\n",
    "# Menghitung R-squared\n",
    "r2 = r2_score(y_test, y_pred)\n",
    "print(\"R-squared:\", r2)\n",
    "\n",
    "mses[\"rfr\"] = mse\n",
    "maes[\"rfr\"] = mae\n",
    "rmses[\"rfr\"] = rmse\n",
    "r2s[\"rfr\"] = r2"
   ]
  },
  {
   "cell_type": "code",
   "execution_count": null,
   "id": "c9174e40-9b47-4a7b-8cb6-7e1ea5fcb25c",
   "metadata": {},
   "outputs": [],
   "source": [
    "# Create a DataFrame from the actual and predicted values\n",
    "y_pred_pd = pd.Series(y_pred)\n",
    "y_test_pd = y_test.reset_index(drop=True)\n",
    "\n",
    "data_rfr = pd.DataFrame({\n",
    "    'Actual': y_test_pd,\n",
    "    'Predicted_rfr': y_pred_pd\n",
    "})\n",
    "\n",
    "data_rfr['Residual_rfr'] = data_rfr['Actual'] - data_rfr['Predicted_rfr']\n",
    "data_rfr.head(5)"
   ]
  },
  {
   "cell_type": "markdown",
   "id": "beed845a-fdc7-4b78-aa7f-c674bc293c2e",
   "metadata": {},
   "source": [
    "## Gradient Boosting Regressor"
   ]
  },
  {
   "cell_type": "code",
   "execution_count": null,
   "id": "58ab183a-5c28-4538-90df-fde141515895",
   "metadata": {},
   "outputs": [],
   "source": [
    "from sklearn.ensemble import GradientBoostingRegressor"
   ]
  },
  {
   "cell_type": "code",
   "execution_count": null,
   "id": "022db6b4-a012-472a-91f0-70d93a4ec3ba",
   "metadata": {},
   "outputs": [],
   "source": [
    "# Initialize and train the Gradient Boosting Regressor\n",
    "model_gb_mbl = GradientBoostingRegressor(n_estimators=100, learning_rate=0.01, max_depth=3, random_state=42)\n",
    "model_gb_mbl.fit(X_train, y_train)"
   ]
  },
  {
   "cell_type": "code",
   "execution_count": null,
   "id": "4ab91e18-9b7f-4efa-a27a-d28e4f368d9b",
   "metadata": {},
   "outputs": [],
   "source": [
    "# Membuat prediksi pada data pengujian\n",
    "y_pred = model_gb_mbl.predict(X_test)\n",
    "\n",
    "# Menghitung MAE\n",
    "mae = mean_absolute_error(y_test, y_pred)\n",
    "print(\"Mean Absolute Error (MAE):\", mae)\n",
    "\n",
    "# Menghitung MSE\n",
    "mse = mean_squared_error(y_test, y_pred)\n",
    "print(\"Mean Squared Error (MSE):\", mse)\n",
    "\n",
    "# Menghitung RMSE\n",
    "rmse = np.sqrt(mse)\n",
    "print(\"Root Mean Squared Error (RMSE):\", rmse)\n",
    "\n",
    "# Menghitung R-squared\n",
    "r2 = r2_score(y_test, y_pred)\n",
    "print(\"R-squared:\", r2)\n",
    "\n",
    "mses[\"gbr\"] = mse\n",
    "maes[\"gbr\"] = mae\n",
    "rmses[\"gbr\"] = rmse\n",
    "r2s[\"gbr\"] = r2"
   ]
  },
  {
   "cell_type": "code",
   "execution_count": null,
   "id": "9ca76a29-5caf-413c-870a-b2a4f4fe192b",
   "metadata": {},
   "outputs": [],
   "source": [
    "# Create a DataFrame from the actual and predicted values\n",
    "y_pred_pd = pd.Series(y_pred)\n",
    "y_test_pd = y_test.reset_index(drop=True)\n",
    "\n",
    "data_gbr = pd.DataFrame({\n",
    "    'Actual': y_test_pd,\n",
    "    'Predicted_gbr': y_pred_pd\n",
    "})\n",
    "\n",
    "data_gbr['Residual_gbr'] = data_gbr['Actual'] - data_gbr['Predicted_gbr']\n",
    "data_gbr.head(5)"
   ]
  },
  {
   "cell_type": "markdown",
   "id": "bca2340b-db12-43b0-8b1d-1d0919b820a3",
   "metadata": {},
   "source": [
    "## DecisionTreeRegressor"
   ]
  },
  {
   "cell_type": "code",
   "execution_count": null,
   "id": "de394f4b-56f2-4d6a-9677-695eadae8411",
   "metadata": {},
   "outputs": [],
   "source": [
    "from sklearn.tree import DecisionTreeRegressor"
   ]
  },
  {
   "cell_type": "code",
   "execution_count": null,
   "id": "e9605f1a-5033-41a1-97ee-6152cfb5cb89",
   "metadata": {},
   "outputs": [],
   "source": [
    "# Initialize and train the Logistic Regression model\n",
    "model_dt_mbl = DecisionTreeRegressor()\n",
    "model_dt_mbl.fit(X_train, y_train)"
   ]
  },
  {
   "cell_type": "code",
   "execution_count": null,
   "id": "656d2258-b422-4705-ba76-dc3830509c9d",
   "metadata": {},
   "outputs": [],
   "source": [
    "# Membuat prediksi pada data pengujian\n",
    "y_pred = model_dt_mbl.predict(X_test)\n",
    "\n",
    "# Menghitung MAE\n",
    "mae = mean_absolute_error(y_test, y_pred)\n",
    "print(\"Mean Absolute Error (MAE):\", mae)\n",
    "\n",
    "# Menghitung MSE\n",
    "mse = mean_squared_error(y_test, y_pred)\n",
    "print(\"Mean Squared Error (MSE):\", mse)\n",
    "\n",
    "# Menghitung RMSE\n",
    "rmse = np.sqrt(mse)\n",
    "print(\"Root Mean Squared Error (RMSE):\", rmse)\n",
    "\n",
    "# Menghitung R-squared\n",
    "r2 = r2_score(y_test, y_pred)\n",
    "print(\"R-squared:\", r2)\n",
    "\n",
    "mses[\"dtr\"] = mse\n",
    "maes[\"dtr\"] = mae\n",
    "rmses[\"dtr\"] = rmse\n",
    "r2s[\"dtr\"] = r2"
   ]
  },
  {
   "cell_type": "code",
   "execution_count": null,
   "id": "f0dc7369-b9b9-4870-8b53-f95bb97659c8",
   "metadata": {},
   "outputs": [],
   "source": [
    "# Create a DataFrame from the actual and predicted values\n",
    "y_pred_pd = pd.Series(y_pred)\n",
    "y_test_pd = y_test.reset_index(drop=True)\n",
    "\n",
    "data_dtr = pd.DataFrame({\n",
    "    'Actual': y_test_pd,\n",
    "    'Predicted_dtr': y_pred_pd\n",
    "})\n",
    "\n",
    "data_dtr['Residual_dtr'] = data_dtr['Actual'] - data_dtr['Predicted_dtr']\n",
    "data_dtr.head()"
   ]
  },
  {
   "cell_type": "markdown",
   "id": "fea3cd62-5cab-44b8-81b4-89d69f7ab838",
   "metadata": {},
   "source": [
    "## Neural Network"
   ]
  },
  {
   "cell_type": "code",
   "execution_count": null,
   "id": "aeb3eaef-6e8a-4120-a657-9901f8a87d0d",
   "metadata": {},
   "outputs": [],
   "source": [
    "import torch\n",
    "import torch.nn as nn\n",
    "import torch.optim as optim\n",
    "from torch.utils.data import DataLoader, TensorDataset\n",
    "from sklearn.metrics import mean_squared_error, r2_score\n",
    "from sklearn.model_selection import train_test_split\n",
    "import numpy as np"
   ]
  },
  {
   "cell_type": "code",
   "execution_count": null,
   "id": "e0a00791-53a6-4fcd-8561-14da15df49bb",
   "metadata": {},
   "outputs": [],
   "source": [
    "class NeuralNetwork(nn.Module):\n",
    "    def __init__(self, input_size):\n",
    "        super(NeuralNetwork, self).__init__()\n",
    "        self.layer1 = nn.Linear(input_size, 128)\n",
    "        self.layer2 = nn.Linear(128, 256)\n",
    "        self.layer3 = nn.Linear(256, 512)\n",
    "        self.layer4 = nn.Linear(512, 256)\n",
    "        self.layer5 = nn.Linear(256, 128)        \n",
    "        self.relu = nn.ReLU()\n",
    "        self.output_layer = nn.Linear(128, 1)\n",
    "        \n",
    "    def forward(self, x):\n",
    "        x = self.relu(self.layer1(x))\n",
    "        x = self.relu(self.layer2(x))\n",
    "        x = self.relu(self.layer3(x))\n",
    "        x = self.relu(self.layer4(x))\n",
    "        x = self.relu(self.layer5(x))\n",
    "        x = self.output_layer(x)\n",
    "        return x"
   ]
  },
  {
   "cell_type": "code",
   "execution_count": null,
   "id": "c36be5c6-93e1-47b2-a276-57fbe08a9372",
   "metadata": {},
   "outputs": [],
   "source": [
    "# Checking for GPU availability\n",
    "device = torch.device(\"cuda\" if torch.cuda.is_available() else \"cpu\")\n",
    "print(\"Using device:\", device)"
   ]
  },
  {
   "cell_type": "code",
   "execution_count": null,
   "id": "fb18314b-ab4d-48ce-8b75-d0d174efba76",
   "metadata": {},
   "outputs": [],
   "source": [
    "# Assuming X and y are your features and target variable respectively, already loaded as pandas DataFrames\n",
    "X_train, X_test, y_train, y_test = train_test_split(X, y, test_size=0.2, random_state=42)\n",
    "\n",
    "# Converting data to PyTorch tensors\n",
    "X_train_tensor = torch.tensor(X_train.values, dtype=torch.float32).to(device)\n",
    "y_train_tensor = torch.tensor(y_train.values, dtype=torch.float32).view(-1, 1).to(device)\n",
    "X_test_tensor = torch.tensor(X_test.values, dtype=torch.float32).to(device)\n",
    "y_test_tensor = torch.tensor(y_test.values, dtype=torch.float32).view(-1, 1).to(device)\n",
    "\n",
    "# Creating dataloaders\n",
    "train_data = TensorDataset(X_train_tensor, y_train_tensor)\n",
    "train_loader = DataLoader(train_data, batch_size=64, shuffle=True)"
   ]
  },
  {
   "cell_type": "code",
   "execution_count": null,
   "id": "1207ea46-b91c-490b-880c-eeae2c515783",
   "metadata": {},
   "outputs": [],
   "source": [
    "# Initialize and move the model to the device\n",
    "model_nn_mbl = NeuralNetwork(X_train.shape[1]).to(device)\n",
    "optimizer = optim.Adam(model_nn_mbl.parameters(), lr=0.01)\n",
    "criterion = nn.MSELoss()"
   ]
  },
  {
   "cell_type": "code",
   "execution_count": null,
   "id": "341bd43a-4dfc-427c-8cf1-ef68d8fddab7",
   "metadata": {},
   "outputs": [],
   "source": [
    "model_nn_mbl.train()\n",
    "num_epochs = 100\n",
    "for epoch in range(num_epochs):\n",
    "    for data, targets in train_loader:\n",
    "        optimizer.zero_grad()\n",
    "        outputs = model_nn_mbl(data)\n",
    "        loss = criterion(outputs, targets)\n",
    "        loss.backward()\n",
    "        optimizer.step()\n",
    "    if (epoch+1) % 10 == 0:\n",
    "        print(f'Epoch [{epoch+1}/{num_epochs}], Loss: {loss.item():.4f}')\n"
   ]
  },
  {
   "cell_type": "code",
   "execution_count": null,
   "id": "fc34fda0-6c7f-47bb-98c1-a00f7e1021fc",
   "metadata": {},
   "outputs": [],
   "source": [
    "# Menyimpan seluruh model\n",
    "model_path = \"models/model_nn_mbl_bolanggandu_2023.pth\"\n",
    "torch.save(model_nn_mbl, model_path)\n",
    "\n",
    "# Memuat model utuh\n",
    "model_nn_mbl = torch.load(model_path)"
   ]
  },
  {
   "cell_type": "code",
   "execution_count": null,
   "id": "bc845635-e446-4658-bf98-84009e6a8359",
   "metadata": {},
   "outputs": [],
   "source": [
    "model_nn_mbl.eval()\n",
    "with torch.no_grad():\n",
    "    # Ensure the model's output is moved to CPU before converting to numpy\n",
    "    predictions = model_nn_mbl(X_test_tensor).cpu().numpy()  # Move the tensor to CPU first\n",
    "    mse = mean_squared_error(y_test, predictions)\n",
    "    r2 = r2_score(y_test, predictions)\n",
    "\n",
    "print(\"MSE for Neural Network:\", mse)\n",
    "print(\"R-squared for Neural Network:\", r2)\n",
    "\n",
    "mses[\"nn\"] = mse\n",
    "maes[\"nn\"] = mae\n",
    "rmses[\"nn\"] = rmse\n",
    "r2s[\"nn\"] = r2"
   ]
  },
  {
   "cell_type": "code",
   "execution_count": null,
   "id": "8817bb52-5f01-4098-9992-d7c8da548877",
   "metadata": {},
   "outputs": [],
   "source": [
    "# Create a DataFrame from the actual and predicted values\n",
    "y_pred_pd = predictions.flatten()\n",
    "y_test_pd = y_test.reset_index(drop=True)\n",
    "\n",
    "data_nn = pd.DataFrame({\n",
    "    'Actual': y_test_pd,\n",
    "    'Predicted_nn': y_pred_pd\n",
    "})\n",
    "\n",
    "data_nn['Residual_nn'] = data_nn['Actual'] - data_nn['Predicted_nn']\n",
    "data_nn.head()"
   ]
  },
  {
   "cell_type": "markdown",
   "id": "2734ed15-d28e-4300-8f53-0672bd117538",
   "metadata": {},
   "source": [
    "# Visualisasi"
   ]
  },
  {
   "cell_type": "code",
   "execution_count": null,
   "id": "3a7c4f53-750b-4734-abf6-430583659aac",
   "metadata": {},
   "outputs": [],
   "source": [
    "import matplotlib.pyplot as plt"
   ]
  },
  {
   "cell_type": "code",
   "execution_count": null,
   "id": "75911f67-bc94-4f4b-b1c5-566250bb8fdf",
   "metadata": {},
   "outputs": [],
   "source": [
    "# Membuat figure dan dua subplot (untuk MSE dan R²)\n",
    "fig, ax = plt.subplots(1, 2, figsize=(14, 6))\n",
    "\n",
    "# Plot MSE\n",
    "ax[0].bar(mses.keys(), mses.values(), color='skyblue')\n",
    "ax[0].set_title('Mean Squared Error (MSE) Mobil \\n(lower better)')\n",
    "ax[0].set_xlabel('Metode')\n",
    "ax[0].set_ylabel('MSE')\n",
    "\n",
    "# Plot R²\n",
    "ax[1].bar(r2s.keys(), r2s.values(), color='salmon')\n",
    "ax[1].set_title('R-squared (R²) Mobil \\n(higher better)')\n",
    "ax[1].set_xlabel('Metode')\n",
    "ax[1].set_ylabel('R²')"
   ]
  },
  {
   "cell_type": "code",
   "execution_count": null,
   "id": "c6c88954-1c7a-451d-8b63-bd98ba281389",
   "metadata": {},
   "outputs": [],
   "source": [
    "print(mses)\n",
    "print(maes)\n",
    "print(rmses)\n",
    "print(r2s)"
   ]
  },
  {
   "cell_type": "code",
   "execution_count": null,
   "id": "5d8e4d02-0316-4ad3-9f84-86619bca2bf0",
   "metadata": {},
   "outputs": [],
   "source": [
    "# Gabungkan tabel berdasarkan kolom \"Actual\"\n",
    "result = data_avg.merge(data_rfr[['Predicted_rfr','Residual_rfr']], left_index=True, right_index=True) \\\n",
    "                 .merge(data_gbr[['Predicted_gbr','Residual_gbr']], left_index=True, right_index=True) \\\n",
    "                 .merge(data_dtr[['Predicted_dtr','Residual_dtr']], left_index=True, right_index=True) \\\n",
    "                 .merge(data_nn[['Predicted_nn','Residual_nn']], left_index=True, right_index=True)\n",
    "result.head()"
   ]
  },
  {
   "cell_type": "code",
   "execution_count": null,
   "id": "b644f9f8-9bb9-44b8-810f-d02827144738",
   "metadata": {},
   "outputs": [],
   "source": [
    "import seaborn as sns"
   ]
  },
  {
   "cell_type": "code",
   "execution_count": null,
   "id": "6f9d208f-6f0e-4e8c-956e-1b0c96ff8c4f",
   "metadata": {},
   "outputs": [],
   "source": [
    "# Creating a DataFrame\n",
    "df = result.copy()\n",
    "\n",
    "# Set up the plot grid\n",
    "fig, axes = plt.subplots(3, 2, figsize=(14, 18))\n",
    "fig.suptitle('Residual Analysis by Prediction Method')\n",
    "\n",
    "# Scatter plot for each model's residuals\n",
    "sns.scatterplot(x=df['Predicted_avg'], y=df['Residual_avg'], ax=axes[0, 0])\n",
    "axes[0, 0].axhline(0, color='red', linestyle='--')\n",
    "axes[0, 0].set_title('Residuals vs Predicted (Average)')\n",
    "axes[0, 0].set_xlabel('Predicted_avg')\n",
    "axes[0, 0].set_ylabel('Residual_avg')\n",
    "\n",
    "sns.scatterplot(x=df['Predicted_rfr'], y=df['Residual_rfr'], ax=axes[0, 1])\n",
    "axes[0, 1].axhline(0, color='red', linestyle='--')\n",
    "axes[0, 1].set_title('Residuals vs Predicted (Random Forest)')\n",
    "axes[0, 1].set_xlabel('Predicted_rfr')\n",
    "axes[0, 1].set_ylabel('Residual_rfr')\n",
    "\n",
    "sns.scatterplot(x=df['Predicted_gbr'], y=df['Residual_gbr'], ax=axes[1, 0])\n",
    "axes[1, 0].axhline(0, color='red', linestyle='--')\n",
    "axes[1, 0].set_title('Residuals vs Predicted (Gradient Boosting)')\n",
    "axes[1, 0].set_xlabel('Predicted_gbr')\n",
    "axes[1, 0].set_ylabel('Residual_gbr')\n",
    "\n",
    "sns.scatterplot(x=df['Predicted_dtr'], y=df['Residual_dtr'], ax=axes[1, 1])\n",
    "axes[1, 1].axhline(0, color='red', linestyle='--')\n",
    "axes[1, 1].set_title('Residuals vs Predicted (Decision Tree)')\n",
    "axes[1, 1].set_xlabel('Predicted_dtr')\n",
    "axes[1, 1].set_ylabel('Residual_dtr')\n",
    "\n",
    "sns.scatterplot(x=df['Predicted_nn'], y=df['Residual_nn'], ax=axes[2, 0])\n",
    "axes[2, 0].axhline(0, color='red', linestyle='--')\n",
    "axes[2, 0].set_title('Residuals vs Predicted (Neural Network)')\n",
    "axes[2, 0].set_xlabel('Predicted_nn')\n",
    "axes[2, 0].set_ylabel('Residual_nn')\n",
    "\n",
    "# Hide the last empty plot (since we have an odd number of plots)\n",
    "axes[2, 1].axis('off')\n",
    "\n",
    "plt.tight_layout(rect=[0, 0.03, 1, 0.95])\n",
    "plt.show()"
   ]
  },
  {
   "cell_type": "code",
   "execution_count": null,
   "id": "ca6d6fa0-d71f-4b14-ab69-5e693a7d63ec",
   "metadata": {},
   "outputs": [],
   "source": []
  }
 ],
 "metadata": {
  "kernelspec": {
   "display_name": "Python 3 (ipykernel)",
   "language": "python",
   "name": "python3"
  },
  "language_info": {
   "codemirror_mode": {
    "name": "ipython",
    "version": 3
   },
   "file_extension": ".py",
   "mimetype": "text/x-python",
   "name": "python",
   "nbconvert_exporter": "python",
   "pygments_lexer": "ipython3",
   "version": "3.10.12"
  }
 },
 "nbformat": 4,
 "nbformat_minor": 5
}

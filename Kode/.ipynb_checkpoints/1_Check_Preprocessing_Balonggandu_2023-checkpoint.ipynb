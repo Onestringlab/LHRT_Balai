{
 "cells": [
  {
   "cell_type": "code",
   "execution_count": 1,
   "id": "de8b0482-d7f4-4a5d-ad2b-a065e7a95cb8",
   "metadata": {},
   "outputs": [],
   "source": [
    "import os\n",
    "import numpy as np\n",
    "import pandas as pd"
   ]
  },
  {
   "cell_type": "code",
   "execution_count": 2,
   "id": "ffa7b032-0111-426f-946d-0a959ba85153",
   "metadata": {},
   "outputs": [],
   "source": [
    "def read_excel(path):\n",
    "    return pd.read_excel(path)\n",
    "\n",
    "def menggabungkan_data(df, missing_times):\n",
    "    # Menggabungkan data hilang dengan DataFrame utama\n",
    "    df = pd.concat([df, missing_times], ignore_index=True)\n",
    "    \n",
    "    # Mengurutkan DataFrame berdasarkan kolom 'Waktu'\n",
    "    df = df.sort_values(by=['TAHUN','BULAN','TANGGAL','HARI','JAM']).reset_index(drop=True)\n",
    "\n",
    "    return df"
   ]
  },
  {
   "cell_type": "code",
   "execution_count": 3,
   "id": "eff0ddb9-7a48-4e7f-b9b4-afece7693010",
   "metadata": {},
   "outputs": [
    {
     "data": {
      "text/html": [
       "<div>\n",
       "<style scoped>\n",
       "    .dataframe tbody tr th:only-of-type {\n",
       "        vertical-align: middle;\n",
       "    }\n",
       "\n",
       "    .dataframe tbody tr th {\n",
       "        vertical-align: top;\n",
       "    }\n",
       "\n",
       "    .dataframe thead th {\n",
       "        text-align: right;\n",
       "    }\n",
       "</style>\n",
       "<table border=\"1\" class=\"dataframe\">\n",
       "  <thead>\n",
       "    <tr style=\"text-align: right;\">\n",
       "      <th></th>\n",
       "      <th>WAKTU</th>\n",
       "      <th>TAHUN</th>\n",
       "      <th>BULAN</th>\n",
       "      <th>TANGGAL</th>\n",
       "      <th>HARI</th>\n",
       "      <th>JAM</th>\n",
       "      <th>MOTOR</th>\n",
       "      <th>MOBIL</th>\n",
       "      <th>TRUK/BUS</th>\n",
       "      <th>TOTAL</th>\n",
       "      <th>SMP_MTR</th>\n",
       "      <th>SMP_MBL</th>\n",
       "      <th>SMP_TRK</th>\n",
       "      <th>SMP</th>\n",
       "    </tr>\n",
       "  </thead>\n",
       "  <tbody>\n",
       "    <tr>\n",
       "      <th>0</th>\n",
       "      <td>2024-03-01 00:00:00</td>\n",
       "      <td>2024</td>\n",
       "      <td>3</td>\n",
       "      <td>1</td>\n",
       "      <td>Friday</td>\n",
       "      <td>00:00</td>\n",
       "      <td>45.0</td>\n",
       "      <td>51.0</td>\n",
       "      <td>87.0</td>\n",
       "      <td>183.0</td>\n",
       "      <td>9.0</td>\n",
       "      <td>51.0</td>\n",
       "      <td>217.5</td>\n",
       "      <td>278.0</td>\n",
       "    </tr>\n",
       "    <tr>\n",
       "      <th>1</th>\n",
       "      <td>2024-03-01 00:15:00</td>\n",
       "      <td>2024</td>\n",
       "      <td>3</td>\n",
       "      <td>1</td>\n",
       "      <td>Friday</td>\n",
       "      <td>00:15</td>\n",
       "      <td>60.0</td>\n",
       "      <td>45.0</td>\n",
       "      <td>76.0</td>\n",
       "      <td>181.0</td>\n",
       "      <td>12.0</td>\n",
       "      <td>45.0</td>\n",
       "      <td>190.0</td>\n",
       "      <td>247.0</td>\n",
       "    </tr>\n",
       "    <tr>\n",
       "      <th>2</th>\n",
       "      <td>2024-03-01 00:30:00</td>\n",
       "      <td>2024</td>\n",
       "      <td>3</td>\n",
       "      <td>1</td>\n",
       "      <td>Friday</td>\n",
       "      <td>00:30</td>\n",
       "      <td>66.0</td>\n",
       "      <td>67.0</td>\n",
       "      <td>89.0</td>\n",
       "      <td>222.0</td>\n",
       "      <td>13.2</td>\n",
       "      <td>67.0</td>\n",
       "      <td>222.5</td>\n",
       "      <td>303.0</td>\n",
       "    </tr>\n",
       "    <tr>\n",
       "      <th>3</th>\n",
       "      <td>2024-03-01 00:45:00</td>\n",
       "      <td>2024</td>\n",
       "      <td>3</td>\n",
       "      <td>1</td>\n",
       "      <td>Friday</td>\n",
       "      <td>00:45</td>\n",
       "      <td>40.0</td>\n",
       "      <td>60.0</td>\n",
       "      <td>78.0</td>\n",
       "      <td>178.0</td>\n",
       "      <td>8.0</td>\n",
       "      <td>60.0</td>\n",
       "      <td>195.0</td>\n",
       "      <td>263.0</td>\n",
       "    </tr>\n",
       "    <tr>\n",
       "      <th>4</th>\n",
       "      <td>2024-03-01 01:00:00</td>\n",
       "      <td>2024</td>\n",
       "      <td>3</td>\n",
       "      <td>1</td>\n",
       "      <td>Friday</td>\n",
       "      <td>01:00</td>\n",
       "      <td>54.0</td>\n",
       "      <td>95.0</td>\n",
       "      <td>112.0</td>\n",
       "      <td>261.0</td>\n",
       "      <td>10.8</td>\n",
       "      <td>95.0</td>\n",
       "      <td>280.0</td>\n",
       "      <td>386.0</td>\n",
       "    </tr>\n",
       "  </tbody>\n",
       "</table>\n",
       "</div>"
      ],
      "text/plain": [
       "                WAKTU  TAHUN  BULAN  TANGGAL    HARI    JAM  MOTOR  MOBIL  \\\n",
       "0 2024-03-01 00:00:00   2024      3        1  Friday  00:00   45.0   51.0   \n",
       "1 2024-03-01 00:15:00   2024      3        1  Friday  00:15   60.0   45.0   \n",
       "2 2024-03-01 00:30:00   2024      3        1  Friday  00:30   66.0   67.0   \n",
       "3 2024-03-01 00:45:00   2024      3        1  Friday  00:45   40.0   60.0   \n",
       "4 2024-03-01 01:00:00   2024      3        1  Friday  01:00   54.0   95.0   \n",
       "\n",
       "   TRUK/BUS  TOTAL  SMP_MTR  SMP_MBL  SMP_TRK    SMP  \n",
       "0      87.0  183.0      9.0     51.0    217.5  278.0  \n",
       "1      76.0  181.0     12.0     45.0    190.0  247.0  \n",
       "2      89.0  222.0     13.2     67.0    222.5  303.0  \n",
       "3      78.0  178.0      8.0     60.0    195.0  263.0  \n",
       "4     112.0  261.0     10.8     95.0    280.0  386.0  "
      ]
     },
     "execution_count": 3,
     "metadata": {},
     "output_type": "execute_result"
    }
   ],
   "source": [
    "path_1 = '../Data/Preprocessing/Data Losarang/2024/1_input_03 Maret 2024.xlsx'\n",
    "path_2 = '../Data/Preprocessing/Data Losarang/2024/1_missing_times_03 Maret 2024.xlsx'\n",
    "\n",
    "df_input = read_excel(path_1)\n",
    "df_missing = read_excel(path_2)\n",
    "\n",
    "df_compiled = menggabungkan_data(df_input, df_missing)\n",
    "df_compiled.head()"
   ]
  },
  {
   "cell_type": "code",
   "execution_count": 13,
   "id": "b636c52e-b1eb-431c-8ef4-11ff4803444b",
   "metadata": {},
   "outputs": [
    {
     "data": {
      "text/plain": [
       "2977"
      ]
     },
     "execution_count": 13,
     "metadata": {},
     "output_type": "execute_result"
    }
   ],
   "source": [
    "len(df_compiled)"
   ]
  },
  {
   "cell_type": "code",
   "execution_count": 14,
   "id": "e48e7aec-ae3f-429b-aee3-eb2fade5cc05",
   "metadata": {},
   "outputs": [],
   "source": [
    "# Buat daftar waktu yang lengkap dari 2022-01-01 00:00:00 hingga 2022-12-31 23:45:00 dengan interval 15 menit\n",
    "time_range = pd.date_range(start='2024-03-01 00:00:00', end='2024-03-31 23:45:00', freq='15T')"
   ]
  },
  {
   "cell_type": "code",
   "execution_count": 15,
   "id": "ad3c06d6-c36b-45b4-bb4a-87086be4773d",
   "metadata": {},
   "outputs": [
    {
     "data": {
      "text/plain": [
       "DatetimeIndex(['2024-03-01 00:00:00', '2024-03-01 00:15:00',\n",
       "               '2024-03-01 00:30:00', '2024-03-01 00:45:00',\n",
       "               '2024-03-01 01:00:00', '2024-03-01 01:15:00',\n",
       "               '2024-03-01 01:30:00', '2024-03-01 01:45:00',\n",
       "               '2024-03-01 02:00:00', '2024-03-01 02:15:00',\n",
       "               ...\n",
       "               '2024-03-31 21:30:00', '2024-03-31 21:45:00',\n",
       "               '2024-03-31 22:00:00', '2024-03-31 22:15:00',\n",
       "               '2024-03-31 22:30:00', '2024-03-31 22:45:00',\n",
       "               '2024-03-31 23:00:00', '2024-03-31 23:15:00',\n",
       "               '2024-03-31 23:30:00', '2024-03-31 23:45:00'],\n",
       "              dtype='datetime64[ns]', length=2976, freq='15T')"
      ]
     },
     "execution_count": 15,
     "metadata": {},
     "output_type": "execute_result"
    }
   ],
   "source": [
    "time_range"
   ]
  },
  {
   "cell_type": "code",
   "execution_count": 16,
   "id": "651faeed-0437-49bb-a4f5-67827ffecea7",
   "metadata": {},
   "outputs": [
    {
     "name": "stdout",
     "output_type": "stream",
     "text": [
      "Waktu yang hilang: set()\n"
     ]
    }
   ],
   "source": [
    "missing_time = set(df_compiled['WAKTU']) - set(time_range)\n",
    "print(\"Waktu yang hilang:\", missing_time)"
   ]
  },
  {
   "cell_type": "code",
   "execution_count": 17,
   "id": "bc6fd08e-4361-4a27-8660-e73e3ad4f41d",
   "metadata": {},
   "outputs": [],
   "source": [
    "duplicates = df_compiled[df_compiled.duplicated(subset='WAKTU', keep=False)]"
   ]
  },
  {
   "cell_type": "code",
   "execution_count": 18,
   "id": "1e02bb91-9eee-4fa7-83b4-64f434d9cb31",
   "metadata": {},
   "outputs": [
    {
     "data": {
      "text/html": [
       "<div>\n",
       "<style scoped>\n",
       "    .dataframe tbody tr th:only-of-type {\n",
       "        vertical-align: middle;\n",
       "    }\n",
       "\n",
       "    .dataframe tbody tr th {\n",
       "        vertical-align: top;\n",
       "    }\n",
       "\n",
       "    .dataframe thead th {\n",
       "        text-align: right;\n",
       "    }\n",
       "</style>\n",
       "<table border=\"1\" class=\"dataframe\">\n",
       "  <thead>\n",
       "    <tr style=\"text-align: right;\">\n",
       "      <th></th>\n",
       "      <th>WAKTU</th>\n",
       "      <th>TAHUN</th>\n",
       "      <th>BULAN</th>\n",
       "      <th>TANGGAL</th>\n",
       "      <th>HARI</th>\n",
       "      <th>JAM</th>\n",
       "      <th>MOTOR</th>\n",
       "      <th>MOBIL</th>\n",
       "      <th>TRUK/BUS</th>\n",
       "      <th>TOTAL</th>\n",
       "      <th>SMP_MTR</th>\n",
       "      <th>SMP_MBL</th>\n",
       "      <th>SMP_TRK</th>\n",
       "      <th>SMP</th>\n",
       "    </tr>\n",
       "  </thead>\n",
       "  <tbody>\n",
       "    <tr>\n",
       "      <th>368</th>\n",
       "      <td>2024-03-04 20:00:00</td>\n",
       "      <td>2024</td>\n",
       "      <td>3</td>\n",
       "      <td>4</td>\n",
       "      <td>Monday</td>\n",
       "      <td>20:00</td>\n",
       "      <td>101.0</td>\n",
       "      <td>53.0</td>\n",
       "      <td>73.0</td>\n",
       "      <td>227.0</td>\n",
       "      <td>20.2</td>\n",
       "      <td>53.0</td>\n",
       "      <td>182.5</td>\n",
       "      <td>256.0</td>\n",
       "    </tr>\n",
       "    <tr>\n",
       "      <th>369</th>\n",
       "      <td>2024-03-04 20:00:00</td>\n",
       "      <td>2024</td>\n",
       "      <td>3</td>\n",
       "      <td>4</td>\n",
       "      <td>Monday</td>\n",
       "      <td>20:00</td>\n",
       "      <td>140.0</td>\n",
       "      <td>72.0</td>\n",
       "      <td>66.0</td>\n",
       "      <td>278.0</td>\n",
       "      <td>28.0</td>\n",
       "      <td>72.0</td>\n",
       "      <td>165.0</td>\n",
       "      <td>265.0</td>\n",
       "    </tr>\n",
       "  </tbody>\n",
       "</table>\n",
       "</div>"
      ],
      "text/plain": [
       "                  WAKTU  TAHUN  BULAN  TANGGAL    HARI    JAM  MOTOR  MOBIL  \\\n",
       "368 2024-03-04 20:00:00   2024      3        4  Monday  20:00  101.0   53.0   \n",
       "369 2024-03-04 20:00:00   2024      3        4  Monday  20:00  140.0   72.0   \n",
       "\n",
       "     TRUK/BUS  TOTAL  SMP_MTR  SMP_MBL  SMP_TRK    SMP  \n",
       "368      73.0  227.0     20.2     53.0    182.5  256.0  \n",
       "369      66.0  278.0     28.0     72.0    165.0  265.0  "
      ]
     },
     "execution_count": 18,
     "metadata": {},
     "output_type": "execute_result"
    }
   ],
   "source": [
    "duplicates"
   ]
  },
  {
   "cell_type": "code",
   "execution_count": null,
   "id": "ed649c55-09b4-4b16-8b21-573324be1e31",
   "metadata": {},
   "outputs": [],
   "source": []
  }
 ],
 "metadata": {
  "kernelspec": {
   "display_name": "Python 3 (ipykernel)",
   "language": "python",
   "name": "python3"
  },
  "language_info": {
   "codemirror_mode": {
    "name": "ipython",
    "version": 3
   },
   "file_extension": ".py",
   "mimetype": "text/x-python",
   "name": "python",
   "nbconvert_exporter": "python",
   "pygments_lexer": "ipython3",
   "version": "3.10.12"
  }
 },
 "nbformat": 4,
 "nbformat_minor": 5
}

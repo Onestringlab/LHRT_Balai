{
 "cells": [
  {
   "cell_type": "code",
   "execution_count": 1,
   "id": "6c4a9e1a-c97f-44d6-b65a-65c134283761",
   "metadata": {},
   "outputs": [],
   "source": [
    "from sklearn.preprocessing import OneHotEncoder, StandardScaler\n",
    "from sklearn.model_selection import train_test_split\n",
    "from sklearn.metrics import mean_absolute_error, mean_squared_error, r2_score\n",
    "import pandas as pd\n",
    "import numpy as np\n",
    "import pickle"
   ]
  },
  {
   "cell_type": "code",
   "execution_count": 2,
   "id": "db8671e0-5c5a-4393-b5fe-5c20e8348730",
   "metadata": {},
   "outputs": [],
   "source": [
    "def read_excel(path):\n",
    "    return pd.read_excel(path)"
   ]
  },
  {
   "cell_type": "code",
   "execution_count": 3,
   "id": "eabeddf9-20c1-4059-b4aa-7cdea315eb69",
   "metadata": {},
   "outputs": [
    {
     "ename": "KeyboardInterrupt",
     "evalue": "",
     "output_type": "error",
     "traceback": [
      "\u001b[0;31m---------------------------------------------------------------------------\u001b[0m",
      "\u001b[0;31mKeyboardInterrupt\u001b[0m                         Traceback (most recent call last)",
      "Cell \u001b[0;32mIn[3], line 4\u001b[0m\n\u001b[1;32m      1\u001b[0m path_1 \u001b[38;5;241m=\u001b[39m \u001b[38;5;124m'\u001b[39m\u001b[38;5;124m../Data/Preprocessing/Data Losarang/2023/1_input_losarang_2023.xlsx\u001b[39m\u001b[38;5;124m'\u001b[39m\n\u001b[1;32m      2\u001b[0m path_2 \u001b[38;5;241m=\u001b[39m \u001b[38;5;124m'\u001b[39m\u001b[38;5;124m../Data/Preprocessing/Data Losarang/2023/1_missing_times_losarang_2023.xlsx\u001b[39m\u001b[38;5;124m'\u001b[39m\n\u001b[0;32m----> 4\u001b[0m data_terisi \u001b[38;5;241m=\u001b[39m \u001b[43mread_excel\u001b[49m\u001b[43m(\u001b[49m\u001b[43mpath_1\u001b[49m\u001b[43m)\u001b[49m\n\u001b[1;32m      5\u001b[0m data_kosong \u001b[38;5;241m=\u001b[39m read_excel(path_2)\n",
      "Cell \u001b[0;32mIn[2], line 2\u001b[0m, in \u001b[0;36mread_excel\u001b[0;34m(path)\u001b[0m\n\u001b[1;32m      1\u001b[0m \u001b[38;5;28;01mdef\u001b[39;00m \u001b[38;5;21mread_excel\u001b[39m(path):\n\u001b[0;32m----> 2\u001b[0m     \u001b[38;5;28;01mreturn\u001b[39;00m \u001b[43mpd\u001b[49m\u001b[38;5;241;43m.\u001b[39;49m\u001b[43mread_excel\u001b[49m\u001b[43m(\u001b[49m\u001b[43mpath\u001b[49m\u001b[43m)\u001b[49m\n",
      "File \u001b[0;32m~/miniconda3/envs/py31012/lib/python3.10/site-packages/pandas/io/excel/_base.py:486\u001b[0m, in \u001b[0;36mread_excel\u001b[0;34m(io, sheet_name, header, names, index_col, usecols, dtype, engine, converters, true_values, false_values, skiprows, nrows, na_values, keep_default_na, na_filter, verbose, parse_dates, date_parser, date_format, thousands, decimal, comment, skipfooter, storage_options, dtype_backend)\u001b[0m\n\u001b[1;32m    480\u001b[0m     \u001b[38;5;28;01mraise\u001b[39;00m \u001b[38;5;167;01mValueError\u001b[39;00m(\n\u001b[1;32m    481\u001b[0m         \u001b[38;5;124m\"\u001b[39m\u001b[38;5;124mEngine should not be specified when passing \u001b[39m\u001b[38;5;124m\"\u001b[39m\n\u001b[1;32m    482\u001b[0m         \u001b[38;5;124m\"\u001b[39m\u001b[38;5;124man ExcelFile - ExcelFile already has the engine set\u001b[39m\u001b[38;5;124m\"\u001b[39m\n\u001b[1;32m    483\u001b[0m     )\n\u001b[1;32m    485\u001b[0m \u001b[38;5;28;01mtry\u001b[39;00m:\n\u001b[0;32m--> 486\u001b[0m     data \u001b[38;5;241m=\u001b[39m \u001b[43mio\u001b[49m\u001b[38;5;241;43m.\u001b[39;49m\u001b[43mparse\u001b[49m\u001b[43m(\u001b[49m\n\u001b[1;32m    487\u001b[0m \u001b[43m        \u001b[49m\u001b[43msheet_name\u001b[49m\u001b[38;5;241;43m=\u001b[39;49m\u001b[43msheet_name\u001b[49m\u001b[43m,\u001b[49m\n\u001b[1;32m    488\u001b[0m \u001b[43m        \u001b[49m\u001b[43mheader\u001b[49m\u001b[38;5;241;43m=\u001b[39;49m\u001b[43mheader\u001b[49m\u001b[43m,\u001b[49m\n\u001b[1;32m    489\u001b[0m \u001b[43m        \u001b[49m\u001b[43mnames\u001b[49m\u001b[38;5;241;43m=\u001b[39;49m\u001b[43mnames\u001b[49m\u001b[43m,\u001b[49m\n\u001b[1;32m    490\u001b[0m \u001b[43m        \u001b[49m\u001b[43mindex_col\u001b[49m\u001b[38;5;241;43m=\u001b[39;49m\u001b[43mindex_col\u001b[49m\u001b[43m,\u001b[49m\n\u001b[1;32m    491\u001b[0m \u001b[43m        \u001b[49m\u001b[43musecols\u001b[49m\u001b[38;5;241;43m=\u001b[39;49m\u001b[43musecols\u001b[49m\u001b[43m,\u001b[49m\n\u001b[1;32m    492\u001b[0m \u001b[43m        \u001b[49m\u001b[43mdtype\u001b[49m\u001b[38;5;241;43m=\u001b[39;49m\u001b[43mdtype\u001b[49m\u001b[43m,\u001b[49m\n\u001b[1;32m    493\u001b[0m \u001b[43m        \u001b[49m\u001b[43mconverters\u001b[49m\u001b[38;5;241;43m=\u001b[39;49m\u001b[43mconverters\u001b[49m\u001b[43m,\u001b[49m\n\u001b[1;32m    494\u001b[0m \u001b[43m        \u001b[49m\u001b[43mtrue_values\u001b[49m\u001b[38;5;241;43m=\u001b[39;49m\u001b[43mtrue_values\u001b[49m\u001b[43m,\u001b[49m\n\u001b[1;32m    495\u001b[0m \u001b[43m        \u001b[49m\u001b[43mfalse_values\u001b[49m\u001b[38;5;241;43m=\u001b[39;49m\u001b[43mfalse_values\u001b[49m\u001b[43m,\u001b[49m\n\u001b[1;32m    496\u001b[0m \u001b[43m        \u001b[49m\u001b[43mskiprows\u001b[49m\u001b[38;5;241;43m=\u001b[39;49m\u001b[43mskiprows\u001b[49m\u001b[43m,\u001b[49m\n\u001b[1;32m    497\u001b[0m \u001b[43m        \u001b[49m\u001b[43mnrows\u001b[49m\u001b[38;5;241;43m=\u001b[39;49m\u001b[43mnrows\u001b[49m\u001b[43m,\u001b[49m\n\u001b[1;32m    498\u001b[0m \u001b[43m        \u001b[49m\u001b[43mna_values\u001b[49m\u001b[38;5;241;43m=\u001b[39;49m\u001b[43mna_values\u001b[49m\u001b[43m,\u001b[49m\n\u001b[1;32m    499\u001b[0m \u001b[43m        \u001b[49m\u001b[43mkeep_default_na\u001b[49m\u001b[38;5;241;43m=\u001b[39;49m\u001b[43mkeep_default_na\u001b[49m\u001b[43m,\u001b[49m\n\u001b[1;32m    500\u001b[0m \u001b[43m        \u001b[49m\u001b[43mna_filter\u001b[49m\u001b[38;5;241;43m=\u001b[39;49m\u001b[43mna_filter\u001b[49m\u001b[43m,\u001b[49m\n\u001b[1;32m    501\u001b[0m \u001b[43m        \u001b[49m\u001b[43mverbose\u001b[49m\u001b[38;5;241;43m=\u001b[39;49m\u001b[43mverbose\u001b[49m\u001b[43m,\u001b[49m\n\u001b[1;32m    502\u001b[0m \u001b[43m        \u001b[49m\u001b[43mparse_dates\u001b[49m\u001b[38;5;241;43m=\u001b[39;49m\u001b[43mparse_dates\u001b[49m\u001b[43m,\u001b[49m\n\u001b[1;32m    503\u001b[0m \u001b[43m        \u001b[49m\u001b[43mdate_parser\u001b[49m\u001b[38;5;241;43m=\u001b[39;49m\u001b[43mdate_parser\u001b[49m\u001b[43m,\u001b[49m\n\u001b[1;32m    504\u001b[0m \u001b[43m        \u001b[49m\u001b[43mdate_format\u001b[49m\u001b[38;5;241;43m=\u001b[39;49m\u001b[43mdate_format\u001b[49m\u001b[43m,\u001b[49m\n\u001b[1;32m    505\u001b[0m \u001b[43m        \u001b[49m\u001b[43mthousands\u001b[49m\u001b[38;5;241;43m=\u001b[39;49m\u001b[43mthousands\u001b[49m\u001b[43m,\u001b[49m\n\u001b[1;32m    506\u001b[0m \u001b[43m        \u001b[49m\u001b[43mdecimal\u001b[49m\u001b[38;5;241;43m=\u001b[39;49m\u001b[43mdecimal\u001b[49m\u001b[43m,\u001b[49m\n\u001b[1;32m    507\u001b[0m \u001b[43m        \u001b[49m\u001b[43mcomment\u001b[49m\u001b[38;5;241;43m=\u001b[39;49m\u001b[43mcomment\u001b[49m\u001b[43m,\u001b[49m\n\u001b[1;32m    508\u001b[0m \u001b[43m        \u001b[49m\u001b[43mskipfooter\u001b[49m\u001b[38;5;241;43m=\u001b[39;49m\u001b[43mskipfooter\u001b[49m\u001b[43m,\u001b[49m\n\u001b[1;32m    509\u001b[0m \u001b[43m        \u001b[49m\u001b[43mdtype_backend\u001b[49m\u001b[38;5;241;43m=\u001b[39;49m\u001b[43mdtype_backend\u001b[49m\u001b[43m,\u001b[49m\n\u001b[1;32m    510\u001b[0m \u001b[43m    \u001b[49m\u001b[43m)\u001b[49m\n\u001b[1;32m    511\u001b[0m \u001b[38;5;28;01mfinally\u001b[39;00m:\n\u001b[1;32m    512\u001b[0m     \u001b[38;5;66;03m# make sure to close opened file handles\u001b[39;00m\n\u001b[1;32m    513\u001b[0m     \u001b[38;5;28;01mif\u001b[39;00m should_close:\n",
      "File \u001b[0;32m~/miniconda3/envs/py31012/lib/python3.10/site-packages/pandas/io/excel/_base.py:1551\u001b[0m, in \u001b[0;36mExcelFile.parse\u001b[0;34m(self, sheet_name, header, names, index_col, usecols, converters, true_values, false_values, skiprows, nrows, na_values, parse_dates, date_parser, date_format, thousands, comment, skipfooter, dtype_backend, **kwds)\u001b[0m\n\u001b[1;32m   1518\u001b[0m \u001b[38;5;28;01mdef\u001b[39;00m \u001b[38;5;21mparse\u001b[39m(\n\u001b[1;32m   1519\u001b[0m     \u001b[38;5;28mself\u001b[39m,\n\u001b[1;32m   1520\u001b[0m     sheet_name: \u001b[38;5;28mstr\u001b[39m \u001b[38;5;241m|\u001b[39m \u001b[38;5;28mint\u001b[39m \u001b[38;5;241m|\u001b[39m \u001b[38;5;28mlist\u001b[39m[\u001b[38;5;28mint\u001b[39m] \u001b[38;5;241m|\u001b[39m \u001b[38;5;28mlist\u001b[39m[\u001b[38;5;28mstr\u001b[39m] \u001b[38;5;241m|\u001b[39m \u001b[38;5;28;01mNone\u001b[39;00m \u001b[38;5;241m=\u001b[39m \u001b[38;5;241m0\u001b[39m,\n\u001b[0;32m   (...)\u001b[0m\n\u001b[1;32m   1538\u001b[0m     \u001b[38;5;241m*\u001b[39m\u001b[38;5;241m*\u001b[39mkwds,\n\u001b[1;32m   1539\u001b[0m ) \u001b[38;5;241m-\u001b[39m\u001b[38;5;241m>\u001b[39m DataFrame \u001b[38;5;241m|\u001b[39m \u001b[38;5;28mdict\u001b[39m[\u001b[38;5;28mstr\u001b[39m, DataFrame] \u001b[38;5;241m|\u001b[39m \u001b[38;5;28mdict\u001b[39m[\u001b[38;5;28mint\u001b[39m, DataFrame]:\n\u001b[1;32m   1540\u001b[0m \u001b[38;5;250m    \u001b[39m\u001b[38;5;124;03m\"\"\"\u001b[39;00m\n\u001b[1;32m   1541\u001b[0m \u001b[38;5;124;03m    Parse specified sheet(s) into a DataFrame.\u001b[39;00m\n\u001b[1;32m   1542\u001b[0m \n\u001b[0;32m   (...)\u001b[0m\n\u001b[1;32m   1549\u001b[0m \u001b[38;5;124;03m        DataFrame from the passed in Excel file.\u001b[39;00m\n\u001b[1;32m   1550\u001b[0m \u001b[38;5;124;03m    \"\"\"\u001b[39;00m\n\u001b[0;32m-> 1551\u001b[0m     \u001b[38;5;28;01mreturn\u001b[39;00m \u001b[38;5;28;43mself\u001b[39;49m\u001b[38;5;241;43m.\u001b[39;49m\u001b[43m_reader\u001b[49m\u001b[38;5;241;43m.\u001b[39;49m\u001b[43mparse\u001b[49m\u001b[43m(\u001b[49m\n\u001b[1;32m   1552\u001b[0m \u001b[43m        \u001b[49m\u001b[43msheet_name\u001b[49m\u001b[38;5;241;43m=\u001b[39;49m\u001b[43msheet_name\u001b[49m\u001b[43m,\u001b[49m\n\u001b[1;32m   1553\u001b[0m \u001b[43m        \u001b[49m\u001b[43mheader\u001b[49m\u001b[38;5;241;43m=\u001b[39;49m\u001b[43mheader\u001b[49m\u001b[43m,\u001b[49m\n\u001b[1;32m   1554\u001b[0m \u001b[43m        \u001b[49m\u001b[43mnames\u001b[49m\u001b[38;5;241;43m=\u001b[39;49m\u001b[43mnames\u001b[49m\u001b[43m,\u001b[49m\n\u001b[1;32m   1555\u001b[0m \u001b[43m        \u001b[49m\u001b[43mindex_col\u001b[49m\u001b[38;5;241;43m=\u001b[39;49m\u001b[43mindex_col\u001b[49m\u001b[43m,\u001b[49m\n\u001b[1;32m   1556\u001b[0m \u001b[43m        \u001b[49m\u001b[43musecols\u001b[49m\u001b[38;5;241;43m=\u001b[39;49m\u001b[43musecols\u001b[49m\u001b[43m,\u001b[49m\n\u001b[1;32m   1557\u001b[0m \u001b[43m        \u001b[49m\u001b[43mconverters\u001b[49m\u001b[38;5;241;43m=\u001b[39;49m\u001b[43mconverters\u001b[49m\u001b[43m,\u001b[49m\n\u001b[1;32m   1558\u001b[0m \u001b[43m        \u001b[49m\u001b[43mtrue_values\u001b[49m\u001b[38;5;241;43m=\u001b[39;49m\u001b[43mtrue_values\u001b[49m\u001b[43m,\u001b[49m\n\u001b[1;32m   1559\u001b[0m \u001b[43m        \u001b[49m\u001b[43mfalse_values\u001b[49m\u001b[38;5;241;43m=\u001b[39;49m\u001b[43mfalse_values\u001b[49m\u001b[43m,\u001b[49m\n\u001b[1;32m   1560\u001b[0m \u001b[43m        \u001b[49m\u001b[43mskiprows\u001b[49m\u001b[38;5;241;43m=\u001b[39;49m\u001b[43mskiprows\u001b[49m\u001b[43m,\u001b[49m\n\u001b[1;32m   1561\u001b[0m \u001b[43m        \u001b[49m\u001b[43mnrows\u001b[49m\u001b[38;5;241;43m=\u001b[39;49m\u001b[43mnrows\u001b[49m\u001b[43m,\u001b[49m\n\u001b[1;32m   1562\u001b[0m \u001b[43m        \u001b[49m\u001b[43mna_values\u001b[49m\u001b[38;5;241;43m=\u001b[39;49m\u001b[43mna_values\u001b[49m\u001b[43m,\u001b[49m\n\u001b[1;32m   1563\u001b[0m \u001b[43m        \u001b[49m\u001b[43mparse_dates\u001b[49m\u001b[38;5;241;43m=\u001b[39;49m\u001b[43mparse_dates\u001b[49m\u001b[43m,\u001b[49m\n\u001b[1;32m   1564\u001b[0m \u001b[43m        \u001b[49m\u001b[43mdate_parser\u001b[49m\u001b[38;5;241;43m=\u001b[39;49m\u001b[43mdate_parser\u001b[49m\u001b[43m,\u001b[49m\n\u001b[1;32m   1565\u001b[0m \u001b[43m        \u001b[49m\u001b[43mdate_format\u001b[49m\u001b[38;5;241;43m=\u001b[39;49m\u001b[43mdate_format\u001b[49m\u001b[43m,\u001b[49m\n\u001b[1;32m   1566\u001b[0m \u001b[43m        \u001b[49m\u001b[43mthousands\u001b[49m\u001b[38;5;241;43m=\u001b[39;49m\u001b[43mthousands\u001b[49m\u001b[43m,\u001b[49m\n\u001b[1;32m   1567\u001b[0m \u001b[43m        \u001b[49m\u001b[43mcomment\u001b[49m\u001b[38;5;241;43m=\u001b[39;49m\u001b[43mcomment\u001b[49m\u001b[43m,\u001b[49m\n\u001b[1;32m   1568\u001b[0m \u001b[43m        \u001b[49m\u001b[43mskipfooter\u001b[49m\u001b[38;5;241;43m=\u001b[39;49m\u001b[43mskipfooter\u001b[49m\u001b[43m,\u001b[49m\n\u001b[1;32m   1569\u001b[0m \u001b[43m        \u001b[49m\u001b[43mdtype_backend\u001b[49m\u001b[38;5;241;43m=\u001b[39;49m\u001b[43mdtype_backend\u001b[49m\u001b[43m,\u001b[49m\n\u001b[1;32m   1570\u001b[0m \u001b[43m        \u001b[49m\u001b[38;5;241;43m*\u001b[39;49m\u001b[38;5;241;43m*\u001b[39;49m\u001b[43mkwds\u001b[49m\u001b[43m,\u001b[49m\n\u001b[1;32m   1571\u001b[0m \u001b[43m    \u001b[49m\u001b[43m)\u001b[49m\n",
      "File \u001b[0;32m~/miniconda3/envs/py31012/lib/python3.10/site-packages/pandas/io/excel/_base.py:876\u001b[0m, in \u001b[0;36mBaseExcelReader.parse\u001b[0;34m(self, sheet_name, header, names, index_col, usecols, dtype, true_values, false_values, skiprows, nrows, na_values, verbose, parse_dates, date_parser, date_format, thousands, decimal, comment, skipfooter, dtype_backend, **kwds)\u001b[0m\n\u001b[1;32m    850\u001b[0m \u001b[38;5;28;01mtry\u001b[39;00m:\n\u001b[1;32m    851\u001b[0m     parser \u001b[38;5;241m=\u001b[39m TextParser(\n\u001b[1;32m    852\u001b[0m         data,\n\u001b[1;32m    853\u001b[0m         names\u001b[38;5;241m=\u001b[39mnames,\n\u001b[0;32m   (...)\u001b[0m\n\u001b[1;32m    873\u001b[0m         \u001b[38;5;241m*\u001b[39m\u001b[38;5;241m*\u001b[39mkwds,\n\u001b[1;32m    874\u001b[0m     )\n\u001b[0;32m--> 876\u001b[0m     output[asheetname] \u001b[38;5;241m=\u001b[39m \u001b[43mparser\u001b[49m\u001b[38;5;241;43m.\u001b[39;49m\u001b[43mread\u001b[49m\u001b[43m(\u001b[49m\u001b[43mnrows\u001b[49m\u001b[38;5;241;43m=\u001b[39;49m\u001b[43mnrows\u001b[49m\u001b[43m)\u001b[49m\n\u001b[1;32m    878\u001b[0m     \u001b[38;5;28;01mif\u001b[39;00m header_names:\n\u001b[1;32m    879\u001b[0m         output[asheetname]\u001b[38;5;241m.\u001b[39mcolumns \u001b[38;5;241m=\u001b[39m output[asheetname]\u001b[38;5;241m.\u001b[39mcolumns\u001b[38;5;241m.\u001b[39mset_names(\n\u001b[1;32m    880\u001b[0m             header_names\n\u001b[1;32m    881\u001b[0m         )\n",
      "File \u001b[0;32m~/miniconda3/envs/py31012/lib/python3.10/site-packages/pandas/io/parsers/readers.py:1721\u001b[0m, in \u001b[0;36mTextFileReader.read\u001b[0;34m(self, nrows)\u001b[0m\n\u001b[1;32m   1718\u001b[0m     \u001b[38;5;28;01melse\u001b[39;00m:\n\u001b[1;32m   1719\u001b[0m         new_rows \u001b[38;5;241m=\u001b[39m \u001b[38;5;28mlen\u001b[39m(index)\n\u001b[0;32m-> 1721\u001b[0m     df \u001b[38;5;241m=\u001b[39m \u001b[43mDataFrame\u001b[49m\u001b[43m(\u001b[49m\u001b[43mcol_dict\u001b[49m\u001b[43m,\u001b[49m\u001b[43m \u001b[49m\u001b[43mcolumns\u001b[49m\u001b[38;5;241;43m=\u001b[39;49m\u001b[43mcolumns\u001b[49m\u001b[43m,\u001b[49m\u001b[43m \u001b[49m\u001b[43mindex\u001b[49m\u001b[38;5;241;43m=\u001b[39;49m\u001b[43mindex\u001b[49m\u001b[43m)\u001b[49m\n\u001b[1;32m   1723\u001b[0m     \u001b[38;5;28mself\u001b[39m\u001b[38;5;241m.\u001b[39m_currow \u001b[38;5;241m+\u001b[39m\u001b[38;5;241m=\u001b[39m new_rows\n\u001b[1;32m   1724\u001b[0m \u001b[38;5;28;01mreturn\u001b[39;00m df\n",
      "File \u001b[0;32m~/miniconda3/envs/py31012/lib/python3.10/site-packages/pandas/core/frame.py:709\u001b[0m, in \u001b[0;36mDataFrame.__init__\u001b[0;34m(self, data, index, columns, dtype, copy)\u001b[0m\n\u001b[1;32m    703\u001b[0m     mgr \u001b[38;5;241m=\u001b[39m \u001b[38;5;28mself\u001b[39m\u001b[38;5;241m.\u001b[39m_init_mgr(\n\u001b[1;32m    704\u001b[0m         data, axes\u001b[38;5;241m=\u001b[39m{\u001b[38;5;124m\"\u001b[39m\u001b[38;5;124mindex\u001b[39m\u001b[38;5;124m\"\u001b[39m: index, \u001b[38;5;124m\"\u001b[39m\u001b[38;5;124mcolumns\u001b[39m\u001b[38;5;124m\"\u001b[39m: columns}, dtype\u001b[38;5;241m=\u001b[39mdtype, copy\u001b[38;5;241m=\u001b[39mcopy\n\u001b[1;32m    705\u001b[0m     )\n\u001b[1;32m    707\u001b[0m \u001b[38;5;28;01melif\u001b[39;00m \u001b[38;5;28misinstance\u001b[39m(data, \u001b[38;5;28mdict\u001b[39m):\n\u001b[1;32m    708\u001b[0m     \u001b[38;5;66;03m# GH#38939 de facto copy defaults to False only in non-dict cases\u001b[39;00m\n\u001b[0;32m--> 709\u001b[0m     mgr \u001b[38;5;241m=\u001b[39m \u001b[43mdict_to_mgr\u001b[49m\u001b[43m(\u001b[49m\u001b[43mdata\u001b[49m\u001b[43m,\u001b[49m\u001b[43m \u001b[49m\u001b[43mindex\u001b[49m\u001b[43m,\u001b[49m\u001b[43m \u001b[49m\u001b[43mcolumns\u001b[49m\u001b[43m,\u001b[49m\u001b[43m \u001b[49m\u001b[43mdtype\u001b[49m\u001b[38;5;241;43m=\u001b[39;49m\u001b[43mdtype\u001b[49m\u001b[43m,\u001b[49m\u001b[43m \u001b[49m\u001b[43mcopy\u001b[49m\u001b[38;5;241;43m=\u001b[39;49m\u001b[43mcopy\u001b[49m\u001b[43m,\u001b[49m\u001b[43m \u001b[49m\u001b[43mtyp\u001b[49m\u001b[38;5;241;43m=\u001b[39;49m\u001b[43mmanager\u001b[49m\u001b[43m)\u001b[49m\n\u001b[1;32m    710\u001b[0m \u001b[38;5;28;01melif\u001b[39;00m \u001b[38;5;28misinstance\u001b[39m(data, ma\u001b[38;5;241m.\u001b[39mMaskedArray):\n\u001b[1;32m    711\u001b[0m     \u001b[38;5;28;01mfrom\u001b[39;00m \u001b[38;5;21;01mnumpy\u001b[39;00m\u001b[38;5;21;01m.\u001b[39;00m\u001b[38;5;21;01mma\u001b[39;00m \u001b[38;5;28;01mimport\u001b[39;00m mrecords\n",
      "File \u001b[0;32m~/miniconda3/envs/py31012/lib/python3.10/site-packages/pandas/core/internals/construction.py:481\u001b[0m, in \u001b[0;36mdict_to_mgr\u001b[0;34m(data, index, columns, dtype, typ, copy)\u001b[0m\n\u001b[1;32m    477\u001b[0m     \u001b[38;5;28;01melse\u001b[39;00m:\n\u001b[1;32m    478\u001b[0m         \u001b[38;5;66;03m# dtype check to exclude e.g. range objects, scalars\u001b[39;00m\n\u001b[1;32m    479\u001b[0m         arrays \u001b[38;5;241m=\u001b[39m [x\u001b[38;5;241m.\u001b[39mcopy() \u001b[38;5;28;01mif\u001b[39;00m \u001b[38;5;28mhasattr\u001b[39m(x, \u001b[38;5;124m\"\u001b[39m\u001b[38;5;124mdtype\u001b[39m\u001b[38;5;124m\"\u001b[39m) \u001b[38;5;28;01melse\u001b[39;00m x \u001b[38;5;28;01mfor\u001b[39;00m x \u001b[38;5;129;01min\u001b[39;00m arrays]\n\u001b[0;32m--> 481\u001b[0m \u001b[38;5;28;01mreturn\u001b[39;00m \u001b[43marrays_to_mgr\u001b[49m\u001b[43m(\u001b[49m\u001b[43marrays\u001b[49m\u001b[43m,\u001b[49m\u001b[43m \u001b[49m\u001b[43mcolumns\u001b[49m\u001b[43m,\u001b[49m\u001b[43m \u001b[49m\u001b[43mindex\u001b[49m\u001b[43m,\u001b[49m\u001b[43m \u001b[49m\u001b[43mdtype\u001b[49m\u001b[38;5;241;43m=\u001b[39;49m\u001b[43mdtype\u001b[49m\u001b[43m,\u001b[49m\u001b[43m \u001b[49m\u001b[43mtyp\u001b[49m\u001b[38;5;241;43m=\u001b[39;49m\u001b[43mtyp\u001b[49m\u001b[43m,\u001b[49m\u001b[43m \u001b[49m\u001b[43mconsolidate\u001b[49m\u001b[38;5;241;43m=\u001b[39;49m\u001b[43mcopy\u001b[49m\u001b[43m)\u001b[49m\n",
      "File \u001b[0;32m~/miniconda3/envs/py31012/lib/python3.10/site-packages/pandas/core/internals/construction.py:120\u001b[0m, in \u001b[0;36marrays_to_mgr\u001b[0;34m(arrays, columns, index, dtype, verify_integrity, typ, consolidate)\u001b[0m\n\u001b[1;32m    117\u001b[0m         index \u001b[38;5;241m=\u001b[39m ensure_index(index)\n\u001b[1;32m    119\u001b[0m     \u001b[38;5;66;03m# don't force copy because getting jammed in an ndarray anyway\u001b[39;00m\n\u001b[0;32m--> 120\u001b[0m     arrays, refs \u001b[38;5;241m=\u001b[39m \u001b[43m_homogenize\u001b[49m\u001b[43m(\u001b[49m\u001b[43marrays\u001b[49m\u001b[43m,\u001b[49m\u001b[43m \u001b[49m\u001b[43mindex\u001b[49m\u001b[43m,\u001b[49m\u001b[43m \u001b[49m\u001b[43mdtype\u001b[49m\u001b[43m)\u001b[49m\n\u001b[1;32m    121\u001b[0m     \u001b[38;5;66;03m# _homogenize ensures\u001b[39;00m\n\u001b[1;32m    122\u001b[0m     \u001b[38;5;66;03m#  - all(len(x) == len(index) for x in arrays)\u001b[39;00m\n\u001b[1;32m    123\u001b[0m     \u001b[38;5;66;03m#  - all(x.ndim == 1 for x in arrays)\u001b[39;00m\n\u001b[0;32m   (...)\u001b[0m\n\u001b[1;32m    126\u001b[0m \n\u001b[1;32m    127\u001b[0m \u001b[38;5;28;01melse\u001b[39;00m:\n\u001b[1;32m    128\u001b[0m     index \u001b[38;5;241m=\u001b[39m ensure_index(index)\n",
      "File \u001b[0;32m~/miniconda3/envs/py31012/lib/python3.10/site-packages/pandas/core/internals/construction.py:607\u001b[0m, in \u001b[0;36m_homogenize\u001b[0;34m(data, index, dtype)\u001b[0m\n\u001b[1;32m    604\u001b[0m         val \u001b[38;5;241m=\u001b[39m \u001b[38;5;28mdict\u001b[39m(val)\n\u001b[1;32m    605\u001b[0m     val \u001b[38;5;241m=\u001b[39m lib\u001b[38;5;241m.\u001b[39mfast_multiget(val, oindex\u001b[38;5;241m.\u001b[39m_values, default\u001b[38;5;241m=\u001b[39mnp\u001b[38;5;241m.\u001b[39mnan)\n\u001b[0;32m--> 607\u001b[0m val \u001b[38;5;241m=\u001b[39m \u001b[43msanitize_array\u001b[49m\u001b[43m(\u001b[49m\u001b[43mval\u001b[49m\u001b[43m,\u001b[49m\u001b[43m \u001b[49m\u001b[43mindex\u001b[49m\u001b[43m,\u001b[49m\u001b[43m \u001b[49m\u001b[43mdtype\u001b[49m\u001b[38;5;241;43m=\u001b[39;49m\u001b[43mdtype\u001b[49m\u001b[43m,\u001b[49m\u001b[43m \u001b[49m\u001b[43mcopy\u001b[49m\u001b[38;5;241;43m=\u001b[39;49m\u001b[38;5;28;43;01mFalse\u001b[39;49;00m\u001b[43m)\u001b[49m\n\u001b[1;32m    608\u001b[0m com\u001b[38;5;241m.\u001b[39mrequire_length_match(val, index)\n\u001b[1;32m    609\u001b[0m refs\u001b[38;5;241m.\u001b[39mappend(\u001b[38;5;28;01mNone\u001b[39;00m)\n",
      "File \u001b[0;32m~/miniconda3/envs/py31012/lib/python3.10/site-packages/pandas/core/construction.py:569\u001b[0m, in \u001b[0;36msanitize_array\u001b[0;34m(data, index, dtype, copy, allow_2d)\u001b[0m\n\u001b[1;32m    567\u001b[0m subarr \u001b[38;5;241m=\u001b[39m data\n\u001b[1;32m    568\u001b[0m \u001b[38;5;28;01mif\u001b[39;00m data\u001b[38;5;241m.\u001b[39mdtype \u001b[38;5;241m==\u001b[39m \u001b[38;5;28mobject\u001b[39m:\n\u001b[0;32m--> 569\u001b[0m     subarr \u001b[38;5;241m=\u001b[39m \u001b[43mmaybe_infer_to_datetimelike\u001b[49m\u001b[43m(\u001b[49m\u001b[43mdata\u001b[49m\u001b[43m)\u001b[49m\n\u001b[1;32m    571\u001b[0m \u001b[38;5;28;01mif\u001b[39;00m subarr \u001b[38;5;129;01mis\u001b[39;00m data \u001b[38;5;129;01mand\u001b[39;00m copy:\n\u001b[1;32m    572\u001b[0m     subarr \u001b[38;5;241m=\u001b[39m subarr\u001b[38;5;241m.\u001b[39mcopy()\n",
      "File \u001b[0;32m~/miniconda3/envs/py31012/lib/python3.10/site-packages/pandas/core/dtypes/cast.py:1204\u001b[0m, in \u001b[0;36mmaybe_infer_to_datetimelike\u001b[0;34m(value)\u001b[0m\n\u001b[1;32m   1199\u001b[0m     \u001b[38;5;28;01mreturn\u001b[39;00m value\n\u001b[1;32m   1201\u001b[0m \u001b[38;5;66;03m# error: Incompatible return value type (got \"Union[ExtensionArray,\u001b[39;00m\n\u001b[1;32m   1202\u001b[0m \u001b[38;5;66;03m# ndarray[Any, Any]]\", expected \"Union[ndarray[Any, Any], DatetimeArray,\u001b[39;00m\n\u001b[1;32m   1203\u001b[0m \u001b[38;5;66;03m# TimedeltaArray, PeriodArray, IntervalArray]\")\u001b[39;00m\n\u001b[0;32m-> 1204\u001b[0m \u001b[38;5;28;01mreturn\u001b[39;00m \u001b[43mlib\u001b[49m\u001b[38;5;241;43m.\u001b[39;49m\u001b[43mmaybe_convert_objects\u001b[49m\u001b[43m(\u001b[49m\u001b[43m  \u001b[49m\u001b[38;5;66;43;03m# type: ignore[return-value]\u001b[39;49;00m\n\u001b[1;32m   1205\u001b[0m \u001b[43m    \u001b[49m\u001b[43mvalue\u001b[49m\u001b[43m,\u001b[49m\n\u001b[1;32m   1206\u001b[0m \u001b[43m    \u001b[49m\u001b[38;5;66;43;03m# Here we do not convert numeric dtypes, as if we wanted that,\u001b[39;49;00m\n\u001b[1;32m   1207\u001b[0m \u001b[43m    \u001b[49m\u001b[38;5;66;43;03m#  numpy would have done it for us.\u001b[39;49;00m\n\u001b[1;32m   1208\u001b[0m \u001b[43m    \u001b[49m\u001b[43mconvert_numeric\u001b[49m\u001b[38;5;241;43m=\u001b[39;49m\u001b[38;5;28;43;01mFalse\u001b[39;49;00m\u001b[43m,\u001b[49m\n\u001b[1;32m   1209\u001b[0m \u001b[43m    \u001b[49m\u001b[43mconvert_period\u001b[49m\u001b[38;5;241;43m=\u001b[39;49m\u001b[38;5;28;43;01mTrue\u001b[39;49;00m\u001b[43m,\u001b[49m\n\u001b[1;32m   1210\u001b[0m \u001b[43m    \u001b[49m\u001b[43mconvert_interval\u001b[49m\u001b[38;5;241;43m=\u001b[39;49m\u001b[38;5;28;43;01mTrue\u001b[39;49;00m\u001b[43m,\u001b[49m\n\u001b[1;32m   1211\u001b[0m \u001b[43m    \u001b[49m\u001b[43mconvert_timedelta\u001b[49m\u001b[38;5;241;43m=\u001b[39;49m\u001b[38;5;28;43;01mTrue\u001b[39;49;00m\u001b[43m,\u001b[49m\n\u001b[1;32m   1212\u001b[0m \u001b[43m    \u001b[49m\u001b[43mconvert_datetime\u001b[49m\u001b[38;5;241;43m=\u001b[39;49m\u001b[38;5;28;43;01mTrue\u001b[39;49;00m\u001b[43m,\u001b[49m\n\u001b[1;32m   1213\u001b[0m \u001b[43m    \u001b[49m\u001b[43mdtype_if_all_nat\u001b[49m\u001b[38;5;241;43m=\u001b[39;49m\u001b[43mnp\u001b[49m\u001b[38;5;241;43m.\u001b[39;49m\u001b[43mdtype\u001b[49m\u001b[43m(\u001b[49m\u001b[38;5;124;43m\"\u001b[39;49m\u001b[38;5;124;43mM8[ns]\u001b[39;49m\u001b[38;5;124;43m\"\u001b[39;49m\u001b[43m)\u001b[49m\u001b[43m,\u001b[49m\n\u001b[1;32m   1214\u001b[0m \u001b[43m\u001b[49m\u001b[43m)\u001b[49m\n",
      "File \u001b[0;32m~/miniconda3/envs/py31012/lib/python3.10/site-packages/pandas/_libs/lib.pyx:2581\u001b[0m, in \u001b[0;36mpandas._libs.lib.maybe_convert_objects\u001b[0;34m()\u001b[0m\n",
      "File \u001b[0;32m~/miniconda3/envs/py31012/lib/python3.10/site-packages/pandas/core/indexes/datetimes.py:339\u001b[0m, in \u001b[0;36mDatetimeIndex.__new__\u001b[0;34m(cls, data, freq, tz, normalize, closed, ambiguous, dayfirst, yearfirst, dtype, copy, name)\u001b[0m\n\u001b[1;32m    336\u001b[0m         data \u001b[38;5;241m=\u001b[39m data\u001b[38;5;241m.\u001b[39mcopy()\n\u001b[1;32m    337\u001b[0m     \u001b[38;5;28;01mreturn\u001b[39;00m \u001b[38;5;28mcls\u001b[39m\u001b[38;5;241m.\u001b[39m_simple_new(data, name\u001b[38;5;241m=\u001b[39mname)\n\u001b[0;32m--> 339\u001b[0m dtarr \u001b[38;5;241m=\u001b[39m \u001b[43mDatetimeArray\u001b[49m\u001b[38;5;241;43m.\u001b[39;49m\u001b[43m_from_sequence_not_strict\u001b[49m\u001b[43m(\u001b[49m\n\u001b[1;32m    340\u001b[0m \u001b[43m    \u001b[49m\u001b[43mdata\u001b[49m\u001b[43m,\u001b[49m\n\u001b[1;32m    341\u001b[0m \u001b[43m    \u001b[49m\u001b[43mdtype\u001b[49m\u001b[38;5;241;43m=\u001b[39;49m\u001b[43mdtype\u001b[49m\u001b[43m,\u001b[49m\n\u001b[1;32m    342\u001b[0m \u001b[43m    \u001b[49m\u001b[43mcopy\u001b[49m\u001b[38;5;241;43m=\u001b[39;49m\u001b[43mcopy\u001b[49m\u001b[43m,\u001b[49m\n\u001b[1;32m    343\u001b[0m \u001b[43m    \u001b[49m\u001b[43mtz\u001b[49m\u001b[38;5;241;43m=\u001b[39;49m\u001b[43mtz\u001b[49m\u001b[43m,\u001b[49m\n\u001b[1;32m    344\u001b[0m \u001b[43m    \u001b[49m\u001b[43mfreq\u001b[49m\u001b[38;5;241;43m=\u001b[39;49m\u001b[43mfreq\u001b[49m\u001b[43m,\u001b[49m\n\u001b[1;32m    345\u001b[0m \u001b[43m    \u001b[49m\u001b[43mdayfirst\u001b[49m\u001b[38;5;241;43m=\u001b[39;49m\u001b[43mdayfirst\u001b[49m\u001b[43m,\u001b[49m\n\u001b[1;32m    346\u001b[0m \u001b[43m    \u001b[49m\u001b[43myearfirst\u001b[49m\u001b[38;5;241;43m=\u001b[39;49m\u001b[43myearfirst\u001b[49m\u001b[43m,\u001b[49m\n\u001b[1;32m    347\u001b[0m \u001b[43m    \u001b[49m\u001b[43mambiguous\u001b[49m\u001b[38;5;241;43m=\u001b[39;49m\u001b[43mambiguous\u001b[49m\u001b[43m,\u001b[49m\n\u001b[1;32m    348\u001b[0m \u001b[43m\u001b[49m\u001b[43m)\u001b[49m\n\u001b[1;32m    349\u001b[0m refs \u001b[38;5;241m=\u001b[39m \u001b[38;5;28;01mNone\u001b[39;00m\n\u001b[1;32m    350\u001b[0m \u001b[38;5;28;01mif\u001b[39;00m \u001b[38;5;129;01mnot\u001b[39;00m copy \u001b[38;5;129;01mand\u001b[39;00m \u001b[38;5;28misinstance\u001b[39m(data, (Index, ABCSeries)):\n",
      "File \u001b[0;32m~/miniconda3/envs/py31012/lib/python3.10/site-packages/pandas/core/arrays/datetimes.py:333\u001b[0m, in \u001b[0;36mDatetimeArray._from_sequence_not_strict\u001b[0;34m(cls, data, dtype, copy, tz, freq, dayfirst, yearfirst, ambiguous)\u001b[0m\n\u001b[1;32m    329\u001b[0m     \u001b[38;5;28;01melse\u001b[39;00m:\n\u001b[1;32m    330\u001b[0m         \u001b[38;5;66;03m# DatetimeTZDtype\u001b[39;00m\n\u001b[1;32m    331\u001b[0m         unit \u001b[38;5;241m=\u001b[39m dtype\u001b[38;5;241m.\u001b[39munit\n\u001b[0;32m--> 333\u001b[0m subarr, tz, inferred_freq \u001b[38;5;241m=\u001b[39m \u001b[43m_sequence_to_dt64ns\u001b[49m\u001b[43m(\u001b[49m\n\u001b[1;32m    334\u001b[0m \u001b[43m    \u001b[49m\u001b[43mdata\u001b[49m\u001b[43m,\u001b[49m\n\u001b[1;32m    335\u001b[0m \u001b[43m    \u001b[49m\u001b[43mcopy\u001b[49m\u001b[38;5;241;43m=\u001b[39;49m\u001b[43mcopy\u001b[49m\u001b[43m,\u001b[49m\n\u001b[1;32m    336\u001b[0m \u001b[43m    \u001b[49m\u001b[43mtz\u001b[49m\u001b[38;5;241;43m=\u001b[39;49m\u001b[43mtz\u001b[49m\u001b[43m,\u001b[49m\n\u001b[1;32m    337\u001b[0m \u001b[43m    \u001b[49m\u001b[43mdayfirst\u001b[49m\u001b[38;5;241;43m=\u001b[39;49m\u001b[43mdayfirst\u001b[49m\u001b[43m,\u001b[49m\n\u001b[1;32m    338\u001b[0m \u001b[43m    \u001b[49m\u001b[43myearfirst\u001b[49m\u001b[38;5;241;43m=\u001b[39;49m\u001b[43myearfirst\u001b[49m\u001b[43m,\u001b[49m\n\u001b[1;32m    339\u001b[0m \u001b[43m    \u001b[49m\u001b[43mambiguous\u001b[49m\u001b[38;5;241;43m=\u001b[39;49m\u001b[43mambiguous\u001b[49m\u001b[43m,\u001b[49m\n\u001b[1;32m    340\u001b[0m \u001b[43m    \u001b[49m\u001b[43mout_unit\u001b[49m\u001b[38;5;241;43m=\u001b[39;49m\u001b[43munit\u001b[49m\u001b[43m,\u001b[49m\n\u001b[1;32m    341\u001b[0m \u001b[43m\u001b[49m\u001b[43m)\u001b[49m\n\u001b[1;32m    342\u001b[0m \u001b[38;5;66;03m# We have to call this again after possibly inferring a tz above\u001b[39;00m\n\u001b[1;32m    343\u001b[0m _validate_tz_from_dtype(dtype, tz, explicit_tz_none)\n",
      "File \u001b[0;32m~/miniconda3/envs/py31012/lib/python3.10/site-packages/pandas/core/arrays/datetimes.py:2057\u001b[0m, in \u001b[0;36m_sequence_to_dt64ns\u001b[0;34m(data, copy, tz, dayfirst, yearfirst, ambiguous, out_unit)\u001b[0m\n\u001b[1;32m   2053\u001b[0m     \u001b[38;5;28;01mreturn\u001b[39;00m i8data\u001b[38;5;241m.\u001b[39mview(DT64NS_DTYPE), tz, \u001b[38;5;28;01mNone\u001b[39;00m\n\u001b[1;32m   2054\u001b[0m \u001b[38;5;28;01melse\u001b[39;00m:\n\u001b[1;32m   2055\u001b[0m     \u001b[38;5;66;03m# data comes back here as either i8 to denote UTC timestamps\u001b[39;00m\n\u001b[1;32m   2056\u001b[0m     \u001b[38;5;66;03m#  or M8[ns] to denote wall times\u001b[39;00m\n\u001b[0;32m-> 2057\u001b[0m     data, inferred_tz \u001b[38;5;241m=\u001b[39m \u001b[43mobjects_to_datetime64ns\u001b[49m\u001b[43m(\u001b[49m\n\u001b[1;32m   2058\u001b[0m \u001b[43m        \u001b[49m\u001b[43mdata\u001b[49m\u001b[43m,\u001b[49m\n\u001b[1;32m   2059\u001b[0m \u001b[43m        \u001b[49m\u001b[43mdayfirst\u001b[49m\u001b[38;5;241;43m=\u001b[39;49m\u001b[43mdayfirst\u001b[49m\u001b[43m,\u001b[49m\n\u001b[1;32m   2060\u001b[0m \u001b[43m        \u001b[49m\u001b[43myearfirst\u001b[49m\u001b[38;5;241;43m=\u001b[39;49m\u001b[43myearfirst\u001b[49m\u001b[43m,\u001b[49m\n\u001b[1;32m   2061\u001b[0m \u001b[43m        \u001b[49m\u001b[43mallow_object\u001b[49m\u001b[38;5;241;43m=\u001b[39;49m\u001b[38;5;28;43;01mFalse\u001b[39;49;00m\u001b[43m,\u001b[49m\n\u001b[1;32m   2062\u001b[0m \u001b[43m    \u001b[49m\u001b[43m)\u001b[49m\n\u001b[1;32m   2063\u001b[0m     \u001b[38;5;28;01mif\u001b[39;00m tz \u001b[38;5;129;01mand\u001b[39;00m inferred_tz:\n\u001b[1;32m   2064\u001b[0m         \u001b[38;5;66;03m#  two timezones: convert to intended from base UTC repr\u001b[39;00m\n\u001b[1;32m   2065\u001b[0m         \u001b[38;5;28;01massert\u001b[39;00m data\u001b[38;5;241m.\u001b[39mdtype \u001b[38;5;241m==\u001b[39m \u001b[38;5;124m\"\u001b[39m\u001b[38;5;124mi8\u001b[39m\u001b[38;5;124m\"\u001b[39m\n",
      "File \u001b[0;32m~/miniconda3/envs/py31012/lib/python3.10/site-packages/pandas/core/arrays/datetimes.py:2177\u001b[0m, in \u001b[0;36mobjects_to_datetime64ns\u001b[0;34m(data, dayfirst, yearfirst, utc, errors, allow_object)\u001b[0m\n\u001b[1;32m   2174\u001b[0m \u001b[38;5;66;03m# if str-dtype, convert\u001b[39;00m\n\u001b[1;32m   2175\u001b[0m data \u001b[38;5;241m=\u001b[39m np\u001b[38;5;241m.\u001b[39marray(data, copy\u001b[38;5;241m=\u001b[39m\u001b[38;5;28;01mFalse\u001b[39;00m, dtype\u001b[38;5;241m=\u001b[39mnp\u001b[38;5;241m.\u001b[39mobject_)\n\u001b[0;32m-> 2177\u001b[0m result, tz_parsed \u001b[38;5;241m=\u001b[39m \u001b[43mtslib\u001b[49m\u001b[38;5;241;43m.\u001b[39;49m\u001b[43marray_to_datetime\u001b[49m\u001b[43m(\u001b[49m\n\u001b[1;32m   2178\u001b[0m \u001b[43m    \u001b[49m\u001b[43mdata\u001b[49m\u001b[43m,\u001b[49m\n\u001b[1;32m   2179\u001b[0m \u001b[43m    \u001b[49m\u001b[43merrors\u001b[49m\u001b[38;5;241;43m=\u001b[39;49m\u001b[43merrors\u001b[49m\u001b[43m,\u001b[49m\n\u001b[1;32m   2180\u001b[0m \u001b[43m    \u001b[49m\u001b[43mutc\u001b[49m\u001b[38;5;241;43m=\u001b[39;49m\u001b[43mutc\u001b[49m\u001b[43m,\u001b[49m\n\u001b[1;32m   2181\u001b[0m \u001b[43m    \u001b[49m\u001b[43mdayfirst\u001b[49m\u001b[38;5;241;43m=\u001b[39;49m\u001b[43mdayfirst\u001b[49m\u001b[43m,\u001b[49m\n\u001b[1;32m   2182\u001b[0m \u001b[43m    \u001b[49m\u001b[43myearfirst\u001b[49m\u001b[38;5;241;43m=\u001b[39;49m\u001b[43myearfirst\u001b[49m\u001b[43m,\u001b[49m\n\u001b[1;32m   2183\u001b[0m \u001b[43m\u001b[49m\u001b[43m)\u001b[49m\n\u001b[1;32m   2185\u001b[0m \u001b[38;5;28;01mif\u001b[39;00m tz_parsed \u001b[38;5;129;01mis\u001b[39;00m \u001b[38;5;129;01mnot\u001b[39;00m \u001b[38;5;28;01mNone\u001b[39;00m:\n\u001b[1;32m   2186\u001b[0m     \u001b[38;5;66;03m# We can take a shortcut since the datetime64 numpy array\u001b[39;00m\n\u001b[1;32m   2187\u001b[0m     \u001b[38;5;66;03m#  is in UTC\u001b[39;00m\n\u001b[1;32m   2188\u001b[0m     \u001b[38;5;66;03m# Return i8 values to denote unix timestamps\u001b[39;00m\n\u001b[1;32m   2189\u001b[0m     \u001b[38;5;28;01mreturn\u001b[39;00m result\u001b[38;5;241m.\u001b[39mview(\u001b[38;5;124m\"\u001b[39m\u001b[38;5;124mi8\u001b[39m\u001b[38;5;124m\"\u001b[39m), tz_parsed\n",
      "\u001b[0;31mKeyboardInterrupt\u001b[0m: "
     ]
    }
   ],
   "source": [
    "path_1 = '../Data/Preprocessing/Data Losarang/2023/1_input_losarang_2023.xlsx'\n",
    "path_2 = '../Data/Preprocessing/Data Losarang/2023/1_missing_times_losarang_2023.xlsx'\n",
    "\n",
    "data_terisi = read_excel(path_1)\n",
    "data_kosong = read_excel(path_2)"
   ]
  },
  {
   "cell_type": "code",
   "execution_count": null,
   "id": "376a1ed5-313b-4afc-8a4a-4ace78303001",
   "metadata": {},
   "outputs": [],
   "source": [
    "data_terisi.head()"
   ]
  },
  {
   "cell_type": "code",
   "execution_count": null,
   "id": "640a5988-664e-4d8d-abeb-282c9433fafa",
   "metadata": {},
   "outputs": [],
   "source": [
    "# Menghitung IQR dan menghilangkan outlier untuk setiap kombinasi hari dan jam\n",
    "def remove_outliers(df, column):\n",
    "    # Mengelompokkan data berdasarkan 'HARI' dan 'JAM'\n",
    "    grouped = df.groupby(['HARI', 'JAM'])\n",
    "\n",
    "    # Fungsi untuk menghitung batas dan memfilter outlier\n",
    "    def filter_outliers(sub_df):\n",
    "        Q1 = sub_df[column].quantile(0.25)\n",
    "        Q3 = sub_df[column].quantile(0.75)\n",
    "        IQR = Q3 - Q1\n",
    "        lower_bound = Q1 - 1.5 * IQR\n",
    "        upper_bound = Q3 + 1.5 * IQR\n",
    "        return sub_df[(sub_df[column] >= lower_bound) & (sub_df[column] <= upper_bound)]\n",
    "    \n",
    "    # Menerapkan filter outlier ke setiap grup\n",
    "    return grouped.apply(filter_outliers).reset_index(drop=True)"
   ]
  },
  {
   "cell_type": "code",
   "execution_count": null,
   "id": "1b64c851-318f-4e69-940c-bac3b8824b08",
   "metadata": {},
   "outputs": [],
   "source": [
    "a = len(data_terisi)\n",
    "# Kolom untuk dibersihkan dari outlier, misal 'MOTOR'\n",
    "data_terisi = remove_outliers(data_terisi, 'SMP')\n",
    "b = len(data_terisi)"
   ]
  },
  {
   "cell_type": "code",
   "execution_count": null,
   "id": "864e5e89-44b2-4f28-878c-7368760e62cf",
   "metadata": {},
   "outputs": [],
   "source": [
    "print(a, b, a-b)"
   ]
  },
  {
   "cell_type": "code",
   "execution_count": null,
   "id": "5a0a5599-f6da-456c-964b-2a5695b4951d",
   "metadata": {},
   "outputs": [],
   "source": [
    "data_kosong.head()"
   ]
  },
  {
   "cell_type": "code",
   "execution_count": null,
   "id": "c980cad6-0e05-47be-8d60-ce07d06d25ee",
   "metadata": {},
   "outputs": [],
   "source": [
    "# Menggabungkan data\n",
    "data = data_terisi.copy()"
   ]
  },
  {
   "cell_type": "code",
   "execution_count": null,
   "id": "1514586f-9907-44db-9a90-13a4183efb5a",
   "metadata": {},
   "outputs": [],
   "source": [
    "# Preprocessing\n",
    "encoder = OneHotEncoder(sparse_output=False)\n",
    "scaled_features = StandardScaler()"
   ]
  },
  {
   "cell_type": "code",
   "execution_count": null,
   "id": "abcd514f-b2b9-42bc-a429-ad9223646aa9",
   "metadata": {},
   "outputs": [],
   "source": [
    "# Misal meng-encode fitur 'HARI'\n",
    "encoded_days = encoder.fit_transform(data_terisi[['HARI']])"
   ]
  },
  {
   "cell_type": "code",
   "execution_count": null,
   "id": "9f47f9e2-2804-428a-a65c-12249bf9d97b",
   "metadata": {},
   "outputs": [],
   "source": [
    "# Konversi 'JAM' ke total menit sejak tengah malam\n",
    "data['JAM'] = data_terisi['JAM'].apply(lambda x: int(x.split(':')[0]) * 60 + int(x.split(':')[1]))"
   ]
  },
  {
   "cell_type": "code",
   "execution_count": null,
   "id": "733266be-0a60-4034-9e8e-5c3f7142f764",
   "metadata": {},
   "outputs": [],
   "source": [
    "# Skala fitur 'JAM', 'MOBIL', 'TRUK/BUS'\n",
    "scaled_features = scaled_features.fit_transform(data[['JAM', 'MOTOR', 'TRUK/BUS']])"
   ]
  },
  {
   "cell_type": "code",
   "execution_count": null,
   "id": "deafaa12-641b-475e-84e3-2c6658335085",
   "metadata": {},
   "outputs": [],
   "source": [
    "data.head()"
   ]
  },
  {
   "cell_type": "code",
   "execution_count": null,
   "id": "4ed39fb9-ea12-4128-bfd3-b6c590752da4",
   "metadata": {},
   "outputs": [],
   "source": [
    "# Gabungkan kembali ke DataFrame\n",
    "encoded_days = pd.DataFrame(encoded_days, columns=encoder.get_feature_names_out(['HARI']))\n",
    "scaled_features = pd.DataFrame(scaled_features, columns=['JAM', 'MOTOR', 'TRUK/BUS'])\n",
    "data_preprocessed = pd.concat([data.drop(['HARI', 'JAM', 'MOTOR', 'TRUK/BUS'], axis=1), encoded_days, scaled_features], axis=1)"
   ]
  },
  {
   "cell_type": "code",
   "execution_count": null,
   "id": "3243cc86-f02f-4bac-839a-e4f7158081a7",
   "metadata": {},
   "outputs": [],
   "source": [
    "data_preprocessed.head()"
   ]
  },
  {
   "cell_type": "markdown",
   "id": "25612674-cf14-4901-b9b6-65e10f9d4d91",
   "metadata": {},
   "source": [
    "# Prediksi Mobil"
   ]
  },
  {
   "cell_type": "code",
   "execution_count": null,
   "id": "f2b9892c-b5d0-4364-909c-9970ffc611f3",
   "metadata": {},
   "outputs": [],
   "source": [
    "# Bagi data menjadi fitur dan target\n",
    "X = data_preprocessed.drop(['TAHUN','WAKTU','TANGGAL','JUMLAH','SMP_MTR','SMP_MBL','SMP_TRK', 'SMP','MOTOR','MOBIL','TRUK/BUS','BULAN','PEKAN'], axis=1)\n",
    "y = data_preprocessed['MOBIL']"
   ]
  },
  {
   "cell_type": "code",
   "execution_count": null,
   "id": "332b811a-ffc4-4eb9-bd6b-de95024b7ec5",
   "metadata": {},
   "outputs": [],
   "source": [
    "# Bagi data menjadi train dan test\n",
    "X_train, X_test, y_train, y_test = train_test_split(X, y, test_size=0.2, random_state=42)"
   ]
  },
  {
   "cell_type": "code",
   "execution_count": null,
   "id": "05ce10d7-01ef-4b0c-8830-fb55869a6f94",
   "metadata": {},
   "outputs": [],
   "source": [
    "X_train"
   ]
  },
  {
   "cell_type": "code",
   "execution_count": null,
   "id": "d4c4dd16-5311-458a-9d7c-c6d19b29b9f5",
   "metadata": {},
   "outputs": [],
   "source": [
    "y_train"
   ]
  },
  {
   "cell_type": "code",
   "execution_count": null,
   "id": "a7a1e54c-1674-4097-8fac-5dabf5d10e99",
   "metadata": {},
   "outputs": [],
   "source": [
    "mses = {}\n",
    "maes = {}\n",
    "rmses = {}\n",
    "r2s  = {}"
   ]
  },
  {
   "cell_type": "markdown",
   "id": "c580f980-7f91-4cc9-b02d-1bfdef83ab15",
   "metadata": {},
   "source": [
    "# Rata-rata hari dan jam"
   ]
  },
  {
   "cell_type": "code",
   "execution_count": null,
   "id": "d0efc6c6-fc09-4000-a0d5-15dcb85e923d",
   "metadata": {},
   "outputs": [],
   "source": [
    "data_terisi_train = data_terisi.loc[X_train.index]\n",
    "data_terisi_test = data_terisi.loc[X_test.index]\n",
    "len(data_terisi_train), len(data_terisi_test), len(data_terisi_train) + len(data_terisi_test)"
   ]
  },
  {
   "cell_type": "code",
   "execution_count": null,
   "id": "a681792d-7fc3-42ec-8f24-8f4633d3a627",
   "metadata": {},
   "outputs": [],
   "source": [
    "def precompute_means(df):\n",
    "    # Calculate the mean values for each combination of 'PEKAN', 'HARI', and 'JAM'\n",
    "    grouped = df.groupby(['HARI', 'JAM'])[['MOTOR', 'MOBIL', 'TRUK/BUS']].mean().reset_index()\n",
    "    return grouped\n",
    "\n",
    "def find_imputation(precomputed_means, HARI, JAM):\n",
    "    # Filter the precomputed means DataFrame for the given day and hour\n",
    "    result = precomputed_means[(precomputed_means['HARI'] == HARI) & (precomputed_means['JAM'] == JAM)]\n",
    "    return result if not result.empty else pd.DataFrame()\n",
    "\n",
    "# Assuming data_terisi is the DataFrame from which you want to impute data\n",
    "precomputed_means = precompute_means(data_terisi_train)"
   ]
  },
  {
   "cell_type": "code",
   "execution_count": null,
   "id": "e1cc7fd3-6eb0-4979-a33c-fa3b7f384083",
   "metadata": {},
   "outputs": [],
   "source": [
    "# Iterate over each row in df_missing and fill in values from precomputed means\n",
    "df_missing = data_terisi_test.copy()\n",
    "df_missing['MOTOR_ORI'] = df_missing['MOTOR'] \n",
    "df_missing['MOBIL_ORI'] = df_missing['MOBIL'] \n",
    "df_missing['TRUK/BUS_ORI'] = df_missing['TRUK/BUS'] \n",
    "df_missing['MOTOR'] = np.nan\n",
    "for i, row in df_missing.iterrows():\n",
    "    if pd.isna(row['MOTOR']):  # Check if MOTOR is NaN\n",
    "        imputation = find_imputation(precomputed_means, row['HARI'], row['JAM'])\n",
    "        if not imputation.empty:\n",
    "            df_missing.at[i, 'MOTOR'] = imputation['MOTOR'].iloc[0]\n",
    "            df_missing.at[i, 'MOBIL'] = imputation['MOBIL'].iloc[0]\n",
    "            df_missing.at[i, 'TRUK/BUS'] = imputation['TRUK/BUS'].iloc[0]"
   ]
  },
  {
   "cell_type": "code",
   "execution_count": null,
   "id": "e84a7032-615a-4ef0-98ee-c5dab35fa919",
   "metadata": {},
   "outputs": [],
   "source": [
    "y_pred = df_missing['MOTOR']\n",
    "y_ori = df_missing['MOTOR_ORI']\n",
    "\n",
    "# Menghitung MAE\n",
    "mae = mean_absolute_error(y_ori, y_pred)\n",
    "print(\"Mean Absolute Error (MAE):\", mae)\n",
    "\n",
    "# Menghitung MSE\n",
    "mse = mean_squared_error(y_ori, y_pred)\n",
    "print(\"Mean Squared Error (MSE):\", mse)\n",
    "\n",
    "# Menghitung RMSE\n",
    "rmse = np.sqrt(mse)\n",
    "print(\"Root Mean Squared Error (RMSE):\", rmse)\n",
    "\n",
    "# Menghitung R-squared\n",
    "r2 = r2_score(y_ori, y_pred)\n",
    "print(\"R-squared:\", r2)\n",
    "\n",
    "mses[\"avg\"] = mse\n",
    "maes[\"avg\"] = mae\n",
    "rmses[\"avg\"] = rmse\n",
    "r2s[\"avg\"] = r2"
   ]
  },
  {
   "cell_type": "code",
   "execution_count": null,
   "id": "fcb352e5-d445-4b6c-9f77-a3fd0b0167e8",
   "metadata": {},
   "outputs": [],
   "source": [
    "df_missing[['MOTOR_ORI','MOTOR','MOBIL_ORI','MOBIL','TRUK/BUS_ORI','TRUK/BUS']].head()"
   ]
  },
  {
   "cell_type": "code",
   "execution_count": null,
   "id": "4cbf5af8-f344-4220-a2be-d97b5d8a8132",
   "metadata": {},
   "outputs": [],
   "source": [
    "data_avg = df_missing.rename(columns={'MOTOR': 'Predicted_avg', 'MOTOR_ORI': 'Actual'})\n",
    "data_avg = data_avg[['Actual','Predicted_avg']].reset_index(drop=True)\n",
    "data_avg['Residual_avg'] = data_avg['Actual'] - data_avg['Predicted_avg']\n",
    "data_avg.head()"
   ]
  },
  {
   "cell_type": "markdown",
   "id": "eed0d271-bb6b-42f2-bf6a-1e09c36a6852",
   "metadata": {},
   "source": [
    "## Random Forest Regressor"
   ]
  },
  {
   "cell_type": "code",
   "execution_count": null,
   "id": "82617872-5635-473c-a43e-e6e722f89e10",
   "metadata": {},
   "outputs": [],
   "source": [
    "from sklearn.ensemble import RandomForestRegressor"
   ]
  },
  {
   "cell_type": "code",
   "execution_count": null,
   "id": "edb1bd8d-4313-4536-8fdd-9c7d1074bddb",
   "metadata": {},
   "outputs": [],
   "source": [
    "# Latih model RandomForestRegressor\n",
    "model_rf_mbl = RandomForestRegressor(n_estimators=100, random_state=42)\n",
    "model_rf_mbl.fit(X_train, y_train)\n",
    "\n",
    "# Menyimpan model ke dalam file\n",
    "with open('models/model_rf_mbl_losarang_2023.pkl', 'wb') as file:\n",
    "    pickle.dump(model_rf_mbl, file)\n",
    "\n",
    "# Memuat model dari file\n",
    "with open('models/model_rf_mbl_losarang_2023.pkl', 'rb') as file:\n",
    "    model_rf_mbl = pickle.load(file)"
   ]
  },
  {
   "cell_type": "code",
   "execution_count": null,
   "id": "75141f6a-6926-44b1-bf70-f7f40cd99409",
   "metadata": {},
   "outputs": [],
   "source": [
    "# Membuat prediksi pada data pengujian\n",
    "y_pred = model_rf_mbl.predict(X_test)\n",
    "\n",
    "# Menghitung MAE\n",
    "mae = mean_absolute_error(y_test, y_pred)\n",
    "print(\"Mean Absolute Error (MAE):\", mae)\n",
    "\n",
    "# Menghitung MSE\n",
    "mse = mean_squared_error(y_test, y_pred)\n",
    "print(\"Mean Squared Error (MSE):\", mse)\n",
    "\n",
    "# Menghitung RMSE\n",
    "rmse = np.sqrt(mse)\n",
    "print(\"Root Mean Squared Error (RMSE):\", rmse)\n",
    "\n",
    "# Menghitung R-squared\n",
    "r2 = r2_score(y_test, y_pred)\n",
    "print(\"R-squared:\", r2)\n",
    "\n",
    "mses[\"rfr\"] = mse\n",
    "maes[\"rfr\"] = mae\n",
    "rmses[\"rfr\"] = rmse\n",
    "r2s[\"rfr\"] = r2"
   ]
  },
  {
   "cell_type": "code",
   "execution_count": null,
   "id": "638b8f3b-0ba4-4b95-bd68-c42d42344e8c",
   "metadata": {},
   "outputs": [],
   "source": [
    "# Create a DataFrame from the actual and predicted values\n",
    "y_pred_pd = pd.Series(y_pred)\n",
    "y_test_pd = y_test.reset_index(drop=True)\n",
    "\n",
    "data_rfr = pd.DataFrame({\n",
    "    'Actual': y_test_pd,\n",
    "    'Predicted_rfr': y_pred_pd\n",
    "})\n",
    "\n",
    "data_rfr['Residual_rfr'] = data_rfr['Actual'] - data_rfr['Predicted_rfr']\n",
    "data_rfr.head()"
   ]
  },
  {
   "cell_type": "markdown",
   "id": "beed845a-fdc7-4b78-aa7f-c674bc293c2e",
   "metadata": {},
   "source": [
    "## Gradient Boosting Regressor"
   ]
  },
  {
   "cell_type": "code",
   "execution_count": null,
   "id": "58ab183a-5c28-4538-90df-fde141515895",
   "metadata": {},
   "outputs": [],
   "source": [
    "from sklearn.ensemble import GradientBoostingRegressor"
   ]
  },
  {
   "cell_type": "code",
   "execution_count": null,
   "id": "022db6b4-a012-472a-91f0-70d93a4ec3ba",
   "metadata": {},
   "outputs": [],
   "source": [
    "# Initialize and train the Gradient Boosting Regressor\n",
    "model_gb_mbl = GradientBoostingRegressor(n_estimators=100, learning_rate=0.01, max_depth=3, random_state=42)\n",
    "model_gb_mbl.fit(X_train, y_train)"
   ]
  },
  {
   "cell_type": "code",
   "execution_count": null,
   "id": "4ab91e18-9b7f-4efa-a27a-d28e4f368d9b",
   "metadata": {},
   "outputs": [],
   "source": [
    "# Membuat prediksi pada data pengujian\n",
    "y_pred = model_gb_mbl.predict(X_test)\n",
    "\n",
    "# Menghitung MAE\n",
    "mae = mean_absolute_error(y_test, y_pred)\n",
    "print(\"Mean Absolute Error (MAE):\", mae)\n",
    "\n",
    "# Menghitung MSE\n",
    "mse = mean_squared_error(y_test, y_pred)\n",
    "print(\"Mean Squared Error (MSE):\", mse)\n",
    "\n",
    "# Menghitung RMSE\n",
    "rmse = np.sqrt(mse)\n",
    "print(\"Root Mean Squared Error (RMSE):\", rmse)\n",
    "\n",
    "# Menghitung R-squared\n",
    "r2 = r2_score(y_test, y_pred)\n",
    "print(\"R-squared:\", r2)\n",
    "\n",
    "mses[\"gbr\"] = mse\n",
    "maes[\"gbr\"] = mae\n",
    "rmses[\"gbr\"] = rmse\n",
    "r2s[\"gbr\"] = r2"
   ]
  },
  {
   "cell_type": "code",
   "execution_count": null,
   "id": "5f291a79-5fc2-4692-856a-0e68105d5a1c",
   "metadata": {},
   "outputs": [],
   "source": [
    "# Create a DataFrame from the actual and predicted values\n",
    "y_pred_pd = pd.Series(y_pred)\n",
    "y_test_pd = y_test.reset_index(drop=True)\n",
    "\n",
    "data_gbr = pd.DataFrame({\n",
    "    'Actual': y_test_pd,\n",
    "    'Predicted_gbr': y_pred_pd\n",
    "})\n",
    "\n",
    "data_gbr['Residual_gbr'] = data_gbr['Actual'] - data_gbr['Predicted_gbr']\n",
    "data_gbr.head()"
   ]
  },
  {
   "cell_type": "markdown",
   "id": "bca2340b-db12-43b0-8b1d-1d0919b820a3",
   "metadata": {},
   "source": [
    "## DecisionTreeRegressor"
   ]
  },
  {
   "cell_type": "code",
   "execution_count": null,
   "id": "de394f4b-56f2-4d6a-9677-695eadae8411",
   "metadata": {},
   "outputs": [],
   "source": [
    "from sklearn.tree import DecisionTreeRegressor"
   ]
  },
  {
   "cell_type": "code",
   "execution_count": null,
   "id": "e9605f1a-5033-41a1-97ee-6152cfb5cb89",
   "metadata": {},
   "outputs": [],
   "source": [
    "# Initialize and train the DecisionTreeRegressor\n",
    "model_dt_mbl = DecisionTreeRegressor(max_depth=10)\n",
    "model_dt_mbl.fit(X_train, y_train)"
   ]
  },
  {
   "cell_type": "code",
   "execution_count": null,
   "id": "656d2258-b422-4705-ba76-dc3830509c9d",
   "metadata": {},
   "outputs": [],
   "source": [
    "# Membuat prediksi pada data pengujian\n",
    "y_pred = model_dt_mbl.predict(X_test)\n",
    "\n",
    "# Menghitung MAE\n",
    "mae = mean_absolute_error(y_test, y_pred)\n",
    "print(\"Mean Absolute Error (MAE):\", mae)\n",
    "\n",
    "# Menghitung MSE\n",
    "mse = mean_squared_error(y_test, y_pred)\n",
    "print(\"Mean Squared Error (MSE):\", mse)\n",
    "\n",
    "# Menghitung RMSE\n",
    "rmse = np.sqrt(mse)\n",
    "print(\"Root Mean Squared Error (RMSE):\", rmse)\n",
    "\n",
    "# Menghitung R-squared\n",
    "r2 = r2_score(y_test, y_pred)\n",
    "print(\"R-squared:\", r2)\n",
    "\n",
    "mses[\"dtr\"] = mse\n",
    "maes[\"dtr\"] = mae\n",
    "rmses[\"dtr\"] = rmse\n",
    "r2s[\"dtr\"] = r2"
   ]
  },
  {
   "cell_type": "code",
   "execution_count": null,
   "id": "3b3c2fc1-b1a7-4370-abda-d361e101f88a",
   "metadata": {},
   "outputs": [],
   "source": [
    "# Create a DataFrame from the actual and predicted values\n",
    "y_pred_pd = pd.Series(y_pred)\n",
    "y_test_pd = y_test.reset_index(drop=True)\n",
    "\n",
    "data_dtr = pd.DataFrame({\n",
    "    'Actual': y_test_pd,\n",
    "    'Predicted_dtr': y_pred_pd\n",
    "})\n",
    "\n",
    "data_dtr['Residual_dtr'] = data_dtr['Actual'] - data_dtr['Predicted_dtr']\n",
    "data_dtr.head()"
   ]
  },
  {
   "cell_type": "markdown",
   "id": "fea3cd62-5cab-44b8-81b4-89d69f7ab838",
   "metadata": {},
   "source": [
    "## Neural Network"
   ]
  },
  {
   "cell_type": "code",
   "execution_count": null,
   "id": "aeb3eaef-6e8a-4120-a657-9901f8a87d0d",
   "metadata": {},
   "outputs": [],
   "source": [
    "import torch\n",
    "import torch.nn as nn\n",
    "import torch.optim as optim\n",
    "from torch.utils.data import DataLoader, TensorDataset\n",
    "from sklearn.metrics import mean_squared_error, r2_score\n",
    "from sklearn.model_selection import train_test_split\n",
    "import numpy as np"
   ]
  },
  {
   "cell_type": "code",
   "execution_count": null,
   "id": "e0a00791-53a6-4fcd-8561-14da15df49bb",
   "metadata": {},
   "outputs": [],
   "source": [
    "class NeuralNetwork(nn.Module):\n",
    "    def __init__(self, input_size):\n",
    "        super(NeuralNetwork, self).__init__()\n",
    "        self.layer1 = nn.Linear(input_size, 128)\n",
    "        self.layer2 = nn.Linear(128, 256)\n",
    "        self.layer3 = nn.Linear(256, 512)\n",
    "        self.layer4 = nn.Linear(512, 256)\n",
    "        self.layer5 = nn.Linear(256, 128)        \n",
    "        self.relu = nn.ReLU()\n",
    "        self.output_layer = nn.Linear(128, 1)\n",
    "        \n",
    "    def forward(self, x):\n",
    "        x = self.relu(self.layer1(x))\n",
    "        x = self.relu(self.layer2(x))\n",
    "        x = self.relu(self.layer3(x))\n",
    "        x = self.relu(self.layer4(x))\n",
    "        x = self.relu(self.layer5(x))\n",
    "        x = self.output_layer(x)\n",
    "        return x"
   ]
  },
  {
   "cell_type": "code",
   "execution_count": null,
   "id": "c36be5c6-93e1-47b2-a276-57fbe08a9372",
   "metadata": {},
   "outputs": [],
   "source": [
    "# Checking for GPU availability\n",
    "device = torch.device(\"cuda\" if torch.cuda.is_available() else \"cpu\")\n",
    "print(\"Using device:\", device)"
   ]
  },
  {
   "cell_type": "code",
   "execution_count": null,
   "id": "fb18314b-ab4d-48ce-8b75-d0d174efba76",
   "metadata": {},
   "outputs": [],
   "source": [
    "# Assuming X and y are your features and target variable respectively, already loaded as pandas DataFrames\n",
    "X_train, X_test, y_train, y_test = train_test_split(X, y, test_size=0.2, random_state=42)\n",
    "\n",
    "# Converting data to PyTorch tensors\n",
    "X_train_tensor = torch.tensor(X_train.values, dtype=torch.float32).to(device)\n",
    "y_train_tensor = torch.tensor(y_train.values, dtype=torch.float32).view(-1, 1).to(device)\n",
    "X_test_tensor = torch.tensor(X_test.values, dtype=torch.float32).to(device)\n",
    "y_test_tensor = torch.tensor(y_test.values, dtype=torch.float32).view(-1, 1).to(device)\n",
    "\n",
    "# Creating dataloaders\n",
    "train_data = TensorDataset(X_train_tensor, y_train_tensor)\n",
    "train_loader = DataLoader(train_data, batch_size=64, shuffle=True)"
   ]
  },
  {
   "cell_type": "code",
   "execution_count": null,
   "id": "1207ea46-b91c-490b-880c-eeae2c515783",
   "metadata": {},
   "outputs": [],
   "source": [
    "# Initialize and move the model to the device\n",
    "model_nn_mbl = NeuralNetwork(X_train.shape[1]).to(device)\n",
    "optimizer = optim.Adam(model_nn_mbl.parameters(), lr=0.01)\n",
    "criterion = nn.MSELoss()"
   ]
  },
  {
   "cell_type": "code",
   "execution_count": null,
   "id": "341bd43a-4dfc-427c-8cf1-ef68d8fddab7",
   "metadata": {},
   "outputs": [],
   "source": [
    "model_nn_mbl.train()\n",
    "num_epochs = 100\n",
    "for epoch in range(num_epochs):\n",
    "    for data, targets in train_loader:\n",
    "        optimizer.zero_grad()\n",
    "        outputs = model_nn_mbl(data)\n",
    "        loss = criterion(outputs, targets)\n",
    "        loss.backward()\n",
    "        optimizer.step()\n",
    "    if (epoch+1) % 10 == 0:\n",
    "        print(f'Epoch [{epoch+1}/{num_epochs}], Loss: {loss.item():.4f}')\n"
   ]
  },
  {
   "cell_type": "code",
   "execution_count": null,
   "id": "24c8376c-eb11-4a81-8075-349b4b808d03",
   "metadata": {},
   "outputs": [],
   "source": [
    "# Menyimpan seluruh model\n",
    "model_path = \"models/model_nn_mbl_losarang_2023.pth\"\n",
    "torch.save(model_nn_mbl, model_path)\n",
    "\n",
    "# Memuat model utuh\n",
    "model_nn_mbl = torch.load(model_path)"
   ]
  },
  {
   "cell_type": "code",
   "execution_count": null,
   "id": "bc845635-e446-4658-bf98-84009e6a8359",
   "metadata": {},
   "outputs": [],
   "source": [
    "model_nn_mbl.eval()\n",
    "with torch.no_grad():\n",
    "    # Ensure the model's output is moved to CPU before converting to numpy\n",
    "    predictions = model_nn_mbl(X_test_tensor).cpu().numpy()  # Move the tensor to CPU first\n",
    "    mse = mean_squared_error(y_test, predictions)\n",
    "    mae = mean_absolute_error(y_test, predictions)\n",
    "    rmse = np.sqrt(mse)\n",
    "    r2 = r2_score(y_test, predictions)\n",
    "\n",
    "print(\"MSE for Neural Network:\", mse)\n",
    "print(\"R-squared for Neural Network:\", r2)\n",
    "\n",
    "mses[\"nn\"] = mse\n",
    "maes[\"nn\"] = mae\n",
    "rmses[\"nn\"] = rmse\n",
    "r2s[\"nn\"] = r2"
   ]
  },
  {
   "cell_type": "code",
   "execution_count": null,
   "id": "8817bb52-5f01-4098-9992-d7c8da548877",
   "metadata": {},
   "outputs": [],
   "source": [
    "# Create a DataFrame from the actual and predicted values\n",
    "y_pred_pd = predictions.flatten()\n",
    "y_test_pd = y_test.reset_index(drop=True)\n",
    "\n",
    "data_nn = pd.DataFrame({\n",
    "    'Actual': y_test_pd,\n",
    "    'Predicted_nn': y_pred_pd\n",
    "})\n",
    "\n",
    "data_nn['Residual_nn'] = data_nn['Actual'] - data_nn['Predicted_nn']\n",
    "data_nn.head()"
   ]
  },
  {
   "cell_type": "markdown",
   "id": "fa7ab148-3ba1-4253-b555-36bce9b4a9a5",
   "metadata": {},
   "source": [
    "# Visualisasi"
   ]
  },
  {
   "cell_type": "code",
   "execution_count": null,
   "id": "3e8f77a7-74b1-46d8-a815-500e390899b3",
   "metadata": {},
   "outputs": [],
   "source": [
    "import matplotlib.pyplot as plt"
   ]
  },
  {
   "cell_type": "code",
   "execution_count": null,
   "id": "befcd466-bfe1-4c38-ae52-45d238cfbb51",
   "metadata": {},
   "outputs": [],
   "source": [
    "# Membuat figure dan dua subplot (untuk MSE dan R²)\n",
    "fig, ax = plt.subplots(1, 2, figsize=(14, 6))\n",
    "\n",
    "# Plot rMSE\n",
    "bars_rmse = ax[0].bar(rmses.keys(), rmses.values(), color='skyblue')\n",
    "ax[0].set_title('Root Mean Squared Error (RMSE) Mobil \\n(lower better)')\n",
    "ax[0].set_xlabel('Metode')\n",
    "ax[0].set_ylabel('RMSE')\n",
    "# Menampilkan nilai pada batang RMSE\n",
    "for bar in bars_rmse:\n",
    "    yval = bar.get_height()\n",
    "    ax[0].text(bar.get_x() + bar.get_width()/2, yval, f'{yval:.2f}', ha='center', va='bottom')\n",
    "\n",
    "# Plot MAE\n",
    "bars_mae = ax[1].bar(maes.keys(), maes.values(), color='salmon')\n",
    "ax[1].set_title('Mean Absolute Error  Mobil \\n(lower better)')\n",
    "ax[1].set_xlabel('Metode')\n",
    "ax[1].set_ylabel('MAE')\n",
    "\n",
    "# Menampilkan nilai pada batang RMSE\n",
    "for bar in bars_mae:\n",
    "    yval = bar.get_height()\n",
    "    ax[1].text(bar.get_x() + bar.get_width()/2, yval, f'{yval:.2f}', ha='center', va='bottom')"
   ]
  },
  {
   "cell_type": "code",
   "execution_count": null,
   "id": "8b394e23-3fa0-4124-804c-6414e4bf23b8",
   "metadata": {},
   "outputs": [],
   "source": [
    "print(mses)\n",
    "print(maes)\n",
    "print(rmses)\n",
    "print(r2s)"
   ]
  },
  {
   "cell_type": "code",
   "execution_count": null,
   "id": "de89ff87-a4e1-416f-9189-59aa7c30d5ac",
   "metadata": {},
   "outputs": [],
   "source": [
    "# Gabungkan tabel berdasarkan kolom \"Actual\"\n",
    "result = data_avg.merge(data_rfr[['Predicted_rfr','Residual_rfr']], left_index=True, right_index=True) \\\n",
    "                 .merge(data_gbr[['Predicted_gbr','Residual_gbr']], left_index=True, right_index=True) \\\n",
    "                 .merge(data_dtr[['Predicted_dtr','Residual_dtr']], left_index=True, right_index=True) \\\n",
    "                 .merge(data_nn[['Predicted_nn','Residual_nn']], left_index=True, right_index=True)\n",
    "result.head()"
   ]
  },
  {
   "cell_type": "code",
   "execution_count": null,
   "id": "938453c3-8b4e-4b39-bb53-76c30dd98c9e",
   "metadata": {},
   "outputs": [],
   "source": [
    "import seaborn as sns"
   ]
  },
  {
   "cell_type": "code",
   "execution_count": null,
   "id": "5bd701a1-e836-47b0-afd2-94fe4a1e0c33",
   "metadata": {},
   "outputs": [],
   "source": [
    "# Creating a DataFrame\n",
    "df = result.copy()\n",
    "\n",
    "# Set up the plot grid\n",
    "fig, axes = plt.subplots(3, 2, figsize=(14, 18))\n",
    "fig.suptitle('Residual Analysis by Prediction Method')\n",
    "\n",
    "# Scatter plot for each model's residuals\n",
    "sns.scatterplot(x=df['Predicted_avg'], y=df['Residual_avg'], ax=axes[0, 0])\n",
    "axes[0, 0].axhline(0, color='red', linestyle='--')\n",
    "axes[0, 0].set_title('Residuals vs Predicted (Average)')\n",
    "axes[0, 0].set_xlabel('Predicted_avg')\n",
    "axes[0, 0].set_ylabel('Residual_avg')\n",
    "\n",
    "sns.scatterplot(x=df['Predicted_rfr'], y=df['Residual_rfr'], ax=axes[0, 1])\n",
    "axes[0, 1].axhline(0, color='red', linestyle='--')\n",
    "axes[0, 1].set_title('Residuals vs Predicted (Random Forest)')\n",
    "axes[0, 1].set_xlabel('Predicted_rfr')\n",
    "axes[0, 1].set_ylabel('Residual_rfr')\n",
    "\n",
    "sns.scatterplot(x=df['Predicted_gbr'], y=df['Residual_gbr'], ax=axes[1, 0])\n",
    "axes[1, 0].axhline(0, color='red', linestyle='--')\n",
    "axes[1, 0].set_title('Residuals vs Predicted (Gradient Boosting)')\n",
    "axes[1, 0].set_xlabel('Predicted_gbr')\n",
    "axes[1, 0].set_ylabel('Residual_gbr')\n",
    "\n",
    "sns.scatterplot(x=df['Predicted_dtr'], y=df['Residual_dtr'], ax=axes[1, 1])\n",
    "axes[1, 1].axhline(0, color='red', linestyle='--')\n",
    "axes[1, 1].set_title('Residuals vs Predicted (Decision Tree)')\n",
    "axes[1, 1].set_xlabel('Predicted_dtr')\n",
    "axes[1, 1].set_ylabel('Residual_dtr')\n",
    "\n",
    "sns.scatterplot(x=df['Predicted_nn'], y=df['Residual_nn'], ax=axes[2, 0])\n",
    "axes[2, 0].axhline(0, color='red', linestyle='--')\n",
    "axes[2, 0].set_title('Residuals vs Predicted (Neural Network)')\n",
    "axes[2, 0].set_xlabel('Predicted_nn')\n",
    "axes[2, 0].set_ylabel('Residual_nn')\n",
    "\n",
    "# Hide the last empty plot (since we have an odd number of plots)\n",
    "axes[2, 1].axis('off')\n",
    "\n",
    "plt.tight_layout(rect=[0, 0.03, 1, 0.95])\n",
    "plt.show()"
   ]
  },
  {
   "cell_type": "code",
   "execution_count": null,
   "id": "ce25e132-8744-4b18-a6b3-0c896b556bf7",
   "metadata": {},
   "outputs": [],
   "source": []
  }
 ],
 "metadata": {
  "kernelspec": {
   "display_name": "Python 3 (ipykernel)",
   "language": "python",
   "name": "python3"
  },
  "language_info": {
   "codemirror_mode": {
    "name": "ipython",
    "version": 3
   },
   "file_extension": ".py",
   "mimetype": "text/x-python",
   "name": "python",
   "nbconvert_exporter": "python",
   "pygments_lexer": "ipython3",
   "version": "3.10.12"
  }
 },
 "nbformat": 4,
 "nbformat_minor": 5
}

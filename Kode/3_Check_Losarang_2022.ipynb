{
 "cells": [
  {
   "cell_type": "code",
   "execution_count": 1,
   "id": "de8b0482-d7f4-4a5d-ad2b-a065e7a95cb8",
   "metadata": {},
   "outputs": [],
   "source": [
    "import os\n",
    "import numpy as np\n",
    "import pandas as pd"
   ]
  },
  {
   "cell_type": "code",
   "execution_count": 4,
   "id": "ffa7b032-0111-426f-946d-0a959ba85153",
   "metadata": {},
   "outputs": [],
   "source": [
    "def read_excel(path):\n",
    "    return pd.read_excel(path)\n",
    "\n",
    "def menggabungkan_data(df, missing_times):\n",
    "    # Menggabungkan data hilang dengan DataFrame utama\n",
    "    df = pd.concat([df, missing_times], ignore_index=True)\n",
    "    \n",
    "    # Mengurutkan DataFrame berdasarkan kolom 'Waktu'\n",
    "    df = df.sort_values(by=['TAHUN','BULAN','TANGGAL','HARI','JAM']).reset_index(drop=True)\n",
    "\n",
    "    return df"
   ]
  },
  {
   "cell_type": "code",
   "execution_count": 5,
   "id": "eff0ddb9-7a48-4e7f-b9b4-afece7693010",
   "metadata": {},
   "outputs": [
    {
     "data": {
      "text/html": [
       "<div>\n",
       "<style scoped>\n",
       "    .dataframe tbody tr th:only-of-type {\n",
       "        vertical-align: middle;\n",
       "    }\n",
       "\n",
       "    .dataframe tbody tr th {\n",
       "        vertical-align: top;\n",
       "    }\n",
       "\n",
       "    .dataframe thead th {\n",
       "        text-align: right;\n",
       "    }\n",
       "</style>\n",
       "<table border=\"1\" class=\"dataframe\">\n",
       "  <thead>\n",
       "    <tr style=\"text-align: right;\">\n",
       "      <th></th>\n",
       "      <th>WAKTU</th>\n",
       "      <th>TAHUN</th>\n",
       "      <th>BULAN</th>\n",
       "      <th>TANGGAL</th>\n",
       "      <th>HARI</th>\n",
       "      <th>JAM</th>\n",
       "      <th>MOTOR</th>\n",
       "      <th>MOBIL</th>\n",
       "      <th>TRUK/BUS</th>\n",
       "      <th>JUMLAH</th>\n",
       "      <th>SMP_MTR</th>\n",
       "      <th>SMP_MBL</th>\n",
       "      <th>SMP_TRK</th>\n",
       "      <th>SMP</th>\n",
       "    </tr>\n",
       "  </thead>\n",
       "  <tbody>\n",
       "    <tr>\n",
       "      <th>0</th>\n",
       "      <td>2022-01-01 00:00:00</td>\n",
       "      <td>2022</td>\n",
       "      <td>1</td>\n",
       "      <td>1</td>\n",
       "      <td>Saturday</td>\n",
       "      <td>00:00</td>\n",
       "      <td>185</td>\n",
       "      <td>39</td>\n",
       "      <td>24</td>\n",
       "      <td>248</td>\n",
       "      <td>148.0</td>\n",
       "      <td>39</td>\n",
       "      <td>60.0</td>\n",
       "      <td>247</td>\n",
       "    </tr>\n",
       "    <tr>\n",
       "      <th>1</th>\n",
       "      <td>2022-01-01 00:15:00</td>\n",
       "      <td>2022</td>\n",
       "      <td>1</td>\n",
       "      <td>1</td>\n",
       "      <td>Saturday</td>\n",
       "      <td>00:15</td>\n",
       "      <td>195</td>\n",
       "      <td>64</td>\n",
       "      <td>35</td>\n",
       "      <td>294</td>\n",
       "      <td>156.0</td>\n",
       "      <td>64</td>\n",
       "      <td>87.5</td>\n",
       "      <td>308</td>\n",
       "    </tr>\n",
       "    <tr>\n",
       "      <th>2</th>\n",
       "      <td>2022-01-01 00:30:00</td>\n",
       "      <td>2022</td>\n",
       "      <td>1</td>\n",
       "      <td>1</td>\n",
       "      <td>Saturday</td>\n",
       "      <td>00:30</td>\n",
       "      <td>194</td>\n",
       "      <td>49</td>\n",
       "      <td>17</td>\n",
       "      <td>260</td>\n",
       "      <td>155.2</td>\n",
       "      <td>49</td>\n",
       "      <td>42.5</td>\n",
       "      <td>247</td>\n",
       "    </tr>\n",
       "    <tr>\n",
       "      <th>3</th>\n",
       "      <td>2022-01-01 00:45:00</td>\n",
       "      <td>2022</td>\n",
       "      <td>1</td>\n",
       "      <td>1</td>\n",
       "      <td>Saturday</td>\n",
       "      <td>00:45</td>\n",
       "      <td>162</td>\n",
       "      <td>43</td>\n",
       "      <td>21</td>\n",
       "      <td>226</td>\n",
       "      <td>129.6</td>\n",
       "      <td>43</td>\n",
       "      <td>52.5</td>\n",
       "      <td>225</td>\n",
       "    </tr>\n",
       "    <tr>\n",
       "      <th>4</th>\n",
       "      <td>2022-01-01 01:00:00</td>\n",
       "      <td>2022</td>\n",
       "      <td>1</td>\n",
       "      <td>1</td>\n",
       "      <td>Saturday</td>\n",
       "      <td>01:00</td>\n",
       "      <td>125</td>\n",
       "      <td>58</td>\n",
       "      <td>18</td>\n",
       "      <td>201</td>\n",
       "      <td>100.0</td>\n",
       "      <td>58</td>\n",
       "      <td>45.0</td>\n",
       "      <td>203</td>\n",
       "    </tr>\n",
       "  </tbody>\n",
       "</table>\n",
       "</div>"
      ],
      "text/plain": [
       "                WAKTU  TAHUN  BULAN  TANGGAL      HARI    JAM  MOTOR  MOBIL  \\\n",
       "0 2022-01-01 00:00:00   2022      1        1  Saturday  00:00    185     39   \n",
       "1 2022-01-01 00:15:00   2022      1        1  Saturday  00:15    195     64   \n",
       "2 2022-01-01 00:30:00   2022      1        1  Saturday  00:30    194     49   \n",
       "3 2022-01-01 00:45:00   2022      1        1  Saturday  00:45    162     43   \n",
       "4 2022-01-01 01:00:00   2022      1        1  Saturday  01:00    125     58   \n",
       "\n",
       "   TRUK/BUS  JUMLAH  SMP_MTR  SMP_MBL  SMP_TRK  SMP  \n",
       "0        24     248    148.0       39     60.0  247  \n",
       "1        35     294    156.0       64     87.5  308  \n",
       "2        17     260    155.2       49     42.5  247  \n",
       "3        21     226    129.6       43     52.5  225  \n",
       "4        18     201    100.0       58     45.0  203  "
      ]
     },
     "execution_count": 5,
     "metadata": {},
     "output_type": "execute_result"
    }
   ],
   "source": [
    "path_1 = '../Data/Preprocessing/Data Losarang/2022/3_clean_losarang_2022.xlsx'\n",
    "path_2 = '../Data/Preprocessing/Data Losarang/2022/3_outliers_losarang_2022.xlsx'\n",
    "\n",
    "df_clean = read_excel(path_1)\n",
    "df_outlier = read_excel(path_2)\n",
    "\n",
    "df_compiled = menggabungkan_data(df_clean, df_outlier)\n",
    "df_compiled.head()"
   ]
  },
  {
   "cell_type": "code",
   "execution_count": 6,
   "id": "b636c52e-b1eb-431c-8ef4-11ff4803444b",
   "metadata": {},
   "outputs": [
    {
     "data": {
      "text/plain": [
       "35039"
      ]
     },
     "execution_count": 6,
     "metadata": {},
     "output_type": "execute_result"
    }
   ],
   "source": [
    "len(df_compiled)"
   ]
  },
  {
   "cell_type": "code",
   "execution_count": 7,
   "id": "e48e7aec-ae3f-429b-aee3-eb2fade5cc05",
   "metadata": {},
   "outputs": [],
   "source": [
    "# Buat daftar waktu yang lengkap dari 2022-01-01 00:00:00 hingga 2022-12-31 23:45:00 dengan interval 15 menit\n",
    "time_range = pd.date_range(start='2022-01-01 00:00:00', end='2022-12-31 23:45:00', freq='15T')"
   ]
  },
  {
   "cell_type": "code",
   "execution_count": 9,
   "id": "ad3c06d6-c36b-45b4-bb4a-87086be4773d",
   "metadata": {},
   "outputs": [
    {
     "data": {
      "text/plain": [
       "DatetimeIndex(['2022-01-01 00:00:00', '2022-01-01 00:15:00',\n",
       "               '2022-01-01 00:30:00', '2022-01-01 00:45:00',\n",
       "               '2022-01-01 01:00:00', '2022-01-01 01:15:00',\n",
       "               '2022-01-01 01:30:00', '2022-01-01 01:45:00',\n",
       "               '2022-01-01 02:00:00', '2022-01-01 02:15:00',\n",
       "               ...\n",
       "               '2022-12-31 21:30:00', '2022-12-31 21:45:00',\n",
       "               '2022-12-31 22:00:00', '2022-12-31 22:15:00',\n",
       "               '2022-12-31 22:30:00', '2022-12-31 22:45:00',\n",
       "               '2022-12-31 23:00:00', '2022-12-31 23:15:00',\n",
       "               '2022-12-31 23:30:00', '2022-12-31 23:45:00'],\n",
       "              dtype='datetime64[ns]', length=35040, freq='15T')"
      ]
     },
     "execution_count": 9,
     "metadata": {},
     "output_type": "execute_result"
    }
   ],
   "source": [
    "time_range"
   ]
  },
  {
   "cell_type": "code",
   "execution_count": 10,
   "id": "651faeed-0437-49bb-a4f5-67827ffecea7",
   "metadata": {},
   "outputs": [
    {
     "name": "stdout",
     "output_type": "stream",
     "text": [
      "Waktu yang hilang: {Timestamp('2022-03-01 00:00:00')}\n"
     ]
    }
   ],
   "source": [
    "missing_time = set(time_range) - set(df_compiled['WAKTU'])\n",
    "print(\"Waktu yang hilang:\", missing_time)"
   ]
  },
  {
   "cell_type": "code",
   "execution_count": null,
   "id": "505add0d-94ac-4812-b56d-21bbd0d73b65",
   "metadata": {},
   "outputs": [],
   "source": []
  }
 ],
 "metadata": {
  "kernelspec": {
   "display_name": "Python 3 (ipykernel)",
   "language": "python",
   "name": "python3"
  },
  "language_info": {
   "codemirror_mode": {
    "name": "ipython",
    "version": 3
   },
   "file_extension": ".py",
   "mimetype": "text/x-python",
   "name": "python",
   "nbconvert_exporter": "python",
   "pygments_lexer": "ipython3",
   "version": "3.10.12"
  }
 },
 "nbformat": 4,
 "nbformat_minor": 5
}
